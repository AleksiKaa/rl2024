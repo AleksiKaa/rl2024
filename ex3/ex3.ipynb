{
 "cells": [
  {
   "cell_type": "markdown",
   "id": "53274fb5",
   "metadata": {
    "deletable": false,
    "editable": false,
    "jp-MarkdownHeadingCollapsed": true,
    "nbgrader": {
     "cell_type": "markdown",
     "checksum": "f8a4eb5b52572512594ce9f767e784ef",
     "grade": false,
     "grade_id": "cell-4b5bc7c2e51c6d03",
     "locked": true,
     "schema_version": 3,
     "solution": false,
     "task": false
    },
    "tags": []
   },
   "source": [
    "\n",
    "<div class=\"alert alert-block alert-info\">\n",
    "   <h2 align=\"center\"> <center><b> Reinforcement Learning Assignment 3 - Q Learning </b></center></h2>\n",
    "\n",
    "<br>\n",
    "<center><font size=\"3\">This notebook is a part of teaching material for ELEC-E8125</font></center>\n",
    "<center><font size=\"3\">Sep 4, 2024 - Nov 30, 2024</font></center>\n",
    "<center><font size=\"3\">Aalto University</font></center>\n",
    "</div>\n",
    "\n",
    "\n",
    "<a id='TOC'></a>\n",
    "\n",
    "<div class=\"alert alert-block alert-success\">\n",
    "    \n",
    "# Table of contents\n",
    "* <a href='#1.'> 1. Introduction </a>\n",
    "* <a href='#1.1'> 1.1 Learning Objectives </a>\n",
    "* <a href='#1.2'> 1.2 Code Structure & Files </a>\n",
    "* <a href='#2.'> 2. Cartpole </a>\n",
    "* <a href='#2.'> 3. Lunar Lander </a> \n",
    "* <a href='#4.'> 4. Submitting </a>\n",
    "* <a href='#4.1'> 4.1 Feedback </a>\n",
    "* <a href='#5.'> References</a>\n",
    "\n",
    "<a href='#T1'><b>Student Task 1.</b> Implementing Q-Learning  (25 points) </a>\\\n",
    "<a href='#T2'><b>Student Task 2.</b> Visualizing the Value Function (10 points) </a>\\\n",
    "<a href='#Q1'><b>Student Question 2.1</b> Analyzing the Value Function Heatmap (15 points) </a>\\\n",
    "<a href='#T3'><b>Student Task 3.</b> Investigating Initial Values (10 points) </a>\\\n",
    "<a href='#Q2'><b>Student Question 3.1</b> Analyzing Initial Values (5 points) </a>\\\n",
    "<a href='#Q3'><b>Student Question 3.2</b> Exploration (15 points) </a>\\\n",
    "<a href='#T4'><b>Student Task 4.</b> Using Q-Learning on the Lunar Lander Environment (5 points) </a>\\\n",
    "<a href='#Q4'><b>Student Question 4.1</b> Lunar Lander Performance (15 points) </a>\n",
    "\n",
    "**Total Points:** 100\n",
    "\n",
    "**Estimated runtime of all the cells:** 2 hour "
   ]
  },
  {
   "cell_type": "markdown",
   "id": "e845acab",
   "metadata": {
    "deletable": false,
    "editable": false,
    "nbgrader": {
     "cell_type": "markdown",
     "checksum": "b83672bf7f3be091f160f135ae78d22c",
     "grade": false,
     "grade_id": "cell-0ecccf891e2408d9",
     "locked": true,
     "schema_version": 3,
     "solution": false,
     "task": false
    },
    "tags": []
   },
   "source": [
    "# 1. Introduction <a id='1.'></a>\n",
    "\n",
    "In this exercise, you'll be applying grid-based Q-learning to the **Cartpole** and **LunarLander** environments.\n",
    "\n",
    "## 1.1 Learning Objectives: <a id='1.1'></a>\n",
    "- To understand and develop intuition about Q-learning.\n",
    "- To understand simple exploration methods like GLIE and how exploration effects learning\n",
    "\n",
    "## 1.2 Code Structure & Files <a id='1.2'></a>\n",
    "\n",
    "You don’t have to edit any other file other than ```ex3.ipynb``` to complete this exercise.\n",
    "\n",
    "```\n",
    "├───cfg                           # Config files for environments e.g. define the maximum number of steps in an episode.\n",
    "├───imgs                          # Images used in notebook\n",
    "├───results\n",
    "│   ├───CartPole-v1\n",
    "│   │   └───video                  # Videos saved\n",
    "│   │   │   logging.pkl            # Contains logged data\n",
    "│   │   │   *q_table_e.pkl         # Contains qtable data for epsilon fixed\n",
    "│   │   │   *q_table_glie.pkl      # Contains qtable data for glie\n",
    "│   │   │   *e.png                 # Contains training performance plot for epsilon fixed\n",
    "│   │   │   *glie.png              # Contains training performance plot for glie\n",
    "│   ├───LunarLander-v2\n",
    "│   │   └───video\n",
    "│   │   │   logging.pkl\n",
    "│   │   │   *q_table_e.pkl\n",
    "│   │   │   *q_table_glie.pkl\n",
    "│   │   │   *e.png                 \n",
    "│   │   │   *glie.png              \n",
    "│   ex3.ipynb                      # Main assignment file containing tasks <---------\n",
    "│   setup.py                       # Contains setup function\n",
    "│   utils.py                       # Contains useful functions \n",
    "```\n"
   ]
  },
  {
   "cell_type": "markdown",
   "id": "ff36c86f",
   "metadata": {},
   "source": [
    "## Warnings:\n",
    "\n",
    "- Don’t copy and paste cells within a notebook. This will mess up the tracking metadata and prevent autograding from working.\n",
    "- Only add new cells using the '+' button in the upper toolbar and do not split cells.\n",
    "- Be cautious about things such as copying the whole notebook to Colab to work on it. This has sometimes resulted in removing all notebook metadata, making autograding impossible."
   ]
  },
  {
   "cell_type": "markdown",
   "id": "0c999cc7",
   "metadata": {
    "deletable": false,
    "editable": false,
    "nbgrader": {
     "cell_type": "markdown",
     "checksum": "15066d1f084603d0367d637a21c41cef",
     "grade": false,
     "grade_id": "cell-c2117ccc1c4199d3",
     "locked": true,
     "schema_version": 3,
     "solution": false,
     "task": false
    },
    "tags": []
   },
   "source": [
    "# 2. Cartpole <a id='2.'></a>\n",
    "\n",
    "Recall the Cartpole environment from Exercise 1.\n"
   ]
  },
  {
   "cell_type": "markdown",
   "id": "88cfe17b",
   "metadata": {
    "deletable": false,
    "editable": false,
    "nbgrader": {
     "cell_type": "markdown",
     "checksum": "2524f28d2ba6329fe80ca41bedc61ea5",
     "grade": false,
     "grade_id": "cell-83fe844e90e20c9e",
     "locked": true,
     "schema_version": 3,
     "solution": false,
     "task": false
    },
    "tags": []
   },
   "source": [
    "<a id='T1'></a>\n",
    "<div class=\" alert alert-warning\">\n",
    "    <h3><b>Student Task 1.</b> Implementing Q-Learning  (25 points) </h3> \n",
    "\n",
    "Implement Q-learning as presented in [Sutton and Barto, 2017, Section 6.5][1] for the Cartpole environment. Once you've successfully implemented the `get_action` and `update_q_value` functions,\n",
    "you can compare the two exploration methods:\n",
    "\n",
    "1. Use a constant value of $\\epsilon = 0.1$:\n",
    "    \n",
    "- Training:\n",
    "    ```python\n",
    "    # Training with constant epsilon 0.1\n",
    "    cfg_args = dict(epsilon=0.1, save_video=False)\n",
    "    train(cfg_path=Path().cwd()/'cfg'/'cartpole_v1.yaml', cfg_args=cfg_args)\n",
    "    ```\n",
    "- Testing:\n",
    "    ```python\n",
    "    # Testing with constant epsilon 0.1\n",
    "    cfg_args=dict(epsilon=0.1, save_video=True)\n",
    "    test(cfg_path=Path().cwd()/'cfg'/'cartpole_v1.yaml', cfg_args=cfg_args)\n",
    "    ```\n",
    "- Visualization: To record and visualize the agent's performance, you could set `save_video=True` and run the following:\n",
    "\n",
    "    ```python\n",
    "    Video(Path().cwd()/'results'/'CartPole-v1'/'video'/'test'/'ex3-episode-0.mp4', embed=True, html_attributes=\"loop autoplay\")\n",
    "    ```\n",
    "\n",
    "2. Implement **GLIE** (i.e., *Greedy in the Limit with Infinite Exploration*), which reduces the value of $\\epsilon$ over time. For details on the formula, refer to **[Lecture 3]**.\n",
    "    \n",
    "- Training (Ensure you've determined the correct value for `glie_b`):  \n",
    "    ```python\n",
    "    # Training with GLIE\n",
    "    cfg_args=dict(epsilon='glie', glie_b=<insert-correct-value>, save_video=False) # insert correct value for glie_b\n",
    "    train(cfg_path=Path().cwd()/'cfg'/'cartpole_v1.yaml', cfg_args=cfg_args) # < 30 mins\n",
    "    ```\n",
    "- Testing:\n",
    " \n",
    "    ```python\n",
    "    # Testing with GLIE\n",
    "    cfg_args=dict(epsilon='glie', save_video=True)\n",
    "    test(cfg_path=Path().cwd()/'cfg'/'cartpole_v1.yaml', cfg_args=cfg_args)\n",
    "    ```\n",
    "- Visualization: To record and visualize the agent's performance, you could set `save_video=True` and run the following:\n",
    "\n",
    "    ```python\n",
    "    Video(Path().cwd()/'results'/'CartPole-v1'/'video'/'test'/'ex3-episode-0.mp4', embed=True, html_attributes=\"loop autoplay\")\n",
    "    ```\n",
    "    \n",
    "These videos will be stored in the **results** folder.\n",
    "\n",
    "**Note:** Before you proceed with the \"Training with GLIE\" method, ensure you have completed the \"Training with a constant epsilon\" steps. Since the video save path is the same, the results will be overwritten.\n",
    "\n",
    "---\n",
    "\n",
    "**Please attach the following files to your submission:**\n",
    "\n",
    "- Training performance plots:\n",
    "  - `task1_e.png`: This file represents the episode versus the smoothed episodic reward for the constant exploration rate.\n",
    "  - `task1_glie.png`: This file represents the episode versus the smoothed episodic reward for GLIE.\n",
    "\n",
    "- Q-table files:\n",
    "  - `task1_q_table_e.pkl`: Q-table for the constant exploration rate.\n",
    "  - `task1_q_table_glie.pkl`: Q-table for GLIE.\n",
    "\n",
    "Ensure all files are correctly named and included.\n",
    "\n",
    "\n",
    "<figure style=\"text-align: center\">\n",
    "<img src=\"imgs/ep_reward.png\" width=\"600px\">\n",
    "<figcaption style=\"text-align: center\"> Figure 1: The training performance plot should look similar to the one presented here when using GLIE  </figcaption>\n",
    "</figure>\n",
    "\n",
    "### References\n",
    "[1]: http://incompleteideas.net/book/RLbook2018.pdf\n",
    "[Sutton and Barto, 2017]: Sutton, Richard S., and Andrew G. Barto. \"Reinforcement Learning: An Introduction (in progress).\" London, England (2017).\n",
    "    \n",
    "🔝\t<a href='#TOC'><b>Table of Contents</b></a>\n",
    "</div>\n",
    "\n"
   ]
  },
  {
   "cell_type": "code",
   "execution_count": 1,
   "id": "4375e55b",
   "metadata": {
    "tags": []
   },
   "outputs": [],
   "source": [
    "skip_training = False  # Set this flag to True before validation and submission"
   ]
  },
  {
   "cell_type": "code",
   "execution_count": null,
   "id": "db1eacb1",
   "metadata": {
    "deletable": false,
    "editable": false,
    "nbgrader": {
     "cell_type": "code",
     "checksum": "92d6d673e50350c2b0b437bc2a2803a9",
     "grade": true,
     "grade_id": "cell-6d789f0e8b41dcd4",
     "locked": true,
     "points": 0,
     "schema_version": 3,
     "solution": false,
     "task": false
    }
   },
   "outputs": [],
   "source": []
  },
  {
   "cell_type": "code",
   "execution_count": 2,
   "id": "47d6ce86",
   "metadata": {
    "tags": []
   },
   "outputs": [],
   "source": [
    "# --- Standard Libraries ---\n",
    "from pathlib import Path\n",
    "from collections import deque\n",
    "import warnings\n",
    "import os\n",
    "\n",
    "# --- Third-party Libraries ---\n",
    "import numpy as np  # Fundamental package for scientific computing\n",
    "from IPython.display import Video  # For displaying videos in the notebook\n",
    "import seaborn as sns\n",
    "import matplotlib.pyplot as plt\n",
    "import pandas as pd\n",
    "\n",
    "# --- Custom Modules ---\n",
    "from setup import setup  # Setup functions for training\n",
    "import utils as u  # Helper functions for the notebook\n",
    "\n",
    "# --- Configurations ---\n",
    "# Set working directory to 'results'\n",
    "work_dir = Path().cwd() / 'results'\n",
    "\n",
    "# Suppress DeprecationWarnings\n",
    "warnings.filterwarnings(\"ignore\", category=DeprecationWarning)"
   ]
  },
  {
   "cell_type": "code",
   "execution_count": 3,
   "id": "b91287ed",
   "metadata": {
    "tags": []
   },
   "outputs": [],
   "source": [
    "def init_q_table(observation_space, action_dim, discr, bool_position=None, init_q=0.):\n",
    "    \"\"\"\n",
    "    Initialize a Q-table for the given observation space and actions.\n",
    "    \n",
    "    Parameters:\n",
    "    - observation_space: The state space of the environment.\n",
    "    - action_dim: The number of possible actions.\n",
    "    - discr: The number of divisions for discretization.\n",
    "    - bool_position: Indexes where the observation space has boolean values.\n",
    "    - init_q: Initial value for the Q-table.\n",
    "    \n",
    "    Returns:\n",
    "    - axis: A list of numpy arrays representing the discrete states. \n",
    "            Each array's length corresponds to either 'discr' or 2 (for boolean values).\n",
    "    - q_table: The initialized Q-table. Its shape is determined by [*axis dimensions, action_dim].\n",
    "               For example, if the axis dimensions were [10, 10] and action_dim was 3, \n",
    "               the q_table shape would be [10, 10, 3].\n",
    "    \"\"\"\n",
    "    high_values = observation_space.high\n",
    "    low_values = observation_space.low\n",
    "    axis = []\n",
    "    for idx, (low_val, high_val) in enumerate(zip(low_values, high_values)):\n",
    "        # here to avoid inf boundary, we truncate the value to [-4, 4] \n",
    "        if low_val < -1e10: low_val = -4\n",
    "        if high_val > 1e10: high_val = 4\n",
    "        \n",
    "        if (bool_position is not None) and (idx in bool_position):\n",
    "            axis.append(np.linspace(low_val, high_val, 2, dtype=np.float32)) # for boolean, we only have two values: 1., 0.\n",
    "        else:\n",
    "            axis.append(np.linspace(low_val, high_val, discr, dtype=np.float32))\n",
    "    _shape = [ax.shape[0] for ax in axis] + [action_dim]\n",
    "    q_table = np.zeros(_shape) + init_q\n",
    "    return axis, q_table\n",
    "\n",
    "def get_table_idx(state, axis):\n",
    "    \"\"\"\n",
    "    Give a state, discretize it, and return the index in each dimension (axis). \n",
    "    With the returned index, you can access q(s,.) with q_table[idx].\n",
    "    \n",
    "    Parameters:\n",
    "    - state: The state to be discretized. \n",
    "    - axis: The discrete state space as a list of numpy arrays. \n",
    "    \n",
    "    Returns:\n",
    "    - idx: A tuple representing the index of the discretized state in the Q-table. \n",
    "           Its shape matches the dimensions of the provided 'axis'.\n",
    "    \"\"\"\n",
    "    def _get_ax_idx(ax, value):\n",
    "        return np.argmin(np.abs(ax - value))\n",
    "    return tuple([_get_ax_idx(ax, value) for ax, value in zip(axis, state)])"
   ]
  },
  {
   "cell_type": "code",
   "execution_count": 4,
   "id": "a6b139b4",
   "metadata": {
    "tags": []
   },
   "outputs": [],
   "source": [
    "def get_action(state, q_axis, q_table, epsilon=0.0):\n",
    "    \"\"\"\n",
    "    Determine the action to take based on epsilon-greedy strategy.\n",
    "    \n",
    "    Parameters:\n",
    "    - state: The current state of the agent.\n",
    "    - q_axis: The discrete state space as a list of numpy arrays.\n",
    "    - q_table: The Q-table with learned values.\n",
    "    - epsilon: The probability with which a random action is taken (exploration). \n",
    "               Default is 0 (purely greedy).\n",
    "    \n",
    "    Returns:\n",
    "    - action: The chosen action, either greedily or randomly based on epsilon.\n",
    "    \"\"\"\n",
    "    # if epsilon == 0.0, the policy will be greedy -- always choose the best action\n",
    "    '''\n",
    "    # TODO: Task 1, implement epsilon-greedy\n",
    "    # 1. Discretize the given state by using the get_table_idx(state, axis) function\n",
    "    # 2. Use the discretized state's index to access the Q-table\n",
    "    # 3. Generate a random number between 0 and 1.\n",
    "    # 4. Compare this number to `epsilon`\n",
    "    # 5. If the random number is less than `epsilon`, choose a random action.\n",
    "    # 6. Otherwise, choose the best action (greedy action)\n",
    "    '''\n",
    "    ########## Your code starts here ##########\n",
    "    \n",
    "    discrete_state = get_table_idx(state, q_axis)\n",
    "    action_values = q_table[discrete_state]\n",
    "    \n",
    "    action = np.argmax(action_values)\n",
    "    \n",
    "    if np.random.rand() < epsilon:\n",
    "        # Get actions\n",
    "        actions = np.arange(action_values.size)\n",
    "        # Remove the best action\n",
    "        actions = np.delete(actions, action)\n",
    "        # Pick random action\n",
    "        action = np.random.choice(actions)\n",
    "    \n",
    "    ########## Your code ends here #########\n",
    "    return action\n",
    "\n",
    "\n",
    "def update_q_value(old_state, action, new_state, gamma, reward, done, alpha, q_axis, q_table):\n",
    "    \"\"\"\n",
    "    Update the Q-value for a state-action pair based on the Q-learning update rule.\n",
    "    \n",
    "    Parameters:\n",
    "    - old_state: The original state before taking the action.\n",
    "    - action: The action taken.\n",
    "    - new_state: The state after taking the action.\n",
    "    - gamma: Discount factor.\n",
    "    - reward: Immediate reward for taking the action.\n",
    "    - done: Boolean indicating if the episode is done.\n",
    "    - alpha: Learning rate.\n",
    "    - q_axis: The discrete state space as a list of numpy arrays.\n",
    "    - q_table: The Q-table with learned values.\n",
    "    \n",
    "    Returns:\n",
    "    - q_table: Updated Q-table.\n",
    "    \"\"\"\n",
    "\n",
    "    # q_table contains discretized state-action space (16, 16, 16, 16, 2) values\n",
    "    # Each observation is discritized 16 times and the last dimension are the two\n",
    "    # actions that can be taken. \n",
    "    '''\n",
    "    # TODO: Task 1, update q value\n",
    "    # 1. Retrieve Old Q-Value\n",
    "    # 2. Determine the Next Action\n",
    "    # 3. Retrieve New Q-Value\n",
    "    #     If the episode isn't done, get the Q-value for the new_state and next_action.\n",
    "    #     If the episode is done, set the new Q-value to zero.\n",
    "    # 4. Compute the Updated Q-Value\n",
    "    # 5. Update the Q-Table \n",
    "    # 6. Return the Updated Q-Table\n",
    "    '''\n",
    "    old_table_idx = get_table_idx(old_state, q_axis) # idx of q(s_old, *)\n",
    "    new_table_idx = get_table_idx(new_state, q_axis) # idx of q(s_new, *)  \n",
    "    ########## Your code starts here ########## \n",
    "    \n",
    "    old_v = q_table[old_table_idx][action]\n",
    "    next_action = get_action(new_state, q_axis, q_table)\n",
    "    #new_v = q_table[new_table_idx][next_action]\n",
    "    \n",
    "    if done:\n",
    "        new_v = 0\n",
    "    else:\n",
    "        new_v = q_table[new_table_idx][next_action]\n",
    "    \n",
    "    new_value = old_v + alpha * (reward + gamma * new_v - old_v)    \n",
    "    q_table[old_table_idx][action] = new_value\n",
    "    \n",
    "    ########### Your code ends here ########## \n",
    "    return q_table"
   ]
  },
  {
   "cell_type": "code",
   "execution_count": 5,
   "id": "7d0d958b",
   "metadata": {
    "deletable": false,
    "editable": false,
    "nbgrader": {
     "cell_type": "code",
     "checksum": "dc16991d5ec22369589192a57b098e56",
     "grade": true,
     "grade_id": "cell-b84fd8ddc27262ad",
     "locked": true,
     "points": 5,
     "schema_version": 3,
     "solution": false,
     "task": false
    },
    "tags": []
   },
   "outputs": [],
   "source": [
    "# test the get_action function \n",
    "\n",
    "def test_get_action():\n",
    "    test_state = [1,0]\n",
    "    test_qaxis = np.array([-4.,3.]), np.array([-4. ,-6. ])\n",
    "\n",
    "    test_qtable = np.array([[[0.49364422, 0.83209827],[0.987027,  0.48691833]],[[0.40560464, 0.26888288],[0.90825581, 0.88758134]]])\n",
    "    assert get_action(test_state, test_qaxis, test_qtable, epsilon=0) == 0\n",
    "    test_qtable = np.array([[[0.49364422, 0.83209827],[0.987027,  0.48691833]],[[-0.40560464, 0.26888288],[0.90825581, 0.88758134]]])\n",
    "    assert get_action(test_state, test_qaxis, test_qtable, epsilon=0) == 1\n",
    "\n",
    "\n",
    "# test update_q_value function\n",
    "def test_update_q_value():\n",
    "    test_state = [1,0]\n",
    "    test_qaxis = np.array([-4.,3.]), np.array([-4. ,-6. ])\n",
    "    test_qtable = np.array([[[0.49364422, 0.83209827],[0.987027,  0.48691833]],[[-0.40560464, 0.26888288],[0.90825581, 0.88758134]]])\n",
    "    new_test_state = [0,1]\n",
    "    reward = 1\n",
    "    gamma = 0.9\n",
    "    done = False\n",
    "    action = 0\n",
    "    alpha = 1\n",
    "    updated_q_value = update_q_value(test_state, action, new_test_state, gamma, reward, done, alpha, test_qaxis, test_qtable)\n",
    "    assert np.allclose(updated_q_value, np.array([[[0.49364422, 0.83209827],[0.987027  , 0.48691833]],[[1.24199459, 0.26888288],[0.90825581, 0.88758134]]]), 0.001)\n",
    "\n",
    "test_get_action()\n",
    "test_update_q_value()"
   ]
  },
  {
   "cell_type": "code",
   "execution_count": 6,
   "id": "62297b95-5f55-4dcc-827b-ff984ae99bd2",
   "metadata": {
    "tags": []
   },
   "outputs": [],
   "source": [
    "def plot_training_data(training_data, save_path):\n",
    "    df = pd.DataFrame(training_data)\n",
    "    plt.figure(figsize=(5, 3.5))\n",
    "    sns.lineplot(data=df, x='episode', y='ep_reward_avg')\n",
    "    plt.title('Training Performance')\n",
    "    plt.savefig(save_path)\n",
    "    plt.show()\n",
    "\n",
    "def train(cfg_path, cfg_args={}):\n",
    "    env, cfg = setup(cfg_path, cfg_args=cfg_args)\n",
    "    performance_data = []\n",
    "\n",
    "    # init q_table with zeros\n",
    "    q_axis, q_table = init_q_table(env.observation_space, \n",
    "        env.action_space.n, cfg.discr, bool_position=cfg.bool_position, init_q=cfg.initial_q)\n",
    "\n",
    "    # begin training and testing\n",
    "    ep_reward_deque = deque([], maxlen=500)  # used to calculate the smoothed (avg over recent 500 episodes) ep_reward\n",
    "    for ep in range(cfg.train_episodes + 1):\n",
    "        # set epsilon value\n",
    "        if cfg.epsilon == 'glie':\n",
    "            epsilon = cfg.glie_b / (cfg.glie_b + ep)  \n",
    "        elif isinstance(cfg.epsilon, (int, float)):\n",
    "            epsilon = cfg.epsilon\n",
    "        else: \n",
    "            raise ValueError\n",
    "        \n",
    "        (state, _), done, ep_reward, timesteps = env.reset(), False, 0, 0\n",
    "        while not done:\n",
    "            action = get_action(state, q_axis, q_table, epsilon=epsilon) \n",
    "            new_state, reward, done, _, _ = env.step(action)\n",
    "            q_table = update_q_value(state, action, new_state, cfg.gamma, reward, done, cfg.alpha,\n",
    "                                        q_axis, q_table)\n",
    "    \n",
    "            state = new_state\n",
    "            ep_reward += reward\n",
    "            timesteps += 1\n",
    "            if timesteps >= env.spec.max_episode_steps:\n",
    "                done = True\n",
    "                \n",
    "        ep_reward_deque.append(ep_reward)\n",
    "        info = {\n",
    "            'episode': ep,\n",
    "            'epsilon': epsilon,\n",
    "            'ep_reward': ep_reward,\n",
    "            'timesteps': timesteps,\n",
    "            'ep_reward_avg': np.mean(list(ep_reward_deque))\n",
    "        }\n",
    "\n",
    "        performance_data.append(info)\n",
    "        \n",
    "\n",
    "        if (not cfg.silent) and (ep % 500 == 0): print(info)\n",
    "    \n",
    "    work_dir = Path().cwd()/'results'/f'{cfg.env_name}'\n",
    "      \n",
    "    # save the q-value table and q_axis\n",
    "    file_pre = f\"{cfg.task_no}_\" if hasattr(cfg, 'task_no') else \"\"\n",
    "    file = file_pre + 'q_table_glie.pkl' if cfg.epsilon == 'glie' else file_pre + 'q_table_e.pkl'\n",
    "    u.save_object({'q_table': q_table, 'axis': q_axis},\n",
    "                        work_dir/file)\n",
    "    png_file = file_pre + '_glie.png' if cfg.epsilon == 'glie' else file_pre + '_e.png'\n",
    "    plot_training_data(performance_data, work_dir/png_file)\n",
    "    print('Training done!')\n",
    "\n",
    "    \n",
    "def test(cfg_path, cfg_args={'testing':True}):\n",
    "    \n",
    "    cfg_args.update({'testing':True})\n",
    "    env, cfg = setup(cfg_path, cfg_args=cfg_args)\n",
    "    \n",
    "    work_dir = Path().cwd()/'results'/f'{cfg.env_name}'\n",
    "    \n",
    "    # load q_table\n",
    "    file_pre = f\"{cfg.task_no}_\" if hasattr(cfg, 'task_no') else \"\"\n",
    "    file = file_pre + 'q_table_glie.pkl' if cfg.epsilon == 'glie' else file_pre + 'q_table_e.pkl'\n",
    "    data = u.load_object(work_dir/file)\n",
    "    q_axis, q_table = data['axis'], data['q_table']\n",
    "\n",
    "    # begin testing\n",
    "    for ep in range(cfg.test_episodes):\n",
    "        (state, _), done, ep_reward, timesteps = env.reset(), False, 0, 0\n",
    "        while not done:\n",
    "            action = get_action(state, q_axis, q_table, epsilon=0.0) # be greedy during testing\n",
    "            new_state, reward, done, _, _ = env.step(action)\n",
    "\n",
    "            state = new_state\n",
    "            ep_reward += reward\n",
    "            timesteps += 1\n",
    "        \n",
    "        info = {\n",
    "            'test_episode': ep,\n",
    "            'test_ep_reward': ep_reward,\n",
    "            'timesteps': timesteps,\n",
    "        }\n",
    "\n",
    "        if not cfg.silent: print(info)\n",
    "    \n",
    "    print('Testing done!')\n",
    "\n"
   ]
  },
  {
   "cell_type": "code",
   "execution_count": 7,
   "id": "329021c3-84d8-409b-9d48-d06383b912a7",
   "metadata": {
    "tags": []
   },
   "outputs": [
    {
     "name": "stdout",
     "output_type": "stream",
     "text": [
      "Numpy/Torch/Random Seed:  408\n",
      "{'episode': 0, 'epsilon': 0.1, 'ep_reward': 10.0, 'timesteps': 10, 'ep_reward_avg': 10.0}\n",
      "{'episode': 500, 'epsilon': 0.1, 'ep_reward': 12.0, 'timesteps': 12, 'ep_reward_avg': 10.976}\n",
      "{'episode': 1000, 'epsilon': 0.1, 'ep_reward': 23.0, 'timesteps': 23, 'ep_reward_avg': 16.028}\n",
      "{'episode': 1500, 'epsilon': 0.1, 'ep_reward': 42.0, 'timesteps': 42, 'ep_reward_avg': 69.498}\n",
      "{'episode': 2000, 'epsilon': 0.1, 'ep_reward': 51.0, 'timesteps': 51, 'ep_reward_avg': 123.338}\n",
      "{'episode': 2500, 'epsilon': 0.1, 'ep_reward': 231.0, 'timesteps': 231, 'ep_reward_avg': 178.048}\n",
      "{'episode': 3000, 'epsilon': 0.1, 'ep_reward': 124.0, 'timesteps': 124, 'ep_reward_avg': 203.48}\n",
      "{'episode': 3500, 'epsilon': 0.1, 'ep_reward': 264.0, 'timesteps': 264, 'ep_reward_avg': 200.752}\n",
      "{'episode': 4000, 'epsilon': 0.1, 'ep_reward': 122.0, 'timesteps': 122, 'ep_reward_avg': 204.77}\n",
      "{'episode': 4500, 'epsilon': 0.1, 'ep_reward': 500.0, 'timesteps': 500, 'ep_reward_avg': 218.06}\n",
      "{'episode': 5000, 'epsilon': 0.1, 'ep_reward': 314.0, 'timesteps': 314, 'ep_reward_avg': 236.262}\n",
      "{'episode': 5500, 'epsilon': 0.1, 'ep_reward': 141.0, 'timesteps': 141, 'ep_reward_avg': 226.694}\n",
      "{'episode': 6000, 'epsilon': 0.1, 'ep_reward': 169.0, 'timesteps': 169, 'ep_reward_avg': 256.276}\n",
      "{'episode': 6500, 'epsilon': 0.1, 'ep_reward': 108.0, 'timesteps': 108, 'ep_reward_avg': 264.042}\n",
      "{'episode': 7000, 'epsilon': 0.1, 'ep_reward': 355.0, 'timesteps': 355, 'ep_reward_avg': 238.794}\n",
      "{'episode': 7500, 'epsilon': 0.1, 'ep_reward': 471.0, 'timesteps': 471, 'ep_reward_avg': 254.962}\n",
      "{'episode': 8000, 'epsilon': 0.1, 'ep_reward': 263.0, 'timesteps': 263, 'ep_reward_avg': 254.378}\n",
      "{'episode': 8500, 'epsilon': 0.1, 'ep_reward': 106.0, 'timesteps': 106, 'ep_reward_avg': 264.59}\n",
      "{'episode': 9000, 'epsilon': 0.1, 'ep_reward': 411.0, 'timesteps': 411, 'ep_reward_avg': 250.112}\n",
      "{'episode': 9500, 'epsilon': 0.1, 'ep_reward': 293.0, 'timesteps': 293, 'ep_reward_avg': 268.188}\n",
      "{'episode': 10000, 'epsilon': 0.1, 'ep_reward': 68.0, 'timesteps': 68, 'ep_reward_avg': 246.14}\n",
      "{'episode': 10500, 'epsilon': 0.1, 'ep_reward': 302.0, 'timesteps': 302, 'ep_reward_avg': 269.32}\n",
      "{'episode': 11000, 'epsilon': 0.1, 'ep_reward': 93.0, 'timesteps': 93, 'ep_reward_avg': 225.954}\n",
      "{'episode': 11500, 'epsilon': 0.1, 'ep_reward': 274.0, 'timesteps': 274, 'ep_reward_avg': 248.244}\n",
      "{'episode': 12000, 'epsilon': 0.1, 'ep_reward': 500.0, 'timesteps': 500, 'ep_reward_avg': 273.648}\n",
      "{'episode': 12500, 'epsilon': 0.1, 'ep_reward': 395.0, 'timesteps': 395, 'ep_reward_avg': 252.928}\n",
      "{'episode': 13000, 'epsilon': 0.1, 'ep_reward': 111.0, 'timesteps': 111, 'ep_reward_avg': 254.858}\n",
      "{'episode': 13500, 'epsilon': 0.1, 'ep_reward': 317.0, 'timesteps': 317, 'ep_reward_avg': 256.594}\n",
      "{'episode': 14000, 'epsilon': 0.1, 'ep_reward': 388.0, 'timesteps': 388, 'ep_reward_avg': 280.172}\n",
      "{'episode': 14500, 'epsilon': 0.1, 'ep_reward': 169.0, 'timesteps': 169, 'ep_reward_avg': 220.372}\n",
      "{'episode': 15000, 'epsilon': 0.1, 'ep_reward': 176.0, 'timesteps': 176, 'ep_reward_avg': 262.966}\n",
      "{'episode': 15500, 'epsilon': 0.1, 'ep_reward': 307.0, 'timesteps': 307, 'ep_reward_avg': 289.568}\n",
      "{'episode': 16000, 'epsilon': 0.1, 'ep_reward': 333.0, 'timesteps': 333, 'ep_reward_avg': 309.21}\n",
      "{'episode': 16500, 'epsilon': 0.1, 'ep_reward': 125.0, 'timesteps': 125, 'ep_reward_avg': 305.814}\n",
      "{'episode': 17000, 'epsilon': 0.1, 'ep_reward': 222.0, 'timesteps': 222, 'ep_reward_avg': 283.146}\n",
      "{'episode': 17500, 'epsilon': 0.1, 'ep_reward': 304.0, 'timesteps': 304, 'ep_reward_avg': 326.79}\n",
      "{'episode': 18000, 'epsilon': 0.1, 'ep_reward': 266.0, 'timesteps': 266, 'ep_reward_avg': 314.656}\n",
      "{'episode': 18500, 'epsilon': 0.1, 'ep_reward': 242.0, 'timesteps': 242, 'ep_reward_avg': 265.874}\n",
      "{'episode': 19000, 'epsilon': 0.1, 'ep_reward': 158.0, 'timesteps': 158, 'ep_reward_avg': 318.276}\n",
      "{'episode': 19500, 'epsilon': 0.1, 'ep_reward': 240.0, 'timesteps': 240, 'ep_reward_avg': 278.162}\n",
      "{'episode': 20000, 'epsilon': 0.1, 'ep_reward': 249.0, 'timesteps': 249, 'ep_reward_avg': 303.378}\n"
     ]
    },
    {
     "data": {
      "image/png": "[encoded data removed]",
      "text/plain": [
       "<Figure size 500x350 with 1 Axes>"
      ]
     },
     "metadata": {},
     "output_type": "display_data"
    },
    {
     "name": "stdout",
     "output_type": "stream",
     "text": [
      "Training done!\n"
     ]
    }
   ],
   "source": [
    "# Training with constant epsilon 0.1\n",
    "if not skip_training:\n",
    "    cfg_args=dict(epsilon=0.1, save_video=False)\n",
    "    train(cfg_path=Path().cwd()/'cfg'/'cartpole_v1.yaml', cfg_args=cfg_args) # < 30 mins"
   ]
  },
  {
   "cell_type": "markdown",
   "id": "e7acf49c-9f83-4363-b5e8-052214ef04e2",
   "metadata": {
    "tags": []
   },
   "source": [
    "![plot_e](./results/CartPole-v1/task1__e.png)"
   ]
  },
  {
   "cell_type": "code",
   "execution_count": 8,
   "id": "8d603c2a-5582-4a7b-a04b-7b6ba03fc89d",
   "metadata": {
    "tags": []
   },
   "outputs": [
    {
     "name": "stdout",
     "output_type": "stream",
     "text": [
      "Numpy/Torch/Random Seed:  408\n"
     ]
    },
    {
     "name": "stderr",
     "output_type": "stream",
     "text": [
      "/opt/software/lib/python3.10/site-packages/gymnasium/wrappers/record_video.py:87: UserWarning: \u001b[33mWARN: Overwriting existing videos at /notebooks/rl2024/ex3/results/CartPole-v1/video/test folder (try specifying a different `video_folder` for the `RecordVideo` wrapper if this is not desired)\u001b[0m\n",
      "  logger.warn(\n"
     ]
    },
    {
     "name": "stdout",
     "output_type": "stream",
     "text": [
      "{'test_episode': 0, 'test_ep_reward': 549.0, 'timesteps': 549}\n",
      "{'test_episode': 1, 'test_ep_reward': 557.0, 'timesteps': 557}\n",
      "{'test_episode': 2, 'test_ep_reward': 514.0, 'timesteps': 514}\n",
      "{'test_episode': 3, 'test_ep_reward': 1417.0, 'timesteps': 1417}\n",
      "{'test_episode': 4, 'test_ep_reward': 1078.0, 'timesteps': 1078}\n",
      "{'test_episode': 5, 'test_ep_reward': 400.0, 'timesteps': 400}\n",
      "{'test_episode': 6, 'test_ep_reward': 743.0, 'timesteps': 743}\n",
      "{'test_episode': 7, 'test_ep_reward': 372.0, 'timesteps': 372}\n",
      "{'test_episode': 8, 'test_ep_reward': 498.0, 'timesteps': 498}\n",
      "{'test_episode': 9, 'test_ep_reward': 379.0, 'timesteps': 379}\n",
      "Testing done!\n"
     ]
    }
   ],
   "source": [
    "# Testing with constant epsilon 0.1\n",
    "if not skip_training:\n",
    "    cfg_args=dict(epsilon=0.1, save_video=True)\n",
    "    test(cfg_path=Path().cwd()/'cfg'/'cartpole_v1.yaml', cfg_args=cfg_args)"
   ]
  },
  {
   "cell_type": "code",
   "execution_count": null,
   "id": "0c840efe",
   "metadata": {
    "deletable": false,
    "editable": false,
    "nbgrader": {
     "cell_type": "code",
     "checksum": "ad7d05103e53861c49975c1d2361488a",
     "grade": true,
     "grade_id": "cell-847ab0bf4eb63619",
     "locked": true,
     "points": 0,
     "schema_version": 3,
     "solution": false,
     "task": false
    }
   },
   "outputs": [],
   "source": []
  },
  {
   "cell_type": "code",
   "execution_count": null,
   "id": "c3ea5fd1",
   "metadata": {
    "deletable": false,
    "editable": false,
    "nbgrader": {
     "cell_type": "code",
     "checksum": "d0564f2e3a7abff5b2e4abdb8d16932e",
     "grade": true,
     "grade_id": "cell-dd274e845abca949",
     "locked": true,
     "points": 20,
     "schema_version": 3,
     "solution": false,
     "task": false
    }
   },
   "outputs": [],
   "source": []
  },
  {
   "cell_type": "markdown",
   "id": "2f6dd079-2502-4c2c-bd8e-0ac321b5826d",
   "metadata": {},
   "source": [
    "To visualize how the agent acts within the environment, execute the cell below. **Modify the path** to select the episode you'd like to observe. Remember, by default, videos are saved every 500 episodes during training."
   ]
  },
  {
   "cell_type": "code",
   "execution_count": 9,
   "id": "356b9226-601e-4ba3-ae3b-05f5ea36d3ca",
   "metadata": {
    "tags": []
   },
   "outputs": [
    {
     "data": {
      "text/html": [
       "<video loop autoplay  >\n",
       " <source src=\"data:video/mp4;base64,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\" type=\"video/mp4\">\n",
       " Your browser does not support the video tag.\n",
       " </video>"
      ],
      "text/plain": [
       "<IPython.core.display.Video object>"
      ]
     },
     "metadata": {},
     "output_type": "display_data"
    }
   ],
   "source": [
    "# Visualizing the results with constant epsilon 0.1\n",
    "if not skip_training:\n",
    "      video = Video(Path().cwd()/'results'/'CartPole-v1'/'video'/'test'/'ex3-episode-3.mp4',\n",
    "      embed=True, html_attributes=\"loop autoplay\") # Set html_attributes=\"controls\" for video control\n",
    "      display(video)"
   ]
  },
  {
   "cell_type": "markdown",
   "id": "9f187979-feb2-4833-a11a-68cfacc62080",
   "metadata": {},
   "source": [
    "\n",
    "**Important Reminder:** Before initiating the \"Training with GLIE\" process, make sure you've fully executed the steps under \"Training with a constant epsilon\". Be cautious, as the video save path remains identical; thus, any previous results will be overwritten.\n"
   ]
  },
  {
   "cell_type": "code",
   "execution_count": 10,
   "id": "4f5da29e-f3f3-4b23-b879-a7786eb25c94",
   "metadata": {
    "tags": []
   },
   "outputs": [
    {
     "name": "stdout",
     "output_type": "stream",
     "text": [
      "Numpy/Torch/Random Seed:  408\n",
      "{'episode': 0, 'epsilon': 1.0, 'ep_reward': 11.0, 'timesteps': 11, 'ep_reward_avg': 11.0}\n",
      "{'episode': 500, 'epsilon': 0.8163115356355621, 'ep_reward': 11.0, 'timesteps': 11, 'ep_reward_avg': 18.342}\n",
      "{'episode': 1000, 'epsilon': 0.6896337678460583, 'ep_reward': 24.0, 'timesteps': 24, 'ep_reward_avg': 15.786}\n",
      "{'episode': 1500, 'epsilon': 0.5969908651262762, 'ep_reward': 14.0, 'timesteps': 14, 'ep_reward_avg': 16.89}\n",
      "{'episode': 2000, 'epsilon': 0.5262908574135481, 'ep_reward': 10.0, 'timesteps': 10, 'ep_reward_avg': 18.876}\n",
      "{'episode': 2500, 'epsilon': 0.470563320626853, 'ep_reward': 40.0, 'timesteps': 40, 'ep_reward_avg': 23.686}\n",
      "{'episode': 3000, 'epsilon': 0.42550746840291076, 'ep_reward': 45.0, 'timesteps': 45, 'ep_reward_avg': 27.124}\n",
      "{'episode': 3500, 'epsilon': 0.388325760223698, 'ep_reward': 19.0, 'timesteps': 19, 'ep_reward_avg': 31.088}\n",
      "{'episode': 4000, 'epsilon': 0.3571198971391835, 'ep_reward': 23.0, 'timesteps': 23, 'ep_reward_avg': 39.392}\n",
      "{'episode': 4500, 'epsilon': 0.330556382029158, 'ep_reward': 21.0, 'timesteps': 21, 'ep_reward_avg': 47.258}\n",
      "{'episode': 5000, 'epsilon': 0.3076710052617004, 'ep_reward': 106.0, 'timesteps': 106, 'ep_reward_avg': 56.774}\n",
      "{'episode': 5500, 'epsilon': 0.28774928774928776, 'ep_reward': 118.0, 'timesteps': 118, 'ep_reward_avg': 72.472}\n",
      "{'episode': 6000, 'epsilon': 0.27025054731208953, 'ep_reward': 17.0, 'timesteps': 17, 'ep_reward_avg': 78.52}\n",
      "{'episode': 6500, 'epsilon': 0.2547580830084843, 'ep_reward': 21.0, 'timesteps': 21, 'ep_reward_avg': 95.59}\n",
      "{'episode': 7000, 'epsilon': 0.24094556495337238, 'ep_reward': 158.0, 'timesteps': 158, 'ep_reward_avg': 98.422}\n",
      "{'episode': 7500, 'epsilon': 0.22855379551532606, 'ep_reward': 137.0, 'timesteps': 137, 'ep_reward_avg': 114.406}\n",
      "{'episode': 8000, 'epsilon': 0.21737429074545098, 'ep_reward': 76.0, 'timesteps': 76, 'ep_reward_avg': 124.06}\n",
      "{'episode': 8500, 'epsilon': 0.2072374556985637, 'ep_reward': 102.0, 'timesteps': 102, 'ep_reward_avg': 131.174}\n",
      "{'episode': 9000, 'epsilon': 0.19800392086972018, 'ep_reward': 178.0, 'timesteps': 178, 'ep_reward_avg': 135.718}\n",
      "{'episode': 9500, 'epsilon': 0.1895580958880737, 'ep_reward': 188.0, 'timesteps': 188, 'ep_reward_avg': 141.994}\n",
      "{'episode': 10000, 'epsilon': 0.1818033055146457, 'ep_reward': 113.0, 'timesteps': 113, 'ep_reward_avg': 154.832}\n",
      "{'episode': 10500, 'epsilon': 0.17465807263008962, 'ep_reward': 340.0, 'timesteps': 340, 'ep_reward_avg': 176.922}\n",
      "{'episode': 11000, 'epsilon': 0.16805324459234608, 'ep_reward': 202.0, 'timesteps': 202, 'ep_reward_avg': 177.512}\n",
      "{'episode': 11500, 'epsilon': 0.16192974785016762, 'ep_reward': 164.0, 'timesteps': 164, 'ep_reward_avg': 169.898}\n",
      "{'episode': 12000, 'epsilon': 0.15623681620025312, 'ep_reward': 154.0, 'timesteps': 154, 'ep_reward_avg': 201.68}\n",
      "{'episode': 12500, 'epsilon': 0.1509305800842277, 'ep_reward': 277.0, 'timesteps': 277, 'ep_reward_avg': 196.58}\n",
      "{'episode': 13000, 'epsilon': 0.14597293391144398, 'ep_reward': 119.0, 'timesteps': 119, 'ep_reward_avg': 217.682}\n",
      "{'episode': 13500, 'epsilon': 0.14133061951405673, 'ep_reward': 200.0, 'timesteps': 200, 'ep_reward_avg': 227.374}\n",
      "{'episode': 14000, 'epsilon': 0.13697447910245344, 'ep_reward': 211.0, 'timesteps': 211, 'ep_reward_avg': 226.46}\n",
      "{'episode': 14500, 'epsilon': 0.13287884224375074, 'ep_reward': 300.0, 'timesteps': 300, 'ep_reward_avg': 227.978}\n",
      "{'episode': 15000, 'epsilon': 0.1290210196260597, 'ep_reward': 147.0, 'timesteps': 147, 'ep_reward_avg': 229.142}\n",
      "{'episode': 15500, 'epsilon': 0.12538088251890306, 'ep_reward': 191.0, 'timesteps': 191, 'ep_reward_avg': 235.584}\n",
      "{'episode': 16000, 'epsilon': 0.12194051146965207, 'ep_reward': 229.0, 'timesteps': 229, 'ep_reward_avg': 225.688}\n",
      "{'episode': 16500, 'epsilon': 0.11868390129259694, 'ep_reward': 166.0, 'timesteps': 166, 'ep_reward_avg': 238.902}\n",
      "{'episode': 17000, 'epsilon': 0.11559671210071792, 'ep_reward': 210.0, 'timesteps': 210, 'ep_reward_avg': 226.85}\n",
      "{'episode': 17500, 'epsilon': 0.11266605820910658, 'ep_reward': 366.0, 'timesteps': 366, 'ep_reward_avg': 289.444}\n",
      "{'episode': 18000, 'epsilon': 0.10988032835525666, 'ep_reward': 257.0, 'timesteps': 257, 'ep_reward_avg': 265.55}\n",
      "{'episode': 18500, 'epsilon': 0.10722903194672329, 'ep_reward': 305.0, 'timesteps': 305, 'ep_reward_avg': 298.244}\n",
      "{'episode': 19000, 'epsilon': 0.10470266704363397, 'ep_reward': 180.0, 'timesteps': 180, 'ep_reward_avg': 285.122}\n",
      "{'episode': 19500, 'epsilon': 0.1022926065739803, 'ep_reward': 500.0, 'timesteps': 500, 'ep_reward_avg': 318.53}\n",
      "{'episode': 20000, 'epsilon': 0.0999909999099991, 'ep_reward': 274.0, 'timesteps': 274, 'ep_reward_avg': 321.79}\n"
     ]
    },
    {
     "data": {
      "image/png": "[encoded data removed]",
      "text/plain": [
       "<Figure size 500x350 with 1 Axes>"
      ]
     },
     "metadata": {},
     "output_type": "display_data"
    },
    {
     "name": "stdout",
     "output_type": "stream",
     "text": [
      "Training done!\n"
     ]
    }
   ],
   "source": [
    "b = 2222\n",
    "\n",
    "# Training with GLIE\n",
    "if not skip_training:\n",
    "    cfg_args=dict(epsilon='glie', glie_b=b, save_video=False) # insert correct value for glie_b\n",
    "    train(cfg_path=Path().cwd()/'cfg'/'cartpole_v1.yaml', cfg_args=cfg_args) # < 30 mins"
   ]
  },
  {
   "cell_type": "markdown",
   "id": "75e1ee57-1cb1-4feb-9b19-de6d204aaffc",
   "metadata": {
    "tags": []
   },
   "source": [
    "![plot_glie](./results/CartPole-v1/task1__glie.png)"
   ]
  },
  {
   "cell_type": "code",
   "execution_count": 11,
   "id": "a77aea8d-2c8c-4e8f-baec-a3fd68fead5b",
   "metadata": {
    "tags": []
   },
   "outputs": [
    {
     "name": "stdout",
     "output_type": "stream",
     "text": [
      "Numpy/Torch/Random Seed:  408\n"
     ]
    },
    {
     "name": "stderr",
     "output_type": "stream",
     "text": [
      "/opt/software/lib/python3.10/site-packages/gymnasium/wrappers/record_video.py:87: UserWarning: \u001b[33mWARN: Overwriting existing videos at /notebooks/rl2024/ex3/results/CartPole-v1/video/test folder (try specifying a different `video_folder` for the `RecordVideo` wrapper if this is not desired)\u001b[0m\n",
      "  logger.warn(\n"
     ]
    },
    {
     "name": "stdout",
     "output_type": "stream",
     "text": [
      "{'test_episode': 0, 'test_ep_reward': 176.0, 'timesteps': 176}\n",
      "{'test_episode': 1, 'test_ep_reward': 199.0, 'timesteps': 199}\n",
      "{'test_episode': 2, 'test_ep_reward': 147.0, 'timesteps': 147}\n",
      "{'test_episode': 3, 'test_ep_reward': 201.0, 'timesteps': 201}\n",
      "{'test_episode': 4, 'test_ep_reward': 172.0, 'timesteps': 172}\n",
      "{'test_episode': 5, 'test_ep_reward': 168.0, 'timesteps': 168}\n",
      "{'test_episode': 6, 'test_ep_reward': 174.0, 'timesteps': 174}\n",
      "{'test_episode': 7, 'test_ep_reward': 138.0, 'timesteps': 138}\n",
      "{'test_episode': 8, 'test_ep_reward': 335.0, 'timesteps': 335}\n",
      "{'test_episode': 9, 'test_ep_reward': 167.0, 'timesteps': 167}\n",
      "Testing done!\n"
     ]
    }
   ],
   "source": [
    "# Testing with GLIE\n",
    "if not skip_training:\n",
    "    cfg_args=dict(epsilon='glie', save_video=True)\n",
    "    test(cfg_path=Path().cwd()/'cfg'/'cartpole_v1.yaml', cfg_args=cfg_args)"
   ]
  },
  {
   "cell_type": "markdown",
   "id": "bdec32a0-acec-46fb-80cb-72bf8b6c5843",
   "metadata": {},
   "source": [
    "Just as in the \"visualize the results with constant epsilon 0.1\" section, **modify the path** to select the episode you'd like to observe. Remember, videos are saved every 500 episodes during training."
   ]
  },
  {
   "cell_type": "code",
   "execution_count": 12,
   "id": "c6204544",
   "metadata": {
    "tags": []
   },
   "outputs": [
    {
     "data": {
      "text/html": [
       "<video loop autoplay  >\n",
       " <source src=\"data:video/mp4;base64,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\" type=\"video/mp4\">\n",
       " Your browser does not support the video tag.\n",
       " </video>"
      ],
      "text/plain": [
       "<IPython.core.display.Video object>"
      ]
     },
     "metadata": {},
     "output_type": "display_data"
    }
   ],
   "source": [
    "# Visualizing the results with GLIE\n",
    "if not skip_training:\n",
    "      video = Video(Path().cwd()/'results'/'CartPole-v1'/'video'/'test'/'ex3-episode-0.mp4',\n",
    "      embed=True, html_attributes=\"loop autoplay\") # Set html_attributes=\"controls\" for video control\n",
    "      display(video)"
   ]
  },
  {
   "cell_type": "code",
   "execution_count": null,
   "id": "13721787",
   "metadata": {
    "deletable": false,
    "editable": false,
    "nbgrader": {
     "cell_type": "code",
     "checksum": "4729db952ef44314e885465232bd3c7b",
     "grade": true,
     "grade_id": "cell-a49c5defa1c9854f",
     "locked": true,
     "points": 0,
     "schema_version": 3,
     "solution": false,
     "task": false
    }
   },
   "outputs": [],
   "source": []
  },
  {
   "cell_type": "markdown",
   "id": "c86e2e61",
   "metadata": {
    "tags": []
   },
   "source": [
    "<a id='T2'></a>\n",
    "<div class=\" alert alert-warning\">\n",
    "    <h3><b>Student Task 2.</b> Visualizing the Value Function (10 points) </h3> \n",
    "\n",
    "Use your Q-function values estimated with GLIE to calculate the optimal value function of each state. Complete the ```display_heatmap_vf()``` function below to plot the heatmap of the value function in terms of $x$ and $\\theta$, such that $\\theta$ is on horizontal and $x$ is on vertical axis. For plotting, average the values over $\\dot{x}$ and $\\dot{\\theta}$. Attach the heatmap in your report.\n",
    "\n",
    "**Hint:** For plotting the heatmap you can use Matplotlib-pyplot: ```pyplot.imshow(values_array)``` or Seaborn: ```seaborn.heatmap(values_array)```\n",
    "    \n",
    "🔝\t<a href='#TOC'><b>Table of Contents</b></a>\n",
    "</div>\n"
   ]
  },
  {
   "cell_type": "code",
   "execution_count": 13,
   "id": "a4e7567c",
   "metadata": {
    "tags": []
   },
   "outputs": [],
   "source": [
    "# --- Standard Libraries ---\n",
    "from pathlib import Path    # For handling filesystem paths in a more intuitive way\n",
    "\n",
    "# --- Third-party Libraries ---\n",
    "import matplotlib.pyplot as plt  # For creating static, interactive, and animated visualizations\n",
    "import seaborn as sns            # A data visualization library based on matplotlib"
   ]
  },
  {
   "cell_type": "code",
   "execution_count": 14,
   "id": "d18d44fc",
   "metadata": {
    "tags": []
   },
   "outputs": [],
   "source": [
    "def display_heatmap_vf(env_name=\"CartPole-v1\", q_table_name='task1_q_table_glie.pkl'):\n",
    "    \"\"\"\n",
    "    Displays a heatmap of the value function for a given environment and Q-table.\n",
    "\n",
    "    Input:\n",
    "    - env_name (str): Name of the environment, default is \"CartPole-v1\".\n",
    "    - q_table_name (str): Name of the saved Q-table file, default is 'q_table_glie.pkl'.\n",
    "\n",
    "    Output:\n",
    "    - Visual display of the heatmap.\n",
    "\n",
    "    \"\"\"\n",
    "    \n",
    "    # load the Q-value array\n",
    "    work_dir = Path().cwd()/'results'/f'{env_name}'\n",
    "    \n",
    "    data = u.load_object(work_dir/q_table_name) # load q_table \n",
    "    q_axis, q_table = data['axis'], data['q_table'] \n",
    "    x_axis, th_axis = q_axis[0], q_axis[2]  # get the axis for x and \\theta\n",
    "\n",
    "    discr = q_table.shape[0] # get the number of discretized bins for a state variable in the Q-table\n",
    "    '''\n",
    "    # TODO: Task 2 Plot the heatmap of the value function\n",
    "    # 1. Compute the maximum Q-value for each state, which gives the value function of that state\n",
    "    # 2. Uses Seaborn and Matplotlib to display the heatmap.  \n",
    "    '''\n",
    "    \n",
    "    ########## Your code begins here. ##########\n",
    "    \n",
    "    table = np.zeros((discr, discr))\n",
    "    \n",
    "    for x in x_axis:\n",
    "        for th in th_axis:\n",
    "            idx = get_table_idx([x, th], (x_axis, th_axis))\n",
    "            table[idx] = np.max(q_table[idx])\n",
    "            \n",
    "    x_ticks = [ '%.2f' % elem for elem in x_axis ]\n",
    "    y_ticks = [ '%.2f' % elem for elem in th_axis ]\n",
    "            \n",
    "    plot = sns.heatmap(table, xticklabels=x_ticks, yticklabels=y_ticks)\n",
    "    plot.set_xlabel('x', fontsize=10)\n",
    "    plot.set_ylabel('theta', fontsize=10)\n",
    "    plot.set_title(\"Maximum state-values\")\n",
    "    \n",
    "    ########## Your code ends here. ##########"
   ]
  },
  {
   "cell_type": "code",
   "execution_count": 15,
   "id": "eab4bd9c",
   "metadata": {
    "tags": []
   },
   "outputs": [
    {
     "data": {
      "image/png": "[encoded data removed]",
      "text/plain": [
       "<Figure size 640x480 with 2 Axes>"
      ]
     },
     "metadata": {},
     "output_type": "display_data"
    }
   ],
   "source": [
    "# Visual display of the heatmap of the value function\n",
    "if not skip_training:\n",
    "    display_heatmap_vf()"
   ]
  },
  {
   "cell_type": "markdown",
   "id": "6752c4c4-f909-41e0-8eae-10f80055dbc3",
   "metadata": {
    "deletable": false,
    "editable": false,
    "nbgrader": {
     "cell_type": "markdown",
     "checksum": "f367a81d85146d63beb807550992c62b",
     "grade": false,
     "grade_id": "cell-88d5a81a7f1ca9f1",
     "locked": true,
     "points": 10,
     "schema_version": 3,
     "solution": false,
     "task": true
    }
   },
   "source": [
    "Do not remove this cell as it is used for grading"
   ]
  },
  {
   "cell_type": "markdown",
   "id": "bbba1c47",
   "metadata": {},
   "source": [
    "<a id='Q1'></a>\n",
    "<div class=\" alert alert-warning\">\n",
    "    <h3><b>Student Question 2.1</b> Analyzing the Value Function Heatmap (15 points) </h3> \n",
    "\n",
    "What do you think the heatmap of the Q-values would have looked like at different stages of training? Select all accurate description for each stage.\n",
    "\n",
    "    \n",
    "🔝\t<a href='#TOC'><b>Table of Contents</b></a>\n",
    "</div>\n"
   ]
  },
  {
   "cell_type": "markdown",
   "id": "a1e8cdcf-f604-4889-992d-46498e5852b7",
   "metadata": {
    "deletable": false,
    "editable": false,
    "nbgrader": {
     "cell_type": "markdown",
     "checksum": "4edd89e48f7b49d0ae8b49da370f0320",
     "grade": false,
     "grade_id": "cell-25b468ecabec94c0",
     "locked": true,
     "schema_version": 3,
     "solution": false,
     "task": false
    },
    "tags": []
   },
   "source": [
    "Options\n",
    "\n",
    "1. Before training, the heatmap is all zeros (assuming Q-values are initialized as zeros)\n",
    "2. Before training, the heatmap has random values between -1 and 1\n",
    "3. After a single episode, the Q-values of visited states are updated with non-zero values\n",
    "4. After a single episode, there is a horizontal line in the middle of the heatmap\n",
    "5. After a single episode, the heatmap shows a vertical line in the middle of the heatmap\n",
    "6. Halfway through training, the heatmap already looks quite similar to the final optimal heatmap\n",
    "7. Halfway through training, the heatmap looks quite similar to the heatmap of after a single episode\n",
    "8. The cart's limited movement in the x direction and the pole's fall create a distinct pattern after one episode\n",
    "9. Random exploration in the first episode leads to scattered non-zero values throughout the heatmap"
   ]
  },
  {
   "cell_type": "code",
   "execution_count": 16,
   "id": "784b9f86-27a9-4ab3-ac13-d49d83de414a",
   "metadata": {
    "tags": []
   },
   "outputs": [],
   "source": [
    "# Answer question 2.1 with appropriate option numbers\n",
    "sq2_1 = [1, 3, 6, 8]"
   ]
  },
  {
   "cell_type": "markdown",
   "id": "6fb1b80b-b12d-4667-a741-2193212d257c",
   "metadata": {
    "tags": []
   },
   "source": [
    "The following cells are used for grading."
   ]
  },
  {
   "cell_type": "code",
   "execution_count": null,
   "id": "917b8c7b-1435-4cdd-adb5-d662b311d527",
   "metadata": {
    "deletable": false,
    "editable": false,
    "nbgrader": {
     "cell_type": "code",
     "checksum": "9ccc46773ce96275d3bcc395e75d607e",
     "grade": true,
     "grade_id": "cell-bb1012fd2db43f6a",
     "locked": true,
     "points": 3,
     "schema_version": 3,
     "solution": false,
     "task": false
    },
    "tags": []
   },
   "outputs": [],
   "source": []
  },
  {
   "cell_type": "code",
   "execution_count": null,
   "id": "c7fd2c43-b826-44f2-9d3b-0405d81fe0c3",
   "metadata": {
    "deletable": false,
    "editable": false,
    "nbgrader": {
     "cell_type": "code",
     "checksum": "417a5911e76674561db02fbdd5b7b78d",
     "grade": true,
     "grade_id": "cell-11cd549484cdb161",
     "locked": true,
     "points": 3,
     "schema_version": 3,
     "solution": false,
     "task": false
    },
    "tags": []
   },
   "outputs": [],
   "source": []
  },
  {
   "cell_type": "code",
   "execution_count": null,
   "id": "c36a9c61-4e3d-4c65-9bde-31a81ec2867e",
   "metadata": {
    "deletable": false,
    "editable": false,
    "nbgrader": {
     "cell_type": "code",
     "checksum": "1f34f3b13b4c2a3fe4ca1f135730d1cf",
     "grade": true,
     "grade_id": "cell-d8599b1b7d33f525",
     "locked": true,
     "points": 3,
     "schema_version": 3,
     "solution": false,
     "task": false
    },
    "tags": []
   },
   "outputs": [],
   "source": []
  },
  {
   "cell_type": "code",
   "execution_count": null,
   "id": "7d6173bf-6ecd-49e1-bbc5-dae35b1b6ab0",
   "metadata": {
    "deletable": false,
    "editable": false,
    "nbgrader": {
     "cell_type": "code",
     "checksum": "f4ca7de9d9a4bf53f7f4e2fa172fd6b8",
     "grade": true,
     "grade_id": "cell-2d90b464f8c0a6c1",
     "locked": true,
     "points": 3,
     "schema_version": 3,
     "solution": false,
     "task": false
    },
    "tags": []
   },
   "outputs": [],
   "source": []
  },
  {
   "cell_type": "code",
   "execution_count": null,
   "id": "3b8a4978-38b4-45fa-bb0c-b69f39b912ce",
   "metadata": {
    "deletable": false,
    "editable": false,
    "nbgrader": {
     "cell_type": "code",
     "checksum": "ed7234c17738c018ba5bd268dafb2a95",
     "grade": true,
     "grade_id": "cell-896fa45927fb7575",
     "locked": true,
     "points": 3,
     "schema_version": 3,
     "solution": false,
     "task": false
    },
    "tags": []
   },
   "outputs": [],
   "source": []
  },
  {
   "cell_type": "markdown",
   "id": "87fb7b90",
   "metadata": {
    "tags": []
   },
   "source": [
    "<a id='T3'></a>\n",
    "<div class=\" alert alert-warning\">\n",
    "    <h3><b>Student Task 3.</b> Investigating Initial Values (10 points) </h3> \n",
    "\n",
    "Set $\\epsilon$ to zero, effectively making the policy greedy w.r.t. current Q-value estimates. Run the training again while\n",
    "1) keeping the initial estimates of the Q function at 0,\n",
    "2) setting the initial estimates of the Q function to 50 for all states and actions.\n",
    "\n",
    "You can change the initial Q value estimates by passing ```initial_q=<value>``` in the following cells. \n",
    "\n",
    "**Attach training performance plots of both initializations in your report.**\n",
    "\n",
    "🔝\t<a href='#TOC'><b>Table of Contents</b></a>\n",
    "</div>\n"
   ]
  },
  {
   "cell_type": "code",
   "execution_count": 17,
   "id": "39cf3dd6",
   "metadata": {
    "tags": []
   },
   "outputs": [
    {
     "name": "stdout",
     "output_type": "stream",
     "text": [
      "Numpy/Torch/Random Seed:  408\n",
      "{'episode': 0, 'epsilon': 0, 'ep_reward': 10.0, 'timesteps': 10, 'ep_reward_avg': 10.0}\n",
      "{'episode': 500, 'epsilon': 0, 'ep_reward': 9.0, 'timesteps': 9, 'ep_reward_avg': 9.344}\n",
      "{'episode': 1000, 'epsilon': 0, 'ep_reward': 10.0, 'timesteps': 10, 'ep_reward_avg': 9.336}\n",
      "{'episode': 1500, 'epsilon': 0, 'ep_reward': 11.0, 'timesteps': 11, 'ep_reward_avg': 9.332}\n",
      "{'episode': 2000, 'epsilon': 0, 'ep_reward': 8.0, 'timesteps': 8, 'ep_reward_avg': 9.328}\n",
      "{'episode': 2500, 'epsilon': 0, 'ep_reward': 10.0, 'timesteps': 10, 'ep_reward_avg': 9.366}\n",
      "{'episode': 3000, 'epsilon': 0, 'ep_reward': 10.0, 'timesteps': 10, 'ep_reward_avg': 9.352}\n",
      "{'episode': 3500, 'epsilon': 0, 'ep_reward': 10.0, 'timesteps': 10, 'ep_reward_avg': 9.278}\n",
      "{'episode': 4000, 'epsilon': 0, 'ep_reward': 10.0, 'timesteps': 10, 'ep_reward_avg': 9.362}\n",
      "{'episode': 4500, 'epsilon': 0, 'ep_reward': 10.0, 'timesteps': 10, 'ep_reward_avg': 9.376}\n",
      "{'episode': 5000, 'epsilon': 0, 'ep_reward': 8.0, 'timesteps': 8, 'ep_reward_avg': 9.378}\n",
      "{'episode': 5500, 'epsilon': 0, 'ep_reward': 10.0, 'timesteps': 10, 'ep_reward_avg': 9.422}\n",
      "{'episode': 6000, 'epsilon': 0, 'ep_reward': 10.0, 'timesteps': 10, 'ep_reward_avg': 9.358}\n",
      "{'episode': 6500, 'epsilon': 0, 'ep_reward': 9.0, 'timesteps': 9, 'ep_reward_avg': 9.328}\n",
      "{'episode': 7000, 'epsilon': 0, 'ep_reward': 9.0, 'timesteps': 9, 'ep_reward_avg': 9.328}\n",
      "{'episode': 7500, 'epsilon': 0, 'ep_reward': 10.0, 'timesteps': 10, 'ep_reward_avg': 9.31}\n",
      "{'episode': 8000, 'epsilon': 0, 'ep_reward': 10.0, 'timesteps': 10, 'ep_reward_avg': 9.348}\n",
      "{'episode': 8500, 'epsilon': 0, 'ep_reward': 10.0, 'timesteps': 10, 'ep_reward_avg': 9.342}\n",
      "{'episode': 9000, 'epsilon': 0, 'ep_reward': 10.0, 'timesteps': 10, 'ep_reward_avg': 9.358}\n",
      "{'episode': 9500, 'epsilon': 0, 'ep_reward': 10.0, 'timesteps': 10, 'ep_reward_avg': 9.376}\n",
      "{'episode': 10000, 'epsilon': 0, 'ep_reward': 9.0, 'timesteps': 9, 'ep_reward_avg': 9.364}\n",
      "{'episode': 10500, 'epsilon': 0, 'ep_reward': 10.0, 'timesteps': 10, 'ep_reward_avg': 9.356}\n",
      "{'episode': 11000, 'epsilon': 0, 'ep_reward': 8.0, 'timesteps': 8, 'ep_reward_avg': 9.308}\n",
      "{'episode': 11500, 'epsilon': 0, 'ep_reward': 10.0, 'timesteps': 10, 'ep_reward_avg': 9.37}\n",
      "{'episode': 12000, 'epsilon': 0, 'ep_reward': 9.0, 'timesteps': 9, 'ep_reward_avg': 9.43}\n",
      "{'episode': 12500, 'epsilon': 0, 'ep_reward': 9.0, 'timesteps': 9, 'ep_reward_avg': 9.33}\n",
      "{'episode': 13000, 'epsilon': 0, 'ep_reward': 10.0, 'timesteps': 10, 'ep_reward_avg': 9.358}\n",
      "{'episode': 13500, 'epsilon': 0, 'ep_reward': 9.0, 'timesteps': 9, 'ep_reward_avg': 9.368}\n",
      "{'episode': 14000, 'epsilon': 0, 'ep_reward': 10.0, 'timesteps': 10, 'ep_reward_avg': 9.42}\n",
      "{'episode': 14500, 'epsilon': 0, 'ep_reward': 9.0, 'timesteps': 9, 'ep_reward_avg': 9.326}\n",
      "{'episode': 15000, 'epsilon': 0, 'ep_reward': 9.0, 'timesteps': 9, 'ep_reward_avg': 9.332}\n",
      "{'episode': 15500, 'epsilon': 0, 'ep_reward': 9.0, 'timesteps': 9, 'ep_reward_avg': 9.408}\n",
      "{'episode': 16000, 'epsilon': 0, 'ep_reward': 9.0, 'timesteps': 9, 'ep_reward_avg': 9.312}\n",
      "{'episode': 16500, 'epsilon': 0, 'ep_reward': 10.0, 'timesteps': 10, 'ep_reward_avg': 9.336}\n",
      "{'episode': 17000, 'epsilon': 0, 'ep_reward': 10.0, 'timesteps': 10, 'ep_reward_avg': 9.376}\n",
      "{'episode': 17500, 'epsilon': 0, 'ep_reward': 10.0, 'timesteps': 10, 'ep_reward_avg': 9.3}\n",
      "{'episode': 18000, 'epsilon': 0, 'ep_reward': 9.0, 'timesteps': 9, 'ep_reward_avg': 9.374}\n",
      "{'episode': 18500, 'epsilon': 0, 'ep_reward': 9.0, 'timesteps': 9, 'ep_reward_avg': 9.41}\n",
      "{'episode': 19000, 'epsilon': 0, 'ep_reward': 9.0, 'timesteps': 9, 'ep_reward_avg': 9.362}\n",
      "{'episode': 19500, 'epsilon': 0, 'ep_reward': 9.0, 'timesteps': 9, 'ep_reward_avg': 9.358}\n",
      "{'episode': 20000, 'epsilon': 0, 'ep_reward': 10.0, 'timesteps': 10, 'ep_reward_avg': 9.322}\n"
     ]
    },
    {
     "data": {
      "image/png": "[encoded data removed]",
      "text/plain": [
       "<Figure size 500x350 with 1 Axes>"
      ]
     },
     "metadata": {},
     "output_type": "display_data"
    },
    {
     "name": "stdout",
     "output_type": "stream",
     "text": [
      "Training done!\n"
     ]
    }
   ],
   "source": [
    "# Initialize the Q function with a value of 0 and begin training\n",
    "if not skip_training:\n",
    "    cfg_args=dict(epsilon=0, initial_q=0, task_no='task3.1') # set the initial estimates of the Q function to 0\n",
    "    train(cfg_path=Path().cwd()/'cfg'/'cartpole_v1.yaml', cfg_args=cfg_args)"
   ]
  },
  {
   "cell_type": "code",
   "execution_count": 18,
   "id": "ee238f34",
   "metadata": {
    "tags": []
   },
   "outputs": [
    {
     "data": {
      "image/png": "[encoded data removed]",
      "text/plain": [
       "<Figure size 640x480 with 2 Axes>"
      ]
     },
     "metadata": {},
     "output_type": "display_data"
    }
   ],
   "source": [
    "# Visual display of the heatmap of the value function\n",
    "if not skip_training:\n",
    "    display_heatmap_vf('CartPole-v1', 'task3.1_q_table_e.pkl')"
   ]
  },
  {
   "cell_type": "code",
   "execution_count": 19,
   "id": "3cc746ac",
   "metadata": {
    "tags": []
   },
   "outputs": [
    {
     "name": "stdout",
     "output_type": "stream",
     "text": [
      "Numpy/Torch/Random Seed:  408\n",
      "{'episode': 0, 'epsilon': 0, 'ep_reward': 8.0, 'timesteps': 8, 'ep_reward_avg': 8.0}\n",
      "{'episode': 500, 'epsilon': 0, 'ep_reward': 96.0, 'timesteps': 96, 'ep_reward_avg': 232.384}\n",
      "{'episode': 1000, 'epsilon': 0, 'ep_reward': 272.0, 'timesteps': 272, 'ep_reward_avg': 224.228}\n",
      "{'episode': 1500, 'epsilon': 0, 'ep_reward': 202.0, 'timesteps': 202, 'ep_reward_avg': 222.264}\n",
      "{'episode': 2000, 'epsilon': 0, 'ep_reward': 282.0, 'timesteps': 282, 'ep_reward_avg': 305.522}\n",
      "{'episode': 2500, 'epsilon': 0, 'ep_reward': 500.0, 'timesteps': 500, 'ep_reward_avg': 439.388}\n",
      "{'episode': 3000, 'epsilon': 0, 'ep_reward': 279.0, 'timesteps': 279, 'ep_reward_avg': 413.62}\n",
      "{'episode': 3500, 'epsilon': 0, 'ep_reward': 408.0, 'timesteps': 408, 'ep_reward_avg': 396.762}\n",
      "{'episode': 4000, 'epsilon': 0, 'ep_reward': 500.0, 'timesteps': 500, 'ep_reward_avg': 405.23}\n",
      "{'episode': 4500, 'epsilon': 0, 'ep_reward': 500.0, 'timesteps': 500, 'ep_reward_avg': 477.496}\n",
      "{'episode': 5000, 'epsilon': 0, 'ep_reward': 500.0, 'timesteps': 500, 'ep_reward_avg': 500.0}\n",
      "{'episode': 5500, 'epsilon': 0, 'ep_reward': 500.0, 'timesteps': 500, 'ep_reward_avg': 500.0}\n",
      "{'episode': 6000, 'epsilon': 0, 'ep_reward': 500.0, 'timesteps': 500, 'ep_reward_avg': 499.932}\n",
      "{'episode': 6500, 'epsilon': 0, 'ep_reward': 500.0, 'timesteps': 500, 'ep_reward_avg': 499.022}\n",
      "{'episode': 7000, 'epsilon': 0, 'ep_reward': 500.0, 'timesteps': 500, 'ep_reward_avg': 500.0}\n",
      "{'episode': 7500, 'epsilon': 0, 'ep_reward': 500.0, 'timesteps': 500, 'ep_reward_avg': 500.0}\n",
      "{'episode': 8000, 'epsilon': 0, 'ep_reward': 500.0, 'timesteps': 500, 'ep_reward_avg': 500.0}\n",
      "{'episode': 8500, 'epsilon': 0, 'ep_reward': 500.0, 'timesteps': 500, 'ep_reward_avg': 500.0}\n",
      "{'episode': 9000, 'epsilon': 0, 'ep_reward': 500.0, 'timesteps': 500, 'ep_reward_avg': 499.244}\n",
      "{'episode': 9500, 'epsilon': 0, 'ep_reward': 500.0, 'timesteps': 500, 'ep_reward_avg': 500.0}\n",
      "{'episode': 10000, 'epsilon': 0, 'ep_reward': 500.0, 'timesteps': 500, 'ep_reward_avg': 499.496}\n",
      "{'episode': 10500, 'epsilon': 0, 'ep_reward': 500.0, 'timesteps': 500, 'ep_reward_avg': 500.0}\n",
      "{'episode': 11000, 'epsilon': 0, 'ep_reward': 500.0, 'timesteps': 500, 'ep_reward_avg': 499.368}\n",
      "{'episode': 11500, 'epsilon': 0, 'ep_reward': 500.0, 'timesteps': 500, 'ep_reward_avg': 500.0}\n",
      "{'episode': 12000, 'epsilon': 0, 'ep_reward': 500.0, 'timesteps': 500, 'ep_reward_avg': 499.896}\n",
      "{'episode': 12500, 'epsilon': 0, 'ep_reward': 500.0, 'timesteps': 500, 'ep_reward_avg': 499.768}\n",
      "{'episode': 13000, 'epsilon': 0, 'ep_reward': 500.0, 'timesteps': 500, 'ep_reward_avg': 500.0}\n",
      "{'episode': 13500, 'epsilon': 0, 'ep_reward': 500.0, 'timesteps': 500, 'ep_reward_avg': 500.0}\n",
      "{'episode': 14000, 'epsilon': 0, 'ep_reward': 500.0, 'timesteps': 500, 'ep_reward_avg': 499.87}\n",
      "{'episode': 14500, 'epsilon': 0, 'ep_reward': 500.0, 'timesteps': 500, 'ep_reward_avg': 500.0}\n",
      "{'episode': 15000, 'epsilon': 0, 'ep_reward': 500.0, 'timesteps': 500, 'ep_reward_avg': 500.0}\n",
      "{'episode': 15500, 'epsilon': 0, 'ep_reward': 500.0, 'timesteps': 500, 'ep_reward_avg': 500.0}\n",
      "{'episode': 16000, 'epsilon': 0, 'ep_reward': 500.0, 'timesteps': 500, 'ep_reward_avg': 500.0}\n",
      "{'episode': 16500, 'epsilon': 0, 'ep_reward': 500.0, 'timesteps': 500, 'ep_reward_avg': 500.0}\n",
      "{'episode': 17000, 'epsilon': 0, 'ep_reward': 500.0, 'timesteps': 500, 'ep_reward_avg': 500.0}\n",
      "{'episode': 17500, 'epsilon': 0, 'ep_reward': 500.0, 'timesteps': 500, 'ep_reward_avg': 500.0}\n",
      "{'episode': 18000, 'epsilon': 0, 'ep_reward': 500.0, 'timesteps': 500, 'ep_reward_avg': 500.0}\n",
      "{'episode': 18500, 'epsilon': 0, 'ep_reward': 500.0, 'timesteps': 500, 'ep_reward_avg': 500.0}\n",
      "{'episode': 19000, 'epsilon': 0, 'ep_reward': 500.0, 'timesteps': 500, 'ep_reward_avg': 500.0}\n",
      "{'episode': 19500, 'epsilon': 0, 'ep_reward': 500.0, 'timesteps': 500, 'ep_reward_avg': 500.0}\n",
      "{'episode': 20000, 'epsilon': 0, 'ep_reward': 500.0, 'timesteps': 500, 'ep_reward_avg': 499.85}\n"
     ]
    },
    {
     "data": {
      "image/png": "[encoded data removed]",
      "text/plain": [
       "<Figure size 500x350 with 1 Axes>"
      ]
     },
     "metadata": {},
     "output_type": "display_data"
    },
    {
     "name": "stdout",
     "output_type": "stream",
     "text": [
      "Training done!\n"
     ]
    }
   ],
   "source": [
    "# Initialize the Q function with a value of 50 and begin training\n",
    "if not skip_training:\n",
    "    cfg_args=dict(epsilon=0, initial_q=50,task_no='task3.2') # set the initial estimates of the Q function to 50\n",
    "    train(cfg_path=Path().cwd()/'cfg'/'cartpole_v1.yaml', cfg_args=cfg_args)"
   ]
  },
  {
   "cell_type": "code",
   "execution_count": 20,
   "id": "d9ed3aaf",
   "metadata": {
    "tags": []
   },
   "outputs": [
    {
     "data": {
      "image/png": "[encoded data removed]",
      "text/plain": [
       "<Figure size 640x480 with 2 Axes>"
      ]
     },
     "metadata": {},
     "output_type": "display_data"
    }
   ],
   "source": [
    "# Visual display of the heatmap of the value function\n",
    "if not skip_training:\n",
    "    display_heatmap_vf('CartPole-v1', 'task3.2_q_table_e.pkl')"
   ]
  },
  {
   "cell_type": "code",
   "execution_count": null,
   "id": "09514150",
   "metadata": {
    "deletable": false,
    "editable": false,
    "nbgrader": {
     "cell_type": "code",
     "checksum": "f9ab1fd48e4583a37a4c80bea1298d51",
     "grade": true,
     "grade_id": "cell-f3641856fbc277ec",
     "locked": true,
     "points": 5,
     "schema_version": 3,
     "solution": false,
     "task": false
    }
   },
   "outputs": [],
   "source": []
  },
  {
   "cell_type": "code",
   "execution_count": null,
   "id": "35d54874-22c9-4367-a262-10399f81c0a2",
   "metadata": {
    "deletable": false,
    "editable": false,
    "nbgrader": {
     "cell_type": "code",
     "checksum": "620e26ec411953c00ef7617e63c34d79",
     "grade": true,
     "grade_id": "cell-1f7e70d287bd137d",
     "locked": true,
     "points": 5,
     "schema_version": 3,
     "solution": false,
     "task": false
    }
   },
   "outputs": [],
   "source": []
  },
  {
   "cell_type": "markdown",
   "id": "fbea9f8b",
   "metadata": {},
   "source": [
    "Based on the results you observed in Task 3, answer the following questions:"
   ]
  },
  {
   "cell_type": "markdown",
   "id": "2f97da87",
   "metadata": {},
   "source": [
    "<a id='Q2'></a>\n",
    "<div class=\" alert alert-warning\">\n",
    "    <h3><b>Student Question 3.1</b> Analyzing Initial Values (5 points) </h3> \n",
    "\n",
    "In which case does the model perform better?\n",
    "    \n",
    "🔝\t<a href='#TOC'><b>Table of Contents</b></a>\n",
    "</div>\n"
   ]
  },
  {
   "cell_type": "markdown",
   "id": "bb220423-a43b-4bd0-a74f-08dc8b992895",
   "metadata": {
    "deletable": false,
    "editable": false,
    "nbgrader": {
     "cell_type": "markdown",
     "checksum": "d749a507f2d6d209cb694f7f837870e5",
     "grade": false,
     "grade_id": "cell-a8f1edecd8ad4cf1",
     "locked": true,
     "schema_version": 3,
     "solution": false,
     "task": false
    },
    "tags": []
   },
   "source": [
    "Options\n",
    "1. The model performs better with initial Q-values of 0\n",
    "2. The model performs better with initial Q-values of 50"
   ]
  },
  {
   "cell_type": "code",
   "execution_count": 21,
   "id": "186bc4b0-0956-41b9-b0d8-4c2ca2702010",
   "metadata": {},
   "outputs": [],
   "source": [
    "# Answer question 3.1 with appropriate option number\n",
    "sq3_1 = 2"
   ]
  },
  {
   "cell_type": "markdown",
   "id": "7d749faf-4b6a-4aaa-9391-385676023219",
   "metadata": {
    "tags": []
   },
   "source": [
    "The following cells are used for grading."
   ]
  },
  {
   "cell_type": "code",
   "execution_count": null,
   "id": "d9de696f-a080-4681-a4fc-adfa09f8290e",
   "metadata": {
    "deletable": false,
    "editable": false,
    "nbgrader": {
     "cell_type": "code",
     "checksum": "275c853e31cbf78906be57b98ca1fd90",
     "grade": true,
     "grade_id": "cell-4ea4b3ce9d0c8a9d",
     "locked": true,
     "points": 5,
     "schema_version": 3,
     "solution": false,
     "task": false
    },
    "tags": []
   },
   "outputs": [],
   "source": []
  },
  {
   "cell_type": "markdown",
   "id": "9a200626",
   "metadata": {},
   "source": [
    "<a id='Q3'></a>\n",
    "<div class=\" alert alert-warning\">\n",
    "    <h3><b>Student Question 3.2</b> Exploration (15 points) </h3> \n",
    "\n",
    "Why is this the case, and how does the initialization of Q values affect exploration?\n",
    "    \n",
    "🔝\t<a href='#TOC'><b>Table of Contents</b></a>\n",
    "</div>\n"
   ]
  },
  {
   "cell_type": "markdown",
   "id": "b505f300-8926-49da-9d75-efcff37e36d3",
   "metadata": {
    "deletable": false,
    "editable": false,
    "nbgrader": {
     "cell_type": "markdown",
     "checksum": "efdab8492c8f43508387a5f41f0c1f28",
     "grade": false,
     "grade_id": "cell-5d5a551743c4c795",
     "locked": true,
     "schema_version": 3,
     "solution": false,
     "task": false
    },
    "tags": []
   },
   "source": [
    "Options\n",
    "\n",
    "1. Higher initial Q-values encourage exploration by making unexplored actions seem more attractive.\n",
    "2. Q-values of 0 make the agent indifferent to all actions initially, leading to diverse exploration.\n",
    "3. Initializing Q-values to 50 creates an \"optimistic\" prior that encourages trying new actions.\n",
    "4. Q-values of 0 promote exploration because the agent needs to try all actions to differentiate their values.\n",
    "5. Higher initial Q-values allow the agent to overcome local optima more easily.\n",
    "6. Initializing to 0 encourages exploration as the agent is more willing to try actions with unknown outcomes.\n",
    "7. Q-values of 0 cause the agent to be overly cautious, avoiding potentially risky but rewarding actions.\n",
    "8. Higher initial Q-values compensate for the lack of explicit exploration in a greedy policy.\n",
    "9. Initializing to 0 promotes a \"blank slate\" approach, allowing the agent to explore without bias.\n",
    "10. With Q-values initialized to 0, the agent tends to stick with the first action it tries due to non-negative rewards.\n",
    "\n"
   ]
  },
  {
   "cell_type": "code",
   "execution_count": 22,
   "id": "deeda856-b1b9-4846-83ad-f3300ab01172",
   "metadata": {},
   "outputs": [],
   "source": [
    "# Answer question 3.2 with appropriate option numbers\n",
    "sq3_2 = [1, 3, 5, 8]"
   ]
  },
  {
   "cell_type": "markdown",
   "id": "35c51db4-8115-4ed9-b6c6-bea755169295",
   "metadata": {
    "tags": []
   },
   "source": [
    "The following cells are used for grading."
   ]
  },
  {
   "cell_type": "code",
   "execution_count": null,
   "id": "2f3cfa3c-4288-4737-b146-3e6b2b2c4812",
   "metadata": {
    "deletable": false,
    "editable": false,
    "nbgrader": {
     "cell_type": "code",
     "checksum": "9e17ad844248d51df28cd57f9355952d",
     "grade": true,
     "grade_id": "cell-d2fc4c748d4c501f",
     "locked": true,
     "points": 4,
     "schema_version": 3,
     "solution": false,
     "task": false
    },
    "tags": []
   },
   "outputs": [],
   "source": []
  },
  {
   "cell_type": "code",
   "execution_count": null,
   "id": "0b8d7567-3414-4570-a070-def2d5bc5f93",
   "metadata": {
    "deletable": false,
    "editable": false,
    "nbgrader": {
     "cell_type": "code",
     "checksum": "4be9b3f2ea3ba051fe031309d036d678",
     "grade": true,
     "grade_id": "cell-c8e8a3fb8886bcf8",
     "locked": true,
     "points": 4,
     "schema_version": 3,
     "solution": false,
     "task": false
    },
    "tags": []
   },
   "outputs": [],
   "source": []
  },
  {
   "cell_type": "code",
   "execution_count": null,
   "id": "fbf1646f-e247-46fb-bb5c-3e9027d41340",
   "metadata": {
    "deletable": false,
    "editable": false,
    "nbgrader": {
     "cell_type": "code",
     "checksum": "0a3b206426459f462c2faecbd69e1d58",
     "grade": true,
     "grade_id": "cell-b335c5b754e65353",
     "locked": true,
     "points": 4,
     "schema_version": 3,
     "solution": false,
     "task": false
    },
    "tags": []
   },
   "outputs": [],
   "source": []
  },
  {
   "cell_type": "code",
   "execution_count": null,
   "id": "cd959222-2cf3-4553-ad7d-b354e805a92e",
   "metadata": {
    "deletable": false,
    "editable": false,
    "nbgrader": {
     "cell_type": "code",
     "checksum": "b391c37af6f5a1e6afcda83d42141f71",
     "grade": true,
     "grade_id": "cell-ed54ceb0160e9dae",
     "locked": true,
     "points": 3,
     "schema_version": 3,
     "solution": false,
     "task": false
    },
    "tags": []
   },
   "outputs": [],
   "source": []
  },
  {
   "cell_type": "markdown",
   "id": "6176d62f",
   "metadata": {},
   "source": [
    "# 3. Lunar lander <a id='3.'></a>"
   ]
  },
  {
   "cell_type": "markdown",
   "id": "95724c44",
   "metadata": {},
   "source": [
    "<figure style=\"text-align: center\">\n",
    "<img src=\"imgs/lunar_lander.png\" width=\"600px\">\n",
    "<figcaption style=\"text-align: center\"> Figure 2: The Lunar lander environment. </figcaption>\n",
    "</figure>\n",
    "\n",
    "The ***Lunar lander*** environment is shown in Figure 2. The goal is to make the lunar lander land on the ground between two flag poles. The agent receives a positive reward for moving towards the landing pad, landing, etc. A negative reward is given for firing the main engine (more fuel-efficient policies are better) and for crashing. Four actions are available: firing the left/right/main engines, or doing nothing (free fall). The observation vector consists of 6 continuous and 2 discrete values:\n",
    "\n",
    "$$\n",
    "o=\\left(\\begin{array}{llllllll}\n",
    "x & y & \\dot{x} & \\dot{y} & \\theta & \\dot{\\theta} & c_l & c_r\n",
    "\\end{array}\\right)^T,\n",
    "$$\n",
    "\n",
    "where $x$ and $y$ are the coordinates of the lander, $\\dot{x}$ and $\\dot{y}$ its velocities, $\\theta$ represents the rotation angle and $\\dot{\\theta}$ the angular velocity of the lander. Two discrete values $c_l$ and $c_r$  indicate whether the lander’s legs are in contact with the ground (0 or 1).\n"
   ]
  },
  {
   "cell_type": "markdown",
   "id": "3636f10e",
   "metadata": {},
   "source": [
    "<a id='T4'></a>\n",
    "<div class=\" alert alert-warning\">\n",
    "    <h3><b>Student Task 4.</b> Using Q-Learning on the Lunar Lander Environment (5 points) </h3> \n",
    "\n",
    "Run the training for Lunar Lander environment by executing cell ```Training on the Lunar Lander Environment```. Run it for 20000 episodes (which was enough for the Cartpole to learn). **Attach the training performance plot in your submission.**\n",
    "\n",
    "**Heads Up:** The generated file `task4_q_table.pkl` is sizeable, approximately 2 GB. Ensure you **delete** it before submitting. But do not delete the `task4__glie.png` file.\n",
    "    \n",
    "🔝\t<a href='#TOC'><b>Table of Contents</b></a>\n",
    "</div>\n"
   ]
  },
  {
   "cell_type": "code",
   "execution_count": 23,
   "id": "ec43485e",
   "metadata": {
    "tags": []
   },
   "outputs": [],
   "source": [
    "# Training on the Lunar Lander Environment\n",
    "if not skip_training:\n",
    "    cfg_args=dict(epsilon='glie', glie_b=b, save_video=False, discr=12) # insert correct value for glie_b\n",
    "    train(cfg_path=Path().cwd()/'cfg'/'lunarlander_v2.yaml', cfg_args=cfg_args) # "
   ]
  },
  {
   "cell_type": "code",
   "execution_count": 24,
   "id": "d7d4481f",
   "metadata": {
    "tags": []
   },
   "outputs": [],
   "source": [
    "if not skip_training:\n",
    "    cfg_args=dict(epsilon='glie', save_video=True, test_episodes=5)\n",
    "    test(cfg_path=Path().cwd()/'cfg'/'lunarlander_v2.yaml', cfg_args=cfg_args)"
   ]
  },
  {
   "cell_type": "code",
   "execution_count": 25,
   "id": "05937429-abca-4681-b88a-f5f3f63eb8d5",
   "metadata": {},
   "outputs": [],
   "source": [
    "# deleting Q-table due to its size as it's not needed for grading.\n",
    "q_table_path = Path().cwd()/'results'/'LunarLander-v2'/'task4_q_table_glie.pkl'\n",
    "if os.path.exists(q_table_path):\n",
    "    os.remove(q_table_path)"
   ]
  },
  {
   "cell_type": "code",
   "execution_count": 26,
   "id": "b2f33113",
   "metadata": {
    "tags": []
   },
   "outputs": [],
   "source": [
    "if not skip_training:\n",
    "      video = Video(Path().cwd()/'results'/'LunarLander-v2'/'video'/'test'/'ex3-episode-3.mp4',\n",
    "      embed=True, html_attributes=\"loop autoplay\") # Set html_attributes=\"controls\" for video control\n",
    "      display(video)"
   ]
  },
  {
   "cell_type": "code",
   "execution_count": null,
   "id": "9ff0a252",
   "metadata": {
    "deletable": false,
    "editable": false,
    "nbgrader": {
     "cell_type": "code",
     "checksum": "650c9f3243d0a1d2956190dcf3759aa0",
     "grade": true,
     "grade_id": "cell-d29073ccaa4d44b2",
     "locked": true,
     "points": 5,
     "schema_version": 3,
     "solution": false,
     "task": false
    }
   },
   "outputs": [],
   "source": []
  },
  {
   "cell_type": "markdown",
   "id": "39cd6a58",
   "metadata": {
    "deletable": false,
    "editable": false,
    "nbgrader": {
     "cell_type": "markdown",
     "checksum": "7a0f5b818b10379e790e0b2d75e9484d",
     "grade": false,
     "grade_id": "cell-a471f8bfee9e6a17",
     "locked": true,
     "schema_version": 3,
     "solution": false,
     "task": false
    },
    "tags": []
   },
   "source": [
    "<a id='Q4'></a>\n",
    "<div class=\" alert alert-warning\">\n",
    "    <h3><b>Student Question 4.1</b> Lunar Lander Performance (15 points) </h3> \n",
    "\n",
    "Why doesn't the Lunar Lander learn to land consistently between the flag poles after 20,000 episodes? Select all that apply.\n",
    "\n",
    "    \n",
    "🔝\t<a href='#TOC'><b>Table of Contents</b></a>\n",
    "</div>\n"
   ]
  },
  {
   "cell_type": "markdown",
   "id": "8dd97212-ad22-4953-9a22-35d8133b9738",
   "metadata": {
    "deletable": false,
    "editable": false,
    "nbgrader": {
     "cell_type": "markdown",
     "checksum": "a2574c891d50448fac57514f8f74d7c6",
     "grade": false,
     "grade_id": "cell-908548faad54e815",
     "locked": true,
     "schema_version": 3,
     "solution": false,
     "task": false
    },
    "tags": []
   },
   "source": [
    "Options\n",
    "1. The lunar lander's dynamics are too complex for a simple Q-learning approach\n",
    "2. The discretization of continuous states causes loss of crucial information\n",
    "3. The Q-learning algorithm struggles with high-dimensional state spaces\n",
    "4. The reward function may not provide enough guidance for precise landing\n",
    "5. The epsilon-greedy strategy may not provide sufficient exploration for Q-learning\n",
    "6. 20,000 episodes is insufficient for the Q-learning algorithm to converge in lunar lander\n",
    "7. The state space is too large for efficient exploration\n",
    "8. The combination of continuous state space and discrete action space is challenging"
   ]
  },
  {
   "cell_type": "code",
   "execution_count": 27,
   "id": "d7e70b5a-f9df-4ca7-bb0f-c42937027d86",
   "metadata": {
    "tags": []
   },
   "outputs": [],
   "source": [
    "# Answer question 4.2 with appropriate option numbers\n",
    "sq4_2 = [1, 2, 3, 4, 6, 7]"
   ]
  },
  {
   "cell_type": "markdown",
   "id": "edb8fc54-59b1-4ecc-b56f-bab48c1d2964",
   "metadata": {},
   "source": [
    "The following cells are used for grading."
   ]
  },
  {
   "cell_type": "code",
   "execution_count": null,
   "id": "fb6e71fd-4f1a-4087-afbe-6a52c162832b",
   "metadata": {
    "deletable": false,
    "editable": false,
    "nbgrader": {
     "cell_type": "code",
     "checksum": "c4acdc343437df35b85f1eb5bfd75de1",
     "grade": true,
     "grade_id": "cell-40dbcf45474410e7",
     "locked": true,
     "points": 4,
     "schema_version": 3,
     "solution": false,
     "task": false
    },
    "tags": []
   },
   "outputs": [],
   "source": []
  },
  {
   "cell_type": "code",
   "execution_count": null,
   "id": "2a7d0d12-166c-4c4c-ae24-1d10d4488b3e",
   "metadata": {
    "deletable": false,
    "editable": false,
    "nbgrader": {
     "cell_type": "code",
     "checksum": "1eed6ae7a6b2fd0e983742243c77a37a",
     "grade": true,
     "grade_id": "cell-6667bcd9d943e6f3",
     "locked": true,
     "points": 4,
     "schema_version": 3,
     "solution": false,
     "task": false
    },
    "tags": []
   },
   "outputs": [],
   "source": []
  },
  {
   "cell_type": "code",
   "execution_count": null,
   "id": "d61efda9-0a20-4005-99f9-8cfe30fe0874",
   "metadata": {
    "deletable": false,
    "editable": false,
    "nbgrader": {
     "cell_type": "code",
     "checksum": "f4d89233545978970fc3c3fd99372c4a",
     "grade": true,
     "grade_id": "cell-13d4526e844ef54e",
     "locked": true,
     "points": 4,
     "schema_version": 3,
     "solution": false,
     "task": false
    },
    "tags": []
   },
   "outputs": [],
   "source": []
  },
  {
   "cell_type": "code",
   "execution_count": null,
   "id": "d82da6a3-4931-4749-a8ef-eb24d190b917",
   "metadata": {
    "deletable": false,
    "editable": false,
    "nbgrader": {
     "cell_type": "code",
     "checksum": "c96eabd6af98e4108d2b2ccd70cd94ef",
     "grade": true,
     "grade_id": "cell-a705852648c0ce3b",
     "locked": true,
     "points": 3,
     "schema_version": 3,
     "solution": false,
     "task": false
    },
    "tags": []
   },
   "outputs": [],
   "source": []
  },
  {
   "cell_type": "markdown",
   "id": "98e534eb",
   "metadata": {},
   "source": [
    "# 4. Submitting <a id='4.'></a>\n",
    "Ensure all tasks and questions (in ```ex3.ipynb```) are answered and the relevant plots are recorded in the relevant places. Details about attaching images and figures can be found below. The relevant graphs to be included for this assignment are:\n",
    "\n",
    "\n",
    "- Training performance plots:\n",
    "  - `task1_e.png`: Cartpole, constant value of $\\epsilon$ training performance plots in terms of episode and smoothed episodic reward\n",
    "  - `task1_glie.png`: Cartpole, GLIE training performance plots in terms of episode and smoothed episodic reward\n",
    "  - `task3.1_e.png`: Cartpole, training performance plots of the initial estimates of the Q function at 0 \n",
    "  - `task3.2_e.png`: Cartpole, training performance plots of the initial estimates of the Q function at 50\n",
    "  - `task4_glie.png`: Luner Lander, training performance plots in terms of episode and smoothed episodic reward\n",
    "- Q-table files:\n",
    "  - `task1_q_table_e.pkl`: Cartpole, Q-table for the constant exploration rate.\n",
    "  - `task1_q_table_glie.pkl`: Cartpole, Q-table for GLIE.\n",
    "\n",
    "\n",
    "Ensure the correct model files and plots are saved:\n",
    "- ```results/CartPole-v1/task1_e.png``` From Task 1\n",
    "- ```results/CartPole-v1/task1_glie.png``` From Task 1\n",
    "- ```results/CartPole-v1/task1_q_table_e.pkl``` From Task 1\n",
    "- ```results/CartPole-v1/task1_q_table_glie.pkl``` From Task 1\n",
    "- ```results/CartPole-v1/task3.1__e.png``` From Task 3\n",
    "- ```results/CartPole-v1/task3.2__e.png``` From Task 3\n",
    "- ```results/LunarLander-v2/task4__glie.png``` From Task 4\n"
   ]
  },
  {
   "cell_type": "code",
   "execution_count": 28,
   "id": "15c6c5b4",
   "metadata": {},
   "outputs": [],
   "source": [
    "# Make sure that skip training is set to True before submission\n",
    "assert skip_training == True"
   ]
  },
  {
   "cell_type": "markdown",
   "id": "4fdb3823",
   "metadata": {},
   "source": [
    "## 4.1 Feedback <a id='4.1'></a>\n",
    "\n",
    "In order to help the staff of the course as well as the forthcoming students, it would be great if you could answer to the following questions in your submission:"
   ]
  },
  {
   "cell_type": "markdown",
   "id": "1a19aa8d-6ce6-4688-b6f8-db0ae3caa596",
   "metadata": {},
   "source": [
    "1) How much time did you spend solving this exercise? (change the ```hrs``` variable below to a floating point number representing the number of hours taken e.g. 5.43)"
   ]
  },
  {
   "cell_type": "code",
   "execution_count": 29,
   "id": "5b7c8370-ff84-4dc9-aab8-596782c55d62",
   "metadata": {
    "tags": []
   },
   "outputs": [],
   "source": [
    "hrs = 4"
   ]
  },
  {
   "cell_type": "markdown",
   "id": "75d254d1-ad16-4c10-87a6-72afb79d49fe",
   "metadata": {},
   "source": [
    "2) Difficulty of each task/question from 1-5 (int or float)"
   ]
  },
  {
   "cell_type": "code",
   "execution_count": 30,
   "id": "58193777-64de-4d7c-be84-249d34e1c027",
   "metadata": {
    "tags": []
   },
   "outputs": [],
   "source": [
    "T1 = 3   # Student Task 1. Implementing Q-Learning (25 points)\n",
    "T2 = 2   # Student Task 2. Visualizing the Value Function (10 points)\n",
    "Q2_1 = 3 # Student Question 2.1 Analyzing the Value Function Heatmap (15 points)\n",
    "T3 = 1   # Student Task 3. Investigating Initial Values (10 points)\n",
    "Q3_1 = 1 # Student Question 3.1 Analyzing Initial Values (5 points)\n",
    "Q3_2 = 4 # Student Question 3.2 Exploration (15 points)\n",
    "T4 = 1   # Student Task 4. Using Q-Learning on the Lunar Lander Environment (5 points)\n",
    "Q4_1 = 4 # Student Question 4.1 Lunar Lander Performance (15 points)"
   ]
  },
  {
   "cell_type": "markdown",
   "id": "af146c4d-9475-4c0b-8b43-823fc345a584",
   "metadata": {},
   "source": [
    "3) How well did you understand the content of the task/question from 1-5? (int or float)"
   ]
  },
  {
   "cell_type": "code",
   "execution_count": 31,
   "id": "0f5a460a-eb5b-45e4-a091-7153416dbd43",
   "metadata": {
    "tags": []
   },
   "outputs": [],
   "source": [
    "T1 = 4   # Student Task 1. Implementing Q-Learning (25 points)\n",
    "T2 = 5   # Student Task 2. Visualizing the Value Function (10 points)\n",
    "Q2_1 = 3 # Student Question 2.1 Analyzing the Value Function Heatmap (15 points)\n",
    "T3 = 3   # Student Task 3. Investigating Initial Values (10 points)\n",
    "Q3_1 = 3 # Student Question 3.1 Analyzing Initial Values (5 points)\n",
    "Q3_2 = 2 # Student Question 3.2 Exploration (15 points)\n",
    "T4 = 4   # Student Task 4. Using Q-Learning on the Lunar Lander Environment (5 points)\n",
    "Q4_1 = 3 # Student Question 4.1 Lunar Lander Performance (15 points)"
   ]
  },
  {
   "cell_type": "markdown",
   "id": "3de4ebe0-4012-42fd-90ae-2c8e386afa4f",
   "metadata": {},
   "source": [
    "4) General feedback. Consider questions like:\n",
    "\n",
    "    - Did the content of the lecture relate well with the assignment?\n",
    "    - To what extent did you find the material to be potentially useful for your research and studies?\n",
    "    \n",
    "And other feedback you think is worth including. Type in the box below"
   ]
  },
  {
   "cell_type": "markdown",
   "id": "d67c9543-3652-4311-ad4d-6b6a087e5587",
   "metadata": {
    "tags": []
   },
   "source": [
    "DOUBLE CLICK HERE TO EDIT, CLEAR THIS TEXT AND ANSWER HERE"
   ]
  }
 ],
 "metadata": {
  "kernelspec": {
   "display_name": "Python 3",
   "language": "python",
   "name": "python3"
  },
  "language_info": {
   "codemirror_mode": {
    "name": "ipython",
    "version": 3
   },
   "file_extension": ".py",
   "mimetype": "text/x-python",
   "name": "python",
   "nbconvert_exporter": "python",
   "pygments_lexer": "ipython3",
   "version": "3.10.12"
  }
 },
 "nbformat": 4,
 "nbformat_minor": 5
}
