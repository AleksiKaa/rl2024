{
 "cells": [
  {
   "cell_type": "markdown",
   "id": "53274fb5",
   "metadata": {
    "deletable": false,
    "editable": false,
    "nbgrader": {
     "cell_type": "markdown",
     "checksum": "5bba742b91375ed640d206a3c9f351e5",
     "grade": false,
     "grade_id": "cell-7dd133571740e15f",
     "locked": true,
     "schema_version": 3,
     "solution": false,
     "task": false
    }
   },
   "source": [
    "\n",
    "<div class=\"alert alert-block alert-info\">\n",
    "   <h2 align=\"center\"> <center><b> Reinforcement Learning Assignment 4 - Function Approximators Part 2: Deep Q Network </b></center></h2>\n",
    "\n",
    "<br>\n",
    "<center><font size=\"3\">This notebook is a part of teaching material for ELEC-E8125</font></center>\n",
    "<center><font size=\"3\">Aalto University</font></center>\n",
    "</div>\n",
    "\n",
    "\n",
    "<a id='TOC'></a>\n",
    "\n",
    "<div class=\"alert alert-block alert-success\">\n",
    "    \n",
    "# Table of contents\n",
    "* <a href='#1.'> 1. Introduction </a>\n",
    "* <a href='#1.1'> 1.1 Task environments </a>\n",
    "* <a href='#1.2'> 1.2 Learning Objectives </a>\n",
    "* <a href='#1.3'> 1.3 Code Structure & Files </a>\n",
    "* <a href='#1.4'> 1.4 Execution time </a>\n",
    "* <a href='#2.'> 2. A (not-so-)deep Q-network</a>\n",
    "* <a href='#3.'> 3. Submitting </a>\n",
    "* <a href='#3.1'> 3.1 Feedback </a>\n",
    "\n",
    "<a href='#T1'><b>Student Task 1.</b> Implementing DQN (10 points) </a>\\\n",
    "<a href='#Q1'><b>Student Question 1.1</b> Considering Continuous Action Spaces (5 points) </a>\\\n",
    "<a href='#Q2'><b>Student Question 1.2</b> Continuous Action Spaces Part 1 (15 points) </a>\\\n",
    "<a href='#Q3'><b>Student Question 1.3</b> The Target Network (10 points) </a>\n",
    " \n",
    "\n",
    "**Total Points:** 40\n",
    "\n",
    "**Estimated runtime of all the cells:** 2 hours"
   ]
  },
  {
   "cell_type": "markdown",
   "id": "9fb3bd96",
   "metadata": {
    "deletable": false,
    "editable": false,
    "nbgrader": {
     "cell_type": "markdown",
     "checksum": "2ccf0d452335e813bfc82782639cf8f7",
     "grade": false,
     "grade_id": "cell-ebc6fa2d1ab8fcf9",
     "locked": true,
     "schema_version": 3,
     "solution": false,
     "task": false
    }
   },
   "source": [
    "# 1. Introduction <a id='1.'></a>\n",
    "\n",
    "In various real-world scenarios, dealing with high-dimensional state spaces makes it impractical to compute and store Q-values for every possible state-action pair in a Q-table. To address this challenge, we turn to function approximators. In this assignment, you will progress creating a basic Deep Q-Network (DQN) in the **Cartpole** and **LunarLander** environment.\n",
    "\n",
    "**Please start working on this assignment early since the DQN will take some time to train.**\n",
    "\n",
    "\n",
    "<div style=\"display:flex\">\n",
    "     <div style=\"flex:1;padding-left:100px;\">\n",
    "          <img src=\"imgs/cartpole.png\" width=\"300\"/>\n",
    "         <figcaption style=\"flex:1;padding-left:20px;\">  Figure 1: The Cartpole environment. </figcaption>\n",
    "     </div>\n",
    "     <div style=\"flex:1;padding-left:70px;\">\n",
    "          <img src=\"imgs/lunar_lander.png\" width=\"300\"/>\n",
    "         <figcaption style=\"flex:1;padding-left:20px;\">  Figure 2: The Lunarlander environment. </figcaption>\n",
    "     </div>\n",
    "\n",
    "</div>\n",
    "\n",
    "Useful Sources:\n",
    "\n",
    "- Mnih, Volodymyr, et al. \"Playing atari with deep reinforcement learning.\" arXiv preprint arXiv:1312.5602 (2013). https://arxiv.org/pdf/1312.5602.pdf\n",
    "\n",
    "\n",
    "## 1.1 Task environments: <a id='1.1'></a>\n",
    "In this excercise, we will mainly use DQN for two tasks:\n",
    "- Cartpole(https://gymnasium.farama.org/environments/classic_control/cart_pole/): This environment corresponds to the version of the cart-pole problem described by Barto, Sutton, and Anderson in “Neuronlike Adaptive Elements That Can Solve Difficult Learning Control Problem”. A pole is attached by an un-actuated joint to a cart, which moves along a frictionless track. The pendulum is placed upright on the cart and the goal is to balance the pole by applying forces in the left and right direction on the cart.\n",
    "\n",
    "- Lunar Lander (https://gymnasium.farama.org/environments/box2d/lunar_lander/): This environment is a classic rocket trajectory optimization problem. According to Pontryagin’s maximum principle, it is optimal to fire the engine at full throttle or turn it off. This is the reason why this environment has discrete actions: engine on or off.\n",
    "\n",
    "## 1.2 Learning Objectives: <a id='1.1'></a>\n",
    "- Understand why and how function approximators can be used for Q-learning\n",
    "- Understand the Deep Q-Network RL algorithm\n",
    "\n",
    "## 1.3 Code Structure & Files <a id='1.2'></a>\n",
    "\n",
    "```ex4_dqn.ipynb``` is the file needed to be modified for this part of the assignment.  \n",
    "\n",
    "<span style=\"color:red\"> **# IMPORTANT: DO NOT FORGET ANOTHER TASK IN ```ex4_rbf.ipynb```** </span>\n",
    "\n",
    "```\n",
    "├───cfg                            # Config files for environments\n",
    "├───imgs                           # Images used in notebook\n",
    "├───results\n",
    "│   └───CartPole-v1\n",
    "│   │   ├───logging                \n",
    "│   │   │    └───logging.pkl        # Contains logged data\n",
    "│   │   ├───model              \n",
    "│   │   │    └───*dqn.pt            # Contains trained model\n",
    "│   │   └───video                   # Videos saved\n",
    "│   │   └───*cartpole_dqn.png       # Contains training performance plot\n",
    "│   └───LunarLander-v2\n",
    "│   │   ├───logging                \n",
    "│   │   │    └───logging.pkl        # Contains logged data\n",
    "│   │   ├───model              \n",
    "│   │   │    └───*dqn.pt            # Contains trained model\n",
    "│   │   └───video                   # Videos saved\n",
    "│   │   └───*lunarlander_dqn.png    # Contains training performance plot\n",
    "│   ex4_dqn.ipynb                   # 2nd assignment file containing tasks <---------This task\n",
    "│   ex4_rbf.ipynb                   # 1st assignment file containing tasks <---------\n",
    "│   train.py                        # Contains train and test functions \n",
    "│   utils.py                        # Contains useful functions \n",
    "└───buffer.py                       # Contains buffer functions\n",
    "```\n",
    "\n",
    "## 1.4 Execution time <a id='1.4'></a>\n",
    "\n",
    "The training of these methods might take more than 40 mins depends on the server. If you have problem of experiment running takes too much time, you can download the jupyter notebook and test it locally."
   ]
  },
  {
   "cell_type": "markdown",
   "id": "c6968238",
   "metadata": {
    "deletable": false,
    "editable": false,
    "nbgrader": {
     "cell_type": "markdown",
     "checksum": "47530e48db6901812adae6ba0239bc2d",
     "grade": false,
     "grade_id": "cell-fdd24e05653d4a99",
     "locked": true,
     "schema_version": 3,
     "solution": false,
     "task": false
    }
   },
   "source": [
    "## Warnings:\n",
    "\n",
    "- Don’t copy and paste cells within a notebook. This will mess up the tracking metadata and prevent autograding from working.\n",
    "- Only add new cells using the '+' button in the upper toolbar and do not split cells.\n",
    "- Be cautious about things such as copying the whole notebook to Colab to work on it. This has sometimes resulted in removing all notebook metadata, making autograding impossible."
   ]
  },
  {
   "cell_type": "markdown",
   "id": "2cba7612-914b-4860-b019-7dc32b075b6b",
   "metadata": {
    "deletable": false,
    "editable": false,
    "nbgrader": {
     "cell_type": "markdown",
     "checksum": "8ead3054091bb4a4807d085110e4ebc7",
     "grade": false,
     "grade_id": "cell-3c7108bbf5fe22bf",
     "locked": true,
     "schema_version": 3,
     "solution": false,
     "task": false
    },
    "tags": []
   },
   "source": [
    "# 2. A (not-so-)deep Q-network <a id='2.'></a>"
   ]
  },
  {
   "cell_type": "markdown",
   "id": "00b2f2ea",
   "metadata": {
    "deletable": false,
    "editable": false,
    "nbgrader": {
     "cell_type": "markdown",
     "checksum": "a84e8c7719f42c54880e4a2a07f85574",
     "grade": false,
     "grade_id": "cell-af25de8f4a4da8d9",
     "locked": true,
     "schema_version": 3,
     "solution": false,
     "task": false
    }
   },
   "source": [
    "<a id='T1'></a>\n",
    "<div class=\" alert alert-warning\">\n",
    "    <h3><b>Student Task 1.</b> Implementing DQN (10 points) </h3> \n",
    "\n",
    "Finish the incomplete code in DQNAgent (functions ```update``` and ```get_action```, marked with ```TODO```) to implement a DQN agent.\n",
    "\n",
    "**See Figure 3 for an example training performance plot for cartpole. Save the training performance plots, and check if they are in the right place (the paths please refer to <a href='#3.'>Submitting<a>).**\n",
    "\n",
    "<figure style=\"text-align: center\">\n",
    "<img src=\"imgs/dqn.png\" width=\"300px\">\n",
    "<figcaption style=\"text-align: center\"> Figure 3: The training performance plot for cartpole-dqn might look something like this. </figcaption>\n",
    "</figure>\n",
    "    \n",
    "🔝\t<a href='#TOC'><b>Table of Contents</b></a>\n",
    "</div>\n"
   ]
  },
  {
   "cell_type": "code",
   "execution_count": 137,
   "id": "4284bfc0",
   "metadata": {
    "tags": []
   },
   "outputs": [],
   "source": [
    "skip_training = True  # Set this flag to True before validation and submission"
   ]
  },
  {
   "cell_type": "code",
   "execution_count": null,
   "id": "6c9a2760",
   "metadata": {
    "deletable": false,
    "editable": false,
    "nbgrader": {
     "cell_type": "code",
     "checksum": "578a265f70c27c97dcec1ac8b16d4362",
     "grade": true,
     "grade_id": "cell-6421cfde6887e896",
     "locked": true,
     "points": 0,
     "schema_version": 3,
     "solution": false,
     "task": false
    }
   },
   "outputs": [],
   "source": []
  },
  {
   "cell_type": "code",
   "execution_count": 2,
   "id": "ec1d14d1",
   "metadata": {
    "tags": []
   },
   "outputs": [],
   "source": [
    "import sys, os\n",
    "sys.path.insert(0, os.path.abspath(\"..\"))\n",
    "from typing import List\n",
    "import numpy as np\n",
    "import torch, random, copy, yaml, time\n",
    "import torch.nn as nn\n",
    "import torch.optim as optim\n",
    "import torch.nn.functional as F\n",
    "from pathlib import Path\n",
    "\n",
    "import utils as u\n",
    "import train as t\n",
    "\n",
    "from IPython.display import Video # to display videos\n",
    "\n",
    "device = 'cpu'"
   ]
  },
  {
   "cell_type": "code",
   "execution_count": 3,
   "id": "b2c93182",
   "metadata": {
    "tags": []
   },
   "outputs": [],
   "source": [
    "def mlp(in_dim, mlp_dims: List[int], out_dim, act_fn=nn.ReLU, out_act=nn.Identity):\n",
    "    \"\"\"Returns an MLP.\"\"\"\n",
    "    if isinstance(mlp_dims, int): raise ValueError(\"mlp dimensions should be list, but got int.\")\n",
    "\n",
    "    layers = [nn.Linear(in_dim, mlp_dims[0]), act_fn()]\n",
    "    for i in range(len(mlp_dims)-1):\n",
    "        layers += [nn.Linear(mlp_dims[i], mlp_dims[i+1]), act_fn()]\n",
    "    # the output layer\n",
    "    layers += [nn.Linear(mlp_dims[-1], out_dim), out_act()]\n",
    "    return nn.Sequential(*layers)"
   ]
  },
  {
   "cell_type": "code",
   "execution_count": 116,
   "id": "6c01a546",
   "metadata": {
    "tags": []
   },
   "outputs": [],
   "source": [
    "class DQNAgent(object):\n",
    "    def __init__(self, state_shape, n_actions,\n",
    "                 batch_size=32, hidden_dims=[12], gamma=0.98, lr=1e-3, grad_clip_norm=1000, tau=0.001):\n",
    "        self.n_actions = n_actions\n",
    "        self.state_dim = state_shape[0]\n",
    "        self.policy_net = mlp(self.state_dim, hidden_dims, n_actions).to(device)\n",
    "        self.target_net = copy.deepcopy(self.policy_net)\n",
    "        self.target_net.eval()\n",
    "        self.optimizer = optim.Adam(self.policy_net.parameters(), lr=float(lr))\n",
    "\n",
    "        self.batch_size = batch_size\n",
    "        self.gamma = gamma\n",
    "        self.grad_clip_norm = grad_clip_norm\n",
    "        self.tau = tau\n",
    "        \n",
    "        self.counter = 0\n",
    "\n",
    "    def update(self, buffer):\n",
    "        \"\"\" One gradient step, update the policy net.\"\"\"\n",
    "        start = time.perf_counter()\n",
    "        self.counter += 1\n",
    "        # Do one step gradient update\n",
    "        batch = buffer.sample(self.batch_size, device=device)\n",
    "        # Hint:\n",
    "        #    state = batch.state\n",
    "        #    action = batch.action \n",
    "        #    next_state = batch.next_state\n",
    "        #    reward = batch.reward \n",
    "        #    not_done = batch.not_done \n",
    "        \n",
    "        # TODO: Task 3: Finish the DQN implementation.\n",
    "        # Hints: 1. You can use torch.gather() to gather values along an axis specified by dim. \n",
    "        #        2. torch.max returns a namedtuple (values, indices) where values is the maximum \n",
    "        #           value of each row of the input tensor in the given dimension dim.\n",
    "        #           And indices is the index location of each maximum value found (argmax).\n",
    "        #        3.  batch is a namedtuple, which has state, action, next_state, not_done, reward\n",
    "        #           you can access the value be batch.<name>, e.g, batch.state\n",
    "        #        4. check torch.nn.utils.clip_grad_norm_() to know how to clip grad norm\n",
    "        #        5. You can go throught the PyTorch Tutorial given on MyCourses if you are not familiar with it. \n",
    "        # calculate the q(s,a)\n",
    "        ########## You code starts here #########\n",
    "        \n",
    "        # Unpack batch\n",
    "        state = batch.state\n",
    "        action = batch.action \n",
    "        next_state = batch.next_state\n",
    "        reward = batch.reward \n",
    "        not_done = batch.not_done\n",
    "        \n",
    "        # Get q_values of current state\n",
    "        q_values = self.policy_net(state)\n",
    "        # Get q_values corresponding to current action\n",
    "        q_action = torch.gather(q_values, 1, action.to(torch.long))\n",
    "        \n",
    "        with torch.no_grad():\n",
    "            next_q_values = self.target_net(next_state)\n",
    "            next_q_value = torch.max(next_q_values, 1, keepdim=True)[0]\n",
    "            q_target = reward + self.gamma * not_done * next_q_value\n",
    "\n",
    "        # Compute loss\n",
    "        loss = F.mse_loss(q_action, q_target)\n",
    "        \n",
    "        # Gradient\n",
    "        self.optimizer.zero_grad()\n",
    "        loss.backward()\n",
    "        \n",
    "        # Clip gradient\n",
    "        torch.nn.utils.clip_grad_norm_(self.policy_net.parameters(), self.grad_clip_norm)\n",
    "        \n",
    "        # Update weights\n",
    "        self.optimizer.step()\n",
    "        \n",
    "        qs = q_values\n",
    "        \n",
    "        ########## You code ends here #########\n",
    "\n",
    "        # update the target network\n",
    "        u.soft_update_params(self.policy_net, self.target_net, self.tau)\n",
    "        \n",
    "        end = time.perf_counter()\n",
    "        update_time = end - start\n",
    "        return {'loss': loss.item(), \n",
    "                'q_mean': qs.mean().item(),\n",
    "                'num_update': self.counter,\n",
    "                'update_time': update_time}\n",
    "\n",
    "\n",
    "    @torch.no_grad()\n",
    "    def get_action(self, state, epsilon=0.05):\n",
    "        # TODO:  Task 3: implement epsilon-greedy action selection\n",
    "        ########## You code starts here #########\n",
    "        \n",
    "        p = np.random.uniform(0, 1)\n",
    "        \n",
    "        if p < epsilon:\n",
    "            action = np.random.choice(self.n_actions)\n",
    "        else:\n",
    "            action = torch.argmax(self.policy_net(torch.Tensor(state))).item()\n",
    "\n",
    "        ########## You code ends here #########\n",
    "        return action\n",
    "\n",
    "\n",
    "    def save(self, fp):\n",
    "        path = fp/'dqn.pt'\n",
    "        torch.save({\n",
    "            'policy': self.policy_net.state_dict(),\n",
    "            'policy_target': self.target_net.state_dict()\n",
    "        }, path)\n",
    "\n",
    "    def load(self, fp):\n",
    "        path = fp/'dqn.pt'\n",
    "        d = torch.load(path)\n",
    "        self.policy_net.load_state_dict(d['policy'])\n",
    "        self.target_net.load_state_dict(d['policy_target'])"
   ]
  },
  {
   "cell_type": "code",
   "execution_count": 117,
   "id": "d1d97e7d",
   "metadata": {
    "tags": []
   },
   "outputs": [],
   "source": [
    "# init agent\n",
    "with open(Path().cwd()/'cfg'/'cartpole_dqn.yaml', 'r') as f:\n",
    "    cfg = t.Struct(**yaml.safe_load(f))\n",
    "    \n",
    "agent = DQNAgent(state_shape=cfg.state_shape, n_actions=cfg.n_actions, batch_size=cfg.batch_size, hidden_dims=cfg.hidden_dims,\n",
    "                 gamma=cfg.gamma, lr=cfg.lr, tau=cfg.tau)"
   ]
  },
  {
   "cell_type": "code",
   "execution_count": 118,
   "id": "35fc3169",
   "metadata": {
    "tags": []
   },
   "outputs": [
    {
     "name": "stdout",
     "output_type": "stream",
     "text": [
      "Numpy/Torch/Random Seed:  436\n",
      "{'ep_reward': 43.0, 'episode': 0, 'epsilon': 1.0, 'ep_avr': 0.012622781097888947, 'ts_avr': 0.0002813796664393225}\n",
      "{'ep_reward': 14.0, 'episode': 100, 'epsilon': 0.6666666666666666, 'ep_avr': 0.06303181029856204, 'ts_avr': 0.00306563191805053, 'loss': 0.32411208748817444, 'q_mean': 0.9850242137908936, 'num_update': 1807, 'update_time': 0.0025501027703285217}\n",
      "{'ep_reward': 10.0, 'episode': 200, 'epsilon': 0.5, 'ep_avr': 0.047412462383508686, 'ts_avr': 0.0031490782226257503, 'loss': 0.26112210750579834, 'q_mean': 2.0973012447357178, 'num_update': 3311, 'update_time': 0.0026261135935783386}\n",
      "{'ep_reward': 8.0, 'episode': 300, 'epsilon': 0.4, 'ep_avr': 0.03995130397379398, 'ts_avr': 0.0030323464683848673, 'loss': 0.43668270111083984, 'q_mean': 3.0628743171691895, 'num_update': 4627, 'update_time': 0.002594791352748871}\n",
      "{'ep_reward': 12.0, 'episode': 400, 'epsilon': 0.3333333333333333, 'ep_avr': 0.03446745440363884, 'ts_avr': 0.003037714119096404, 'loss': 0.6042656898498535, 'q_mean': 3.831294298171997, 'num_update': 5760, 'update_time': 0.002628430724143982}\n",
      "{'ep_reward': 11.0, 'episode': 500, 'epsilon': 0.2857142857142857, 'ep_avr': 0.03543270356953144, 'ts_avr': 0.003243093127017716, 'loss': 0.4364244341850281, 'q_mean': 4.493669033050537, 'num_update': 6851, 'update_time': 0.0026089251041412354}\n",
      "{'ep_reward': 12.0, 'episode': 600, 'epsilon': 0.25, 'ep_avr': 0.03379114590585232, 'ts_avr': 0.0031737646373621383, 'loss': 0.5846040844917297, 'q_mean': 5.1375555992126465, 'num_update': 7914, 'update_time': 0.0028054267168045044}\n",
      "{'ep_reward': 9.0, 'episode': 700, 'epsilon': 0.2222222222222222, 'ep_avr': 0.033537523224949836, 'ts_avr': 0.0031469675775309255, 'loss': 0.9988458156585693, 'q_mean': 5.757654666900635, 'num_update': 8978, 'update_time': 0.0025855600833892822}\n",
      "{'ep_reward': 9.0, 'episode': 800, 'epsilon': 0.2, 'ep_avr': 0.03335182584822178, 'ts_avr': 0.0031561913083514898, 'loss': 1.3347773551940918, 'q_mean': 6.191911220550537, 'num_update': 10033, 'update_time': 0.002632059156894684}\n",
      "{'ep_reward': 77.0, 'episode': 900, 'epsilon': 0.18181818181818182, 'ep_avr': 0.04679764799773693, 'ts_avr': 0.003145416950353222, 'loss': 1.5424548387527466, 'q_mean': 7.1500139236450195, 'num_update': 11519, 'update_time': 0.002707064151763916}\n",
      "{'ep_reward': 43.0, 'episode': 1000, 'epsilon': 0.16666666666666666, 'ep_avr': 0.20325821071863173, 'ts_avr': 0.0032484234082248977, 'loss': 2.1386020183563232, 'q_mean': 10.306347846984863, 'num_update': 17773, 'update_time': 0.002728581428527832}\n",
      "{'ep_reward': 96.0, 'episode': 1100, 'epsilon': 0.15384615384615385, 'ep_avr': 0.295453631952405, 'ts_avr': 0.003130088926593526, 'loss': 1.505876898765564, 'q_mean': 16.36659812927246, 'num_update': 27208, 'update_time': 0.002638600766658783}\n",
      "{'ep_reward': 86.0, 'episode': 1200, 'epsilon': 0.14285714285714285, 'ep_avr': 0.3594139774888754, 'ts_avr': 0.003156993430114379, 'loss': 2.2161927223205566, 'q_mean': 22.369037628173828, 'num_update': 38588, 'update_time': 0.0025910958647727966}\n",
      "{'ep_reward': 144.0, 'episode': 1300, 'epsilon': 0.13333333333333333, 'ep_avr': 0.39064370073378085, 'ts_avr': 0.0031513674830314794, 'loss': 4.425838947296143, 'q_mean': 28.238628387451172, 'num_update': 50979, 'update_time': 0.002878636121749878}\n",
      "{'ep_reward': 194.0, 'episode': 1400, 'epsilon': 0.125, 'ep_avr': 0.5011769781261682, 'ts_avr': 0.0031798091120320403, 'loss': 0.29308366775512695, 'q_mean': 35.77639389038086, 'num_update': 66734, 'update_time': 0.0025950446724891663}\n",
      "{'ep_reward': 161.0, 'episode': 1500, 'epsilon': 0.11764705882352941, 'ep_avr': 0.5866345415264368, 'ts_avr': 0.0031660858450415015, 'loss': 0.22011980414390564, 'q_mean': 42.27104568481445, 'num_update': 85256, 'update_time': 0.002576395869255066}\n",
      "{'ep_reward': 200.0, 'episode': 1600, 'epsilon': 0.1111111111111111, 'ep_avr': 0.6363306760042906, 'ts_avr': 0.0033684840642453956, 'loss': 0.037797749042510986, 'q_mean': 46.6450080871582, 'num_update': 104140, 'update_time': 0.0032340362668037415}\n",
      "{'ep_reward': 200.0, 'episode': 1700, 'epsilon': 0.10526315789473684, 'ep_avr': 0.6392088501900435, 'ts_avr': 0.0032307465653687592, 'loss': 0.01589236408472061, 'q_mean': 55.360774993896484, 'num_update': 123918, 'update_time': 0.002798505127429962}\n",
      "{'ep_reward': 200.0, 'episode': 1800, 'epsilon': 0.1, 'ep_avr': 0.6216633901745081, 'ts_avr': 0.0031377925091968344, 'loss': 0.014349122531712055, 'q_mean': 64.96436309814453, 'num_update': 143723, 'update_time': 0.0024742335081100464}\n",
      "{'ep_reward': 200.0, 'episode': 1900, 'epsilon': 0.09523809523809523, 'ep_avr': 0.6322337051481008, 'ts_avr': 0.0031633563084259627, 'loss': 4.732635021209717, 'q_mean': 71.0550765991211, 'num_update': 163702, 'update_time': 0.0028090327978134155}\n",
      "{'ep_reward': 200.0, 'episode': 2000, 'epsilon': 0.09090909090909091, 'ep_avr': 0.6516545787453651, 'ts_avr': 0.0032571101393550636, 'loss': 0.01369605865329504, 'q_mean': 74.13925170898438, 'num_update': 183702, 'update_time': 0.0025224611163139343}\n",
      "{'ep_reward': 200.0, 'episode': 2100, 'epsilon': 0.08695652173913043, 'ep_avr': 0.6365445826202631, 'ts_avr': 0.003181582861021161, 'loss': 0.0008757508476264775, 'q_mean': 79.08838653564453, 'num_update': 203702, 'update_time': 0.002606824040412903}\n",
      "{'ep_reward': 200.0, 'episode': 2200, 'epsilon': 0.08333333333333333, 'ep_avr': 0.6204888325184583, 'ts_avr': 0.0031239750421458486, 'loss': 0.00645962031558156, 'q_mean': 84.30855560302734, 'num_update': 223557, 'update_time': 0.0027633309364318848}\n",
      "{'ep_reward': 200.0, 'episode': 2300, 'epsilon': 0.08, 'ep_avr': 0.6252085498720408, 'ts_avr': 0.0031249363031238316, 'loss': 0.008133793249726295, 'q_mean': 88.6173324584961, 'num_update': 243557, 'update_time': 0.0027318745851516724}\n",
      "{'ep_reward': 200.0, 'episode': 2400, 'epsilon': 0.07692307692307693, 'ep_avr': 0.6247239274531603, 'ts_avr': 0.0031224635105580093, 'loss': 0.009125687181949615, 'q_mean': 91.90992736816406, 'num_update': 263557, 'update_time': 0.002517491579055786}\n",
      "{'ep_reward': 200.0, 'episode': 2500, 'epsilon': 0.07407407407407407, 'ep_avr': 0.6395561107993126, 'ts_avr': 0.003227080820179751, 'loss': 0.015187472105026245, 'q_mean': 95.82280731201172, 'num_update': 283368, 'update_time': 0.0025912970304489136}\n",
      "{'ep_reward': 200.0, 'episode': 2600, 'epsilon': 0.07142857142857142, 'ep_avr': 0.623876164406538, 'ts_avr': 0.003167193273438899, 'loss': 0.07183675467967987, 'q_mean': 97.35543823242188, 'num_update': 303059, 'update_time': 0.0032416731119155884}\n",
      "{'ep_reward': 200.0, 'episode': 2700, 'epsilon': 0.06896551724137931, 'ep_avr': 0.6394682776927948, 'ts_avr': 0.0031962109696120023, 'loss': 0.05045349895954132, 'q_mean': 98.15835571289062, 'num_update': 323059, 'update_time': 0.002613544464111328}\n",
      "{'ep_reward': 200.0, 'episode': 2800, 'epsilon': 0.06666666666666667, 'ep_avr': 0.6379368381202221, 'ts_avr': 0.003188552030175924, 'loss': 0.029874740168452263, 'q_mean': 98.0339584350586, 'num_update': 343059, 'update_time': 0.002601519227027893}\n",
      "{'ep_reward': 200.0, 'episode': 2900, 'epsilon': 0.06451612903225806, 'ep_avr': 0.6397094122320414, 'ts_avr': 0.003197425050660968, 'loss': 0.005883030593395233, 'q_mean': 98.4010009765625, 'num_update': 363059, 'update_time': 0.0025954321026802063}\n",
      "{'ep_reward': 200.0, 'episode': 3000, 'epsilon': 0.0625, 'ep_avr': 0.6437206186354161, 'ts_avr': 0.0032174366530030966, 'loss': 0.002349704038351774, 'q_mean': 99.35020446777344, 'num_update': 383059, 'update_time': 0.0024864599108695984}\n",
      "{'ep_reward': 200.0, 'episode': 3100, 'epsilon': 0.06060606060606061, 'ep_avr': 0.6452195397764444, 'ts_avr': 0.0032336368135585714, 'loss': 0.002444226061925292, 'q_mean': 99.88237762451172, 'num_update': 403005, 'update_time': 0.0035309642553329468}\n",
      "{'ep_reward': 200.0, 'episode': 3200, 'epsilon': 0.058823529411764705, 'ep_avr': 0.6387213252484798, 'ts_avr': 0.003192485960200429, 'loss': 0.014575989916920662, 'q_mean': 99.92292785644531, 'num_update': 423005, 'update_time': 0.002598002552986145}\n",
      "{'ep_reward': 200.0, 'episode': 3300, 'epsilon': 0.05714285714285714, 'ep_avr': 0.6272369897365571, 'ts_avr': 0.003135032486543059, 'loss': 0.006084115710109472, 'q_mean': 100.00289154052734, 'num_update': 443005, 'update_time': 0.0026460811495780945}\n",
      "{'ep_reward': 200.0, 'episode': 3400, 'epsilon': 0.05555555555555555, 'ep_avr': 0.6305731640011072, 'ts_avr': 0.0031519212654646804, 'loss': 0.00926755927503109, 'q_mean': 100.19147491455078, 'num_update': 463004, 'update_time': 0.0026308372616767883}\n",
      "{'ep_reward': 180.0, 'episode': 3500, 'epsilon': 0.05405405405405406, 'ep_avr': 0.6329095473885537, 'ts_avr': 0.0031666120941246357, 'loss': 0.001203443855047226, 'q_mean': 100.23729705810547, 'num_update': 482984, 'update_time': 0.0026087686419487}\n",
      "{'ep_reward': 200.0, 'episode': 3600, 'epsilon': 0.05263157894736842, 'ep_avr': 0.6387884113192558, 'ts_avr': 0.003201785003874754, 'loss': 0.0023788190446794033, 'q_mean': 99.76611328125, 'num_update': 502928, 'update_time': 0.002577066421508789}\n",
      "{'ep_reward': 200.0, 'episode': 3700, 'epsilon': 0.05128205128205128, 'ep_avr': 0.6469348339736462, 'ts_avr': 0.0032335206631571053, 'loss': 0.0015993521083146334, 'q_mean': 100.22383880615234, 'num_update': 522928, 'update_time': 0.002635456621646881}\n",
      "{'ep_reward': 200.0, 'episode': 3800, 'epsilon': 0.05, 'ep_avr': 0.6917002325505018, 'ts_avr': 0.003457246268540621, 'loss': 0.0008828476420603693, 'q_mean': 100.76482391357422, 'num_update': 542928, 'update_time': 0.002550192177295685}\n",
      "{'ep_reward': 200.0, 'episode': 3900, 'epsilon': 0.05, 'ep_avr': 0.6636449874192476, 'ts_avr': 0.0033170513179153205, 'loss': 1.7492899132776074e-05, 'q_mean': 100.75276947021484, 'num_update': 562928, 'update_time': 0.0025423169136047363}\n",
      "------ Training Finished ------\n"
     ]
    }
   ],
   "source": [
    "# Trainig takes approximately 40 mins,depends on server\n",
    "if not skip_training:\n",
    "    t.train(agent,  cfg_path=Path().cwd()/'cfg'/'cartpole_dqn.yaml',) "
   ]
  },
  {
   "cell_type": "code",
   "execution_count": 119,
   "id": "9a9a1164-6330-4e45-ba52-1a84d8a91001",
   "metadata": {
    "tags": []
   },
   "outputs": [
    {
     "name": "stdout",
     "output_type": "stream",
     "text": [
      "Numpy/Torch/Random Seed:  436\n"
     ]
    },
    {
     "data": {
      "image/png": "[encoded data removed]",
      "text/plain": [
       "<Figure size 640x480 with 1 Axes>"
      ]
     },
     "metadata": {},
     "output_type": "display_data"
    }
   ],
   "source": [
    "# Visualize the DQN training plots for the cartpole \n",
    "if not skip_training:\n",
    "    t.plot(save_name='cartpole_dqn.png', cfg_path=Path().cwd()/'cfg'/'cartpole_dqn.yaml',)"
   ]
  },
  {
   "cell_type": "markdown",
   "id": "adf80e71",
   "metadata": {},
   "source": [
    "In order to get full points from the task make sure most of the test episodes give a reward of 200, given the seeds below (at least 50% of episodes)."
   ]
  },
  {
   "cell_type": "code",
   "execution_count": 120,
   "id": "09736f3b",
   "metadata": {
    "tags": []
   },
   "outputs": [
    {
     "name": "stdout",
     "output_type": "stream",
     "text": [
      "Numpy/Torch/Random Seed:  436\n",
      "{'episode': 0, 'ep_reward': 200.0}\n",
      "{'episode': 1, 'ep_reward': 200.0}\n",
      "{'episode': 2, 'ep_reward': 200.0}\n",
      "{'episode': 3, 'ep_reward': 200.0}\n",
      "{'episode': 4, 'ep_reward': 200.0}\n",
      "{'episode': 5, 'ep_reward': 200.0}\n",
      "{'episode': 6, 'ep_reward': 200.0}\n",
      "{'episode': 7, 'ep_reward': 200.0}\n",
      "{'episode': 8, 'ep_reward': 200.0}\n",
      "{'episode': 9, 'ep_reward': 200.0}\n"
     ]
    }
   ],
   "source": [
    "if not skip_training:\n",
    "    t.test(agent, cfg_path=Path().cwd()/'cfg'/'cartpole_dqn.yaml', cfg_args=dict(save_video=True), seeds=[67, 23, 89, 12, 45, 78, 34, 90, 21, 56])"
   ]
  },
  {
   "cell_type": "code",
   "execution_count": null,
   "id": "e3658eb5",
   "metadata": {
    "deletable": false,
    "editable": false,
    "nbgrader": {
     "cell_type": "code",
     "checksum": "38a43041b8d9d7219c1c55d322617d12",
     "grade": true,
     "grade_id": "cell-3ef5a6f870ccd026",
     "locked": true,
     "points": 5,
     "schema_version": 3,
     "solution": false,
     "task": false
    }
   },
   "outputs": [],
   "source": [
    "%%capture --no-stdout\n",
    "\"TEST\""
   ]
  },
  {
   "cell_type": "code",
   "execution_count": 121,
   "id": "6c63b5ce",
   "metadata": {
    "tags": []
   },
   "outputs": [
    {
     "data": {
      "text/html": [
       "<video loop autoplay  >\n",
       " <source src=\"data:video/mp4;base64,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\" type=\"video/mp4\">\n",
       " Your browser does not support the video tag.\n",
       " </video>"
      ],
      "text/plain": [
       "<IPython.core.display.Video object>"
      ]
     },
     "metadata": {},
     "output_type": "display_data"
    }
   ],
   "source": [
    "if not skip_training:\n",
    "      video = Video(Path().cwd()/'results'/'CartPole-v1'/'video'/'test'/'ex4_dqn-episode-0.mp4',\n",
    "      embed=True, html_attributes=\"loop autoplay\") # Set html_attributes=\"controls\" for video control\n",
    "      display(video)"
   ]
  },
  {
   "cell_type": "code",
   "execution_count": 122,
   "id": "004fa76f",
   "metadata": {
    "tags": []
   },
   "outputs": [],
   "source": [
    "# init agent\n",
    "with open(Path().cwd()/'cfg'/'lunarlander_dqn.yaml', 'r') as f:\n",
    "    cfg = t.Struct(**yaml.safe_load(f))\n",
    "    \n",
    "agent = DQNAgent(state_shape=cfg.state_shape, n_actions=cfg.n_actions, batch_size=cfg.batch_size, hidden_dims=cfg.hidden_dims,\n",
    "                 gamma=cfg.gamma, lr=cfg.lr, tau=cfg.tau)"
   ]
  },
  {
   "cell_type": "code",
   "execution_count": 123,
   "id": "d3775e17",
   "metadata": {
    "tags": []
   },
   "outputs": [
    {
     "name": "stdout",
     "output_type": "stream",
     "text": [
      "Numpy/Torch/Random Seed:  436\n",
      "{'ep_reward': -110.47135896888669, 'episode': 0, 'epsilon': 1.0, 'ep_avr': 0.026922307908535004, 'ts_avr': 0.0003546843646277844}\n",
      "{'ep_reward': -289.7732927528, 'episode': 100, 'epsilon': 0.6666666666666666, 'ep_avr': 0.5078527384251356, 'ts_avr': 0.004243418073511475, 'loss': 53.08305740356445, 'q_mean': -7.037273406982422, 'num_update': 11097, 'update_time': 0.0036426708102226257}\n",
      "{'ep_reward': -98.05893468449959, 'episode': 200, 'epsilon': 0.5, 'ep_avr': 0.7254052416235208, 'ts_avr': 0.004325805033642581, 'loss': 23.457962036132812, 'q_mean': -0.4253644347190857, 'num_update': 27846, 'update_time': 0.0038061141967773438}\n",
      "{'ep_reward': -20.204340541464173, 'episode': 300, 'epsilon': 0.4, 'ep_avr': 1.2392946905642748, 'ts_avr': 0.004272378960548762, 'loss': 18.37563705444336, 'q_mean': 7.1268310546875, 'num_update': 56830, 'update_time': 0.003544747829437256}\n",
      "{'ep_reward': 65.79339686118335, 'episode': 400, 'epsilon': 0.3333333333333333, 'ep_avr': 2.0020683935284613, 'ts_avr': 0.004372808553574464, 'loss': 18.140356063842773, 'q_mean': 21.799875259399414, 'num_update': 102588, 'update_time': 0.003959588706493378}\n",
      "{'ep_reward': 77.24414181932191, 'episode': 500, 'epsilon': 0.2857142857142857, 'ep_avr': 2.158536929190159, 'ts_avr': 0.004434968119996567, 'loss': 29.630136489868164, 'q_mean': 29.631427764892578, 'num_update': 151231, 'update_time': 0.0038169026374816895}\n",
      "{'ep_reward': 108.74316114203246, 'episode': 600, 'epsilon': 0.25, 'ep_avr': 2.151618368700147, 'ts_avr': 0.004335630796776873, 'loss': 3.522815704345703, 'q_mean': 36.86241912841797, 'num_update': 200830, 'update_time': 0.003750041127204895}\n",
      "{'ep_reward': 117.88433919599694, 'episode': 700, 'epsilon': 0.2222222222222222, 'ep_avr': 2.158017309308052, 'ts_avr': 0.004440706384778391, 'loss': 2.0359716415405273, 'q_mean': 44.500267028808594, 'num_update': 249400, 'update_time': 0.00370856374502182}\n",
      "{'ep_reward': 103.95243255158942, 'episode': 800, 'epsilon': 0.2, 'ep_avr': 2.2452961679548027, 'ts_avr': 0.00450063168126873, 'loss': 8.096393585205078, 'q_mean': 41.481937408447266, 'num_update': 299260, 'update_time': 0.0038808807730674744}\n",
      "{'ep_reward': 62.51755176928039, 'episode': 900, 'epsilon': 0.18181818181818182, 'ep_avr': 2.858107465580106, 'ts_avr': 0.005844867380476446, 'loss': 3.4781715869903564, 'q_mean': 44.52407455444336, 'num_update': 348133, 'update_time': 0.004522338509559631}\n",
      "{'ep_reward': 106.22888046416936, 'episode': 1000, 'epsilon': 0.16666666666666666, 'ep_avr': 3.585600663870573, 'ts_avr': 0.007200238042147457, 'loss': 8.358414649963379, 'q_mean': 42.29076385498047, 'num_update': 397910, 'update_time': 0.005402527749538422}\n",
      "{'ep_reward': 106.46328299090001, 'episode': 1100, 'epsilon': 0.15384615384615385, 'ep_avr': 3.663840939030051, 'ts_avr': 0.007326467800557508, 'loss': 1.7030421495437622, 'q_mean': 40.38827896118164, 'num_update': 447894, 'update_time': 0.004490189254283905}\n",
      "{'ep_reward': 113.37182876374725, 'episode': 1200, 'epsilon': 0.14285714285714285, 'ep_avr': 2.656731832846999, 'ts_avr': 0.005360374449684929, 'loss': 3.331087112426758, 'q_mean': 35.57666015625, 'num_update': 497432, 'update_time': 0.0053258016705513}\n",
      "{'ep_reward': 156.1245894615584, 'episode': 1300, 'epsilon': 0.13333333333333333, 'ep_avr': 3.5595858465135097, 'ts_avr': 0.007206354436940456, 'loss': 2.3551025390625, 'q_mean': 35.629791259765625, 'num_update': 546800, 'update_time': 0.004655763506889343}\n",
      "{'ep_reward': 257.24991605089957, 'episode': 1400, 'epsilon': 0.125, 'ep_avr': 3.2944834391772746, 'ts_avr': 0.007279688519389514, 'loss': 1.2174763679504395, 'q_mean': 34.34351348876953, 'num_update': 592033, 'update_time': 0.026004575192928314}\n",
      "{'ep_reward': 260.4613846827009, 'episode': 1500, 'epsilon': 0.11764705882352941, 'ep_avr': 2.7329583296179774, 'ts_avr': 0.007321349838470955, 'loss': 1.0135780572891235, 'q_mean': 39.377769470214844, 'num_update': 629337, 'update_time': 0.004601217806339264}\n",
      "{'ep_reward': 123.47633903527044, 'episode': 1600, 'epsilon': 0.1111111111111111, 'ep_avr': 2.814408360570669, 'ts_avr': 0.007284992086453299, 'loss': 0.9218108654022217, 'q_mean': 44.02277374267578, 'num_update': 667951, 'update_time': 0.006792202591896057}\n",
      "{'ep_reward': 232.156367872598, 'episode': 1700, 'epsilon': 0.10526315789473684, 'ep_avr': 2.6612200874090193, 'ts_avr': 0.007351585750711241, 'loss': 1.8747949600219727, 'q_mean': 49.03422546386719, 'num_update': 704129, 'update_time': 0.004685267806053162}\n",
      "{'ep_reward': 244.29988737893575, 'episode': 1800, 'epsilon': 0.1, 'ep_avr': 3.07144481703639, 'ts_avr': 0.007458457428643571, 'loss': 3.4222054481506348, 'q_mean': 48.54225158691406, 'num_update': 745287, 'update_time': 0.006485454738140106}\n",
      "{'ep_reward': 261.0631110047308, 'episode': 1900, 'epsilon': 0.09523809523809523, 'ep_avr': 2.7167686565220355, 'ts_avr': 0.007053029721602652, 'loss': 1.536407470703125, 'q_mean': 48.84286117553711, 'num_update': 783784, 'update_time': 0.0046127066016197205}\n",
      "------ Training Finished ------\n"
     ]
    }
   ],
   "source": [
    "# Trainig takes approximately 60 mins,depends on server\n",
    "if not skip_training:\n",
    "    t.train(agent, cfg_path=Path().cwd()/'cfg'/'lunarlander_dqn.yaml', cfg_args=dict()) "
   ]
  },
  {
   "cell_type": "code",
   "execution_count": 124,
   "id": "3e2a7511-d1aa-4691-be76-406dbccdc739",
   "metadata": {
    "tags": []
   },
   "outputs": [
    {
     "name": "stdout",
     "output_type": "stream",
     "text": [
      "Numpy/Torch/Random Seed:  436\n"
     ]
    },
    {
     "data": {
      "image/png": "[encoded data removed]",
      "text/plain": [
       "<Figure size 640x480 with 1 Axes>"
      ]
     },
     "metadata": {},
     "output_type": "display_data"
    }
   ],
   "source": [
    "# Visualize the DQN training plots for the lunarlander task\n",
    "if not skip_training:\n",
    "    t.plot(save_name='lunarlander_dqn.png', cfg_path=Path().cwd()/'cfg'/'lunarlander_dqn.yaml', cfg_args=dict())"
   ]
  },
  {
   "cell_type": "markdown",
   "id": "74030fd2",
   "metadata": {},
   "source": [
    "In order to get full points from the task make sure most of the test episodes give a reward of 200, given the seeds below (at least 50% of episodes)."
   ]
  },
  {
   "cell_type": "code",
   "execution_count": 125,
   "id": "ba2808d4",
   "metadata": {
    "tags": []
   },
   "outputs": [
    {
     "name": "stdout",
     "output_type": "stream",
     "text": [
      "Numpy/Torch/Random Seed:  436\n",
      "{'episode': 0, 'ep_reward': 272.4795418877721}\n",
      "{'episode': 1, 'ep_reward': 273.61089956201425}\n",
      "{'episode': 2, 'ep_reward': 271.65281220640315}\n",
      "{'episode': 3, 'ep_reward': 273.32936396796924}\n",
      "{'episode': 4, 'ep_reward': 249.70221773973734}\n",
      "{'episode': 5, 'ep_reward': 247.72668036356802}\n",
      "{'episode': 6, 'ep_reward': 257.3520332881749}\n",
      "{'episode': 7, 'ep_reward': 217.6905031283885}\n",
      "{'episode': 8, 'ep_reward': 285.04239071929493}\n",
      "{'episode': 9, 'ep_reward': 282.9705494682066}\n"
     ]
    }
   ],
   "source": [
    "if not skip_training:\n",
    "    t.test(agent, cfg_path=Path().cwd()/'cfg'/'lunarlander_dqn.yaml', cfg_args=dict(save_video=True),seeds=[67, 23, 89, 12, 45, 78, 34, 90, 21, 56])"
   ]
  },
  {
   "cell_type": "code",
   "execution_count": null,
   "id": "85204079",
   "metadata": {
    "deletable": false,
    "editable": false,
    "nbgrader": {
     "cell_type": "code",
     "checksum": "5b145c58866764ca02e0b5c4729621a0",
     "grade": true,
     "grade_id": "cell-7c41d50955488cf2",
     "locked": true,
     "points": 5,
     "schema_version": 3,
     "solution": false,
     "task": false
    }
   },
   "outputs": [],
   "source": [
    "%%capture --no-stdout\n",
    "\"TEST\""
   ]
  },
  {
   "cell_type": "code",
   "execution_count": 126,
   "id": "e34889d9",
   "metadata": {
    "tags": []
   },
   "outputs": [
    {
     "data": {
      "text/html": [
       "<video loop autoplay  >\n",
       " <source src=\"data:video/mp4;base64,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\" type=\"video/mp4\">\n",
       " Your browser does not support the video tag.\n",
       " </video>"
      ],
      "text/plain": [
       "<IPython.core.display.Video object>"
      ]
     },
     "metadata": {},
     "output_type": "display_data"
    }
   ],
   "source": [
    "if not skip_training:\n",
    "  video = Video(Path().cwd()/'results'/'LunarLander-v2'/'video'/'test'/'ex4_dqn-episode-8.mp4',\n",
    "  embed=True, html_attributes=\"loop autoplay\") # Set html_attributes=\"controls\" for video control\n",
    "  display(video)"
   ]
  },
  {
   "cell_type": "markdown",
   "id": "55896461",
   "metadata": {},
   "source": [
    "<a id='Q1'></a>\n",
    "<div class=\" alert alert-warning\">\n",
    "    <h3><b>Student Question 1.1</b> Considering Continuous Action Spaces (5 points) </h3> \n",
    "    \n",
    "🔝\t<a href='#TOC'><b>Table of Contents</b></a>\n",
    "</div>\n"
   ]
  },
  {
   "cell_type": "markdown",
   "id": "9b95154b-026f-4e95-9492-20782e8aa24d",
   "metadata": {},
   "source": [
    "### 1.1.1 Question (5 points):\n",
    "Can Q-learning be used directly in environments with continuous action spaces?\n",
    "\n",
    "**Select one:**\n",
    "\n",
    "1. Yes, Q-learning can be used directly without any modifications.\n",
    "2. No, Q-learning cannot be used directly because it only works with a discrete set of actions.\n",
    "3. No, Q-learning cannot be used directly in continuous action spaces, but it can be adapted with certain modifications.\n",
    "4. Yes, Q-learning can be used directly, but it is less efficient than in discrete action spaces."
   ]
  },
  {
   "cell_type": "code",
   "execution_count": 127,
   "id": "22025c94-158f-4ee7-834a-1248eb189d1a",
   "metadata": {
    "tags": []
   },
   "outputs": [],
   "source": [
    "sq_1_1_1 = 3 # Replace with the appropriate answer number"
   ]
  },
  {
   "cell_type": "markdown",
   "id": "29c2290f-67a7-4fe8-9a55-7db7bb6c88f6",
   "metadata": {},
   "source": [
    "The following cells are used for grading"
   ]
  },
  {
   "cell_type": "code",
   "execution_count": 128,
   "id": "abdf5784-303d-4aa9-b036-75219830d49d",
   "metadata": {
    "deletable": false,
    "editable": false,
    "nbgrader": {
     "cell_type": "code",
     "checksum": "85bc371a65d530f9fc963804e483295d",
     "grade": true,
     "grade_id": "cell-9b579c6ba03d991a",
     "locked": true,
     "points": 0,
     "schema_version": 3,
     "solution": false,
     "task": false
    },
    "tags": []
   },
   "outputs": [],
   "source": [
    "assert sq_1_1_1 in range(1, 5)"
   ]
  },
  {
   "cell_type": "code",
   "execution_count": null,
   "id": "42005b40-9ed9-4977-bcbf-8420c8d177b4",
   "metadata": {
    "deletable": false,
    "editable": false,
    "nbgrader": {
     "cell_type": "code",
     "checksum": "0cca2254b439447f716776ca19336a27",
     "grade": true,
     "grade_id": "cell-254ea90497e5d82c",
     "locked": true,
     "points": 5,
     "schema_version": 3,
     "solution": false,
     "task": false
    },
    "tags": []
   },
   "outputs": [],
   "source": []
  },
  {
   "cell_type": "markdown",
   "id": "1395f3d1",
   "metadata": {},
   "source": [
    "<a id='Q2'></a>\n",
    "<div class=\" alert alert-warning\">\n",
    "    <h3><b>Student Question 1.2</b> Continuous Action Spaces Part 1 (15 points) </h3> \n",
    "    \n",
    "🔝\t<a href='#TOC'><b>Table of Contents</b></a>\n",
    "</div>\n"
   ]
  },
  {
   "cell_type": "markdown",
   "id": "f5ee6c44-ca32-4620-85c5-204a4ef2646d",
   "metadata": {},
   "source": [
    "### 1.2.1 Question (5 points):\n",
    "\n",
    "What is the primary challenge when applying DQN to a continuous action space? Hint: select the one that describes the main issue.\n",
    "\n",
    "**Select one:**\n",
    "\n",
    "1. Updating the Q values\n",
    "2. Storing the Q values\n",
    "3. Performing the maximization (argmax) operation\n",
    "4. Calculating the loss function\n",
    "5. Calculating the reward"
   ]
  },
  {
   "cell_type": "code",
   "execution_count": 130,
   "id": "4e8f0ef2-5e19-41d8-bf49-3c8f38ffe645",
   "metadata": {},
   "outputs": [],
   "source": [
    "sq_1_2_1 = 3 # Replace with the appropriate answer number"
   ]
  },
  {
   "cell_type": "markdown",
   "id": "88c67c7f-cabd-40df-97a6-8ddbcfa9a8d6",
   "metadata": {},
   "source": [
    "### 1.2.2 Question (5 points):\n",
    "\n",
    "Which one of the following methods does NOT address the continuous action space problem in DQN?\n",
    "\n",
    "**Select one:**\n",
    "\n",
    "1. Learn a function approximation for the maximum of the Q-function\n",
    "2. Use a policy to draw samples of Q(s,a) and select the action with the highest Q-value (e.g., MPO)\n",
    "3. Approximate the Q-function as a convex function\n",
    "4. Use a Deep Deterministic Policy Gradient (DDPG) approach to learn a policy and Q-function simultaneously\n",
    "5. Use a Double DQN approach with two separate networks to estimate Q-values for continuous actions\n",
    "6. Discretize the action space with fine-grained intervals"
   ]
  },
  {
   "cell_type": "code",
   "execution_count": 131,
   "id": "9f1ae7de-289e-44ab-bfed-437273e38cf4",
   "metadata": {},
   "outputs": [],
   "source": [
    "sq_1_2_2 = 3 # Replace with the appropriate answer number"
   ]
  },
  {
   "cell_type": "markdown",
   "id": "dbbf50e1-f1d0-4735-a614-adffd7574619",
   "metadata": {},
   "source": [
    "### 1.2.3 Question (5 points):\n",
    "\n",
    "Discretization is one approach to address the continuous action space problem. What is a **significant** limitation of discretizing the action space to address the continuous action space problem in DQN?\n",
    "\n",
    "**Select one:**\n",
    "\n",
    "1. It may not generalize well to actions outside the discrete set\n",
    "2. It increases the size of the state space exponentially\n",
    "3. It requires modifying the neural network architecture\n",
    "4. It can lead to unstable learning in the early stages of training\n",
    "5. It makes the reward function non-differentiable"
   ]
  },
  {
   "cell_type": "code",
   "execution_count": 132,
   "id": "134ba924-6705-4982-8477-93f27336b475",
   "metadata": {},
   "outputs": [],
   "source": [
    "sq_1_2_3 = 1 # Replace with the appropriate answer number"
   ]
  },
  {
   "cell_type": "markdown",
   "id": "3695dc82-6d20-4051-9e8e-1e256a5bf8fb",
   "metadata": {},
   "source": [
    "The following cells are used for grading"
   ]
  },
  {
   "cell_type": "code",
   "execution_count": 133,
   "id": "7edf9407-26e1-4b81-910f-a877ebd3d68e",
   "metadata": {
    "deletable": false,
    "editable": false,
    "nbgrader": {
     "cell_type": "code",
     "checksum": "4e70d5f938adbf449599993ed8984ee7",
     "grade": true,
     "grade_id": "cell-b7c78664ec74ec2a",
     "locked": true,
     "points": 0,
     "schema_version": 3,
     "solution": false,
     "task": false
    },
    "tags": []
   },
   "outputs": [],
   "source": [
    "assert sq_1_2_1 in range(1, 6)\n",
    "assert sq_1_2_2 in range(1, 7)\n",
    "assert sq_1_2_3 in range(1, 6)"
   ]
  },
  {
   "cell_type": "code",
   "execution_count": null,
   "id": "d1c89084-b34b-4b3b-bb23-6d84d3b17180",
   "metadata": {
    "deletable": false,
    "editable": false,
    "nbgrader": {
     "cell_type": "code",
     "checksum": "261ad454b4494ded2716bb3ea7da00f4",
     "grade": true,
     "grade_id": "cell-cee299bf0c9ac8e4",
     "locked": true,
     "points": 5,
     "schema_version": 3,
     "solution": false,
     "task": false
    },
    "tags": []
   },
   "outputs": [],
   "source": []
  },
  {
   "cell_type": "code",
   "execution_count": null,
   "id": "9c4eeeb7-aa75-49f5-b69a-3a157060ef58",
   "metadata": {
    "deletable": false,
    "editable": false,
    "nbgrader": {
     "cell_type": "code",
     "checksum": "a0166d8f9297188b4711c3a925bf6006",
     "grade": true,
     "grade_id": "cell-bd84024a26ba389c",
     "locked": true,
     "points": 5,
     "schema_version": 3,
     "solution": false,
     "task": false
    },
    "tags": []
   },
   "outputs": [],
   "source": []
  },
  {
   "cell_type": "code",
   "execution_count": null,
   "id": "11daf090-e4f1-4ca7-bd2a-9e786c3d794b",
   "metadata": {
    "deletable": false,
    "editable": false,
    "nbgrader": {
     "cell_type": "code",
     "checksum": "b14e5eefe2c878d41a5c63ece44a2ab4",
     "grade": true,
     "grade_id": "cell-42e6f022fdf27684",
     "locked": true,
     "points": 5,
     "schema_version": 3,
     "solution": false,
     "task": false
    },
    "tags": []
   },
   "outputs": [],
   "source": []
  },
  {
   "cell_type": "markdown",
   "id": "f10e680f",
   "metadata": {},
   "source": [
    "<a id='Q3'></a>\n",
    "<div class=\" alert alert-warning\">\n",
    "    <h3><b>Student Question 1.3</b> The Target Network (10 points) </h3> \n",
    "    \n",
    "🔝\t<a href='#TOC'><b>Table of Contents</b></a>\n",
    "</div>\n"
   ]
  },
  {
   "cell_type": "markdown",
   "id": "11f15fdf-5b08-469f-a0d5-f63f6a969aff",
   "metadata": {
    "tags": []
   },
   "source": [
    "### 1.3.1 Question (5 points):\n",
    "\n",
    "Why do we use a separate target network in DQN instead of using the same network for both Q(s,a) and max_a(Q(s', ·))?\n",
    "\n",
    "**Select one:**\n",
    "\n",
    "1. To prevent the network from overfitting to the most recent transitions\n",
    "2. To ensure that the Q-values are always within a specific range\n",
    "3. To stabilize the training process by preventing frequent changes in target values\n",
    "4. To enable the network to learn from both on-policy and off-policy data"
   ]
  },
  {
   "cell_type": "code",
   "execution_count": 134,
   "id": "559704b6-23fd-4973-92ba-6492923011e2",
   "metadata": {},
   "outputs": [],
   "source": [
    "sq_1_3_1 = 3 # Replace with the appropriate answer number"
   ]
  },
  {
   "cell_type": "markdown",
   "id": "aa24ade0-0094-401f-820d-956a237e2247",
   "metadata": {
    "tags": []
   },
   "source": [
    "### 1.3.2 Question (5 points):\n",
    "\n",
    "What would happen if we don't stop the gradient of the target Q-value in DQN?\n",
    "\n",
    "**Select one:**\n",
    "\n",
    "1. The optimization process would become more stable due to the joint updates\n",
    "2. The target network updates would be synchronized with the main network updates\n",
    "3. Both the current Q-values and the target Q-values would be updated during optimization\n",
    "4. The algorithm would effectively switch to an on-policy learning method"
   ]
  },
  {
   "cell_type": "code",
   "execution_count": 135,
   "id": "e7714624-1df2-4e67-aa6a-0b248f69981e",
   "metadata": {},
   "outputs": [],
   "source": [
    "sq_1_3_2 = 3 # Replace with the appropriate answer number"
   ]
  },
  {
   "cell_type": "markdown",
   "id": "de0dd848-e39f-4fa8-bd6c-4b4c38396412",
   "metadata": {},
   "source": [
    "The following cells are used for grading"
   ]
  },
  {
   "cell_type": "code",
   "execution_count": 136,
   "id": "92b45bf0-c052-4b1c-b19c-750b371a6cf4",
   "metadata": {
    "deletable": false,
    "editable": false,
    "nbgrader": {
     "cell_type": "code",
     "checksum": "738fa24b9d702b770e751fa6df17c2a3",
     "grade": true,
     "grade_id": "cell-7427871eee3676e5",
     "locked": true,
     "points": 0,
     "schema_version": 3,
     "solution": false,
     "task": false
    },
    "tags": []
   },
   "outputs": [],
   "source": [
    "assert sq_1_3_1 in range(1, 5)\n",
    "assert sq_1_3_2 in range(1, 5)"
   ]
  },
  {
   "cell_type": "code",
   "execution_count": null,
   "id": "08be39cf-a443-4ce7-b709-4701b5b9d187",
   "metadata": {
    "deletable": false,
    "editable": false,
    "nbgrader": {
     "cell_type": "code",
     "checksum": "1f7a58a67e676406e37624e5050e1132",
     "grade": true,
     "grade_id": "cell-06da3985fcfd8e51",
     "locked": true,
     "points": 5,
     "schema_version": 3,
     "solution": false,
     "task": false
    },
    "tags": []
   },
   "outputs": [],
   "source": []
  },
  {
   "cell_type": "code",
   "execution_count": null,
   "id": "5b6fd766-1305-43dd-8a4f-756ad0457882",
   "metadata": {
    "deletable": false,
    "editable": false,
    "nbgrader": {
     "cell_type": "code",
     "checksum": "6a767e7d006960d5cd4bf0181c632ea3",
     "grade": true,
     "grade_id": "cell-a8c5938cdf0dfd2c",
     "locked": true,
     "points": 5,
     "schema_version": 3,
     "solution": false,
     "task": false
    },
    "tags": []
   },
   "outputs": [],
   "source": []
  },
  {
   "cell_type": "markdown",
   "id": "4266d794-008d-4d2c-9a9e-0e18d9b6e354",
   "metadata": {
    "tags": []
   },
   "source": [
    "# 3. Submitting <a id='3.'></a>\n",
    "Ensure all tasks and questions (in ```ex4_dpn.ipynb``` and ```ex4_rbf.ipynb```) are answered and and that the necessary plots are saved in the appropriate locations. The relevant plots and files needed to be submitted for this assignment are:\n",
    "\n",
    "\n",
    "- Training performance plots:\n",
    "  - `cartpole_dqn.png`: Cartpole, training performance plots in terms of episode and episodic reward\n",
    "  - `lunarlander_dqn.png`: Lunarlander, training performance plots in terms of episode and episodic reward \n",
    "<br>\n",
    "<br>\n",
    "\n",
    "  \n",
    "\n",
    "- Model files:\n",
    "  - `dqn.pt`: Trained model\n",
    "\n",
    "\n",
    "Ensure the model files and plots are saved in correct paths:\n",
    "- ```results/CartPole-v1/cartpole_dqn``` Training result for Cartpole environment\n",
    "- ```results/CartPole-v1/model/dqn.pt``` Model for Cartpole environment\n",
    "- ```results/LunarLander-v2/lunarlander_dqn.png``` Training result for LunarLander environment\n",
    "- ```results/LunarLander-v2/model/dqn.pt``` Model for LunarLander environment\n",
    "\n",
    "\n",
    "<span style=\"color:red\"> **# IMPORTANT: DO NOT FORGET ANOTHER TASK IN ```ex4_rbf.ipynb```** </span>"
   ]
  },
  {
   "cell_type": "code",
   "execution_count": null,
   "id": "40c8536b",
   "metadata": {
    "deletable": false,
    "editable": false,
    "nbgrader": {
     "cell_type": "code",
     "checksum": "cc73e5f68adbc298f70feabf9026032d",
     "grade": true,
     "grade_id": "cell-c97f1e23824070fc",
     "locked": true,
     "points": 0,
     "schema_version": 3,
     "solution": false,
     "task": false
    }
   },
   "outputs": [],
   "source": [
    "# Make sure that skip training is set to True before submission\n",
    "assert skip_training == True"
   ]
  },
  {
   "cell_type": "markdown",
   "id": "2ec40b02-69c6-401a-ad79-2f67a8a660e9",
   "metadata": {
    "tags": []
   },
   "source": [
    "## 3.1 Feedback <a id='3.1'></a>\n",
    "\n",
    "In order to help the staff of the course as well as the forthcoming students, it would be great if you could answer to the following questions in your submission:"
   ]
  },
  {
   "cell_type": "markdown",
   "id": "d0a8baf6-b860-4338-b655-b28ec4fac282",
   "metadata": {},
   "source": [
    "1) How much time did you spend solving this exercise? (change the ```hrs``` variable below to a floating point number representing the number of hours taken e.g. 5.43)"
   ]
  },
  {
   "cell_type": "code",
   "execution_count": 139,
   "id": "ed94026d-ad80-4148-8e02-5bcfd4b33e98",
   "metadata": {
    "tags": []
   },
   "outputs": [],
   "source": [
    "hrs = 4"
   ]
  },
  {
   "cell_type": "markdown",
   "id": "732e1e56-4c4f-4bdf-95b3-f4efcc4c053a",
   "metadata": {},
   "source": [
    "2) Difficulty of each task/question from 1-5 (int or float)"
   ]
  },
  {
   "cell_type": "code",
   "execution_count": null,
   "id": "161f647d-4cf5-4cf8-abbf-1c0d285c5f40",
   "metadata": {
    "tags": []
   },
   "outputs": [],
   "source": [
    "T1 = 4   # Implementing DQN (10 points)\n",
    "Q1_1 = 3 # Question 1.1 Considering Continuous Action Spaces (5 points)\n",
    "Q1_2 = 3 # Question 1.2 Continuous Action Spaces Part 1 (15 points)\n",
    "Q1_3 = 3 # Question 1.3 The Target Network (10 points)"
   ]
  },
  {
   "cell_type": "markdown",
   "id": "4fb4a6d0-4ff1-4705-93af-493eed829e4e",
   "metadata": {},
   "source": [
    "3) How well did you understand the content of the task/question from 1-5? (int or float)"
   ]
  },
  {
   "cell_type": "code",
   "execution_count": null,
   "id": "eb003431-4a23-4350-86ec-34444a64ee9d",
   "metadata": {
    "tags": []
   },
   "outputs": [],
   "source": [
    "T1 = 4   # Implementing DQN (10 points)\n",
    "Q1_1 = 4 # Question 1.1 Considering Continuous Action Spaces (5 points)\n",
    "Q1_2 = 4 # Question 1.2 Continuous Action Spaces Part 1 (15 points)\n",
    "Q1_3 = 4 # Question 1.3 The Target Network (10 points)"
   ]
  },
  {
   "cell_type": "markdown",
   "id": "c2fa9a62-dcf9-41fe-8d56-a852b2582efa",
   "metadata": {},
   "source": [
    "4) General feedback. Consider questions like:\n",
    "\n",
    "    - Did the content of the lecture relate well with the assignment?\n",
    "    - To what extent did you find the material to be potentially useful for your research and studies?\n",
    "    \n",
    "Please share any additional feedback, suggestions, or comments you have about the lecture, assignment, or course content. Your input is valuable in helping us improve the learning experience."
   ]
  },
  {
   "cell_type": "markdown",
   "id": "77edf97b-6cd9-48a9-bbc9-a075e6c15abb",
   "metadata": {
    "tags": []
   },
   "source": [
    "DOUBLE CLICK HERE TO EDIT, CLEAR THIS TEXT AND ANSWER HERE"
   ]
  }
 ],
 "metadata": {
  "kernelspec": {
   "display_name": "Python 3",
   "language": "python",
   "name": "python3"
  },
  "language_info": {
   "codemirror_mode": {
    "name": "ipython",
    "version": 3
   },
   "file_extension": ".py",
   "mimetype": "text/x-python",
   "name": "python",
   "nbconvert_exporter": "python",
   "pygments_lexer": "ipython3",
   "version": "3.10.12"
  }
 },
 "nbformat": 4,
 "nbformat_minor": 5
}
