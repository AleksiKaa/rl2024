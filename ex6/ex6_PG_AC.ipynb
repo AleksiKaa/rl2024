{
 "cells": [
  {
   "cell_type": "markdown",
   "id": "8323a86e",
   "metadata": {
    "deletable": false,
    "editable": false,
    "nbgrader": {
     "cell_type": "markdown",
     "checksum": "968ecb4cb3b8623792cd5938edc4ea1b",
     "grade": false,
     "grade_id": "cell-47bfc0ea1447f571",
     "locked": true,
     "schema_version": 3,
     "solution": false,
     "task": false
    }
   },
   "source": [
    "\n",
    "<div class=\"alert alert-block alert-info\">\n",
    "   <h2 align=\"center\"> <center><b> Reinforcement Learning Assignment 6 - Actor Critic part 1 </b></center></h2>\n",
    "\n",
    "<br>\n",
    "<center><font size=\"3\">This notebook is part of the teaching material for ELEC-E8125</font></center>\n",
    "<center><font size=\"3\">Aalto University</font></center>\n",
    "</div>\n",
    "\n",
    "\n",
    "<a id='TOC'></a>\n",
    "\n",
    "<div class=\"alert alert-block alert-success\">\n",
    "    \n",
    "# Table of contents\n",
    "* <a href='#1.'> 1. Introduction </a>\n",
    "* <a href='#1.1'> 1.1 Learning Objectives </a>\n",
    "* <a href='#1.2'> 1.2 Code Structure & Files </a>\n",
    "* <a href='#2.'> 2. Policy Gradient with a Critic </a>\n",
    "* <a href='#3.'> 3. Submitting </a>\n",
    "* <a href='#3.1'> 3.1 Feedback </a>\n",
    "* <a href='#4.'> References</a>\n",
    "\n",
    "<a href='#T1'><b>Student Task 1.</b> Implementing PG with critic (20 points)</a>\\\n",
    "<a href='#Q1'><b>Student Question 1.1</b> Relationship between actor-critic and REINFORCE with baseline (10 points)</a>\\\n",
    "<a href='#Q2'><b>Student Question 1.2</b> Advantage (5 points)  </a>\\\n",
    "<a href='#Q3'><b>Student Question 1.3</b> Bias and Variance Analysis (10 points) </a>\\\n",
    "<a href='#Q4'><b>Student Question 1.4</b> Controlling bias-variance tradeoff (10 points)</a>\n",
    "    \n",
    "**Total Points:** 55\n",
    "\n",
    "**Estimated runtime of all the cells:** 1 hour"
   ]
  },
  {
   "cell_type": "markdown",
   "id": "ab53631b",
   "metadata": {
    "deletable": false,
    "editable": false,
    "nbgrader": {
     "cell_type": "markdown",
     "checksum": "a4ce01f58b207f5715f395b180619b9e",
     "grade": false,
     "grade_id": "cell-6ef87fd4c2d2cc44",
     "locked": true,
     "schema_version": 3,
     "solution": false,
     "task": false
    }
   },
   "source": [
    "# 1. Introduction <a id='1.'></a>\n",
    "\n",
    "In this assignment, we will implement an actor-critic reinforcement learning algorithm which combines elements of both value-based methods (critic) and policy-based methods (actor) to improve learning and stability in the **InvertedPendulum-v4**  environment.\n",
    "\n",
    "## 1.1 Task environments: <a id='1.1'></a>\n",
    "\n",
    "In this exercise, we will focus on InvertedPendulum-v4 tasks:\n",
    "- InvertedPendulum-v4(https://gymnasium.farama.org/environments/mujoco/inverted_pendulum/): This environment is similar to the cartpole environment but now powered by the Mujoco physics simulator - allowing for more complex experiments (such as varying the effects of gravity). This environment involves a cart that moves horizontally, with a pole fixed on the cart at one end and the other end of the pole moving freely. The cart can be pushed left or right. The goal is to move the pole such that it is vertically above the cart pointing straight up by applying horizontal forces on the cart.\n",
    "<figure style=\"text-align: center\">\n",
    "    <img src=\"imgs/InvertedPendulum.png\" width=\"300\"/>\n",
    "    <figcaption style=\"text-align: center\">  Figure 1: The InvertedPendulum-v4 environment. </figcaption>\n",
    "</figure>\n",
    "\n",
    "## 1.2 Learning Objectives: <a id='1.1'></a>\n",
    "\n",
    "- Understand the idea of actor-critic algorithms\n",
    "- Understand the limits and use cases of actor-critics\n",
    "\n",
    "## 1.3 Code Structure & Files <a id='1.2'></a>\n",
    "\n",
    "```ex6_PG_AC.ipynb``` is the file needed to be modified for this part of the assignment.  \n",
    "\n",
    "<span style=\"color:red\"> **# IMPORTANT: DO NOT FORGET ANOTHER PART IN ```ex6_DDPG.ipynb```** </span>\n",
    "\n",
    "```\n",
    "├───cfg                            # Config files for environments\n",
    "├───imgs                           # Images used in notebook\n",
    "├───results\n",
    "│   └───HalfCheetah-v4\n",
    "│   │   ├───logging                \n",
    "│   │   │    └───logging.pkl        # Contains logged data\n",
    "│   │   ├───model              \n",
    "│   │   │    └───*HalfCheetah-v4_params.pt    # Contains trained model\n",
    "│   │   └───video                   # Videos saved\n",
    "│   │   └───*ddpg.png               # Contains training performance plot\n",
    "│   └───InvertedPendulum-v4\n",
    "│   │   ├───logging                \n",
    "│   │   │    └───logging.pkl        # Contains logged data\n",
    "│   │   ├───model              \n",
    "│   │   │    └───*InvertedPendulum-v4_params.pt      # Contains trained model\n",
    "│   │   └───video                   # Videos saved\n",
    "│   │   └───*pg_ac.png              # Contains training performance plot\n",
    "│   ex6_DDPG.ipynb                  # 2nd assignment file containing tasks <---------\n",
    "│   ex6_PG_AC.ipynb                 # 1st assignment file containing tasks <---------This task\n",
    "│   train.py                        # Contains train and test functions \n",
    "│   utils.py                        # Contains useful functions \n",
    "└───buffer.py                       # Contains buffer functions\n",
    "```\n",
    "\n",
    "## 1.4 Execution time <a id='1.4'></a>\n",
    "\n",
    "The training of Actor-Critic may take more than 30 mins depending on the server load. If you have problems with the training time, you can train locally."
   ]
  },
  {
   "cell_type": "markdown",
   "id": "36ef1c90",
   "metadata": {
    "deletable": false,
    "editable": false,
    "nbgrader": {
     "cell_type": "markdown",
     "checksum": "e2a4fdb4406c82cbf0924a4ae9fd56ca",
     "grade": false,
     "grade_id": "cell-76eb1e3dcf217198",
     "locked": true,
     "schema_version": 3,
     "solution": false,
     "task": false
    }
   },
   "source": [
    "## Warnings:\n",
    "\n",
    "- Don’t copy and paste cells within a notebook. This will mess up the tracking metadata and prevent autograding from working.\n",
    "- Only add new cells using the '+' button in the upper toolbar and do not split cells.\n",
    "- Be cautious about things such as copying the whole notebook to Colab to work on it. This has sometimes resulted in removing all notebook metadata, making autograding impossible."
   ]
  },
  {
   "cell_type": "markdown",
   "id": "eb79df48",
   "metadata": {
    "deletable": false,
    "editable": false,
    "nbgrader": {
     "cell_type": "markdown",
     "checksum": "dd4a8717cd49c894ce9a4aa3a1895148",
     "grade": false,
     "grade_id": "cell-78fdf22a73920722",
     "locked": true,
     "schema_version": 3,
     "solution": false,
     "task": false
    }
   },
   "source": [
    "\n",
    "# 2. Policy Gradient with a Critic <a id='2.'></a>"
   ]
  },
  {
   "cell_type": "markdown",
   "id": "c584d11d",
   "metadata": {
    "deletable": false,
    "editable": false,
    "nbgrader": {
     "cell_type": "markdown",
     "checksum": "0439bebaa3d0d286f254868ab55e9939",
     "grade": false,
     "grade_id": "cell-61899a5dd880417b",
     "locked": true,
     "schema_version": 3,
     "solution": false,
     "task": false
    }
   },
   "source": [
    "<a id='T1'></a>\n",
    "<div class=\" alert alert-warning\">\n",
    "    <h3><b>Student Task 1.</b> Implement policy gradient (PG) with critic (20 points) </h3> \n",
    "\n",
    "Revisit the policy gradient solution for the InvertedPendulum from Exercise 5 with learned sigma if needed. Implement the actor-critic algorithm below. Perform TD(0) updates at the end of each episode. You can check the training performance plot in the result folder after running the plot cell. Take Figure 2 as a reference training plot. \n",
    "    \n",
    "**Hint:** Check out the PyTorch tutorial from [here](https://pytorch.org/tutorials/beginner/basics/autogradqs_tutorial.html) to see how to calculate the $A_\\theta \\Delta_\\theta \\log \\pi_\\theta(a_i|s_i)$ term using the ```detach()``` function. \n",
    "\n",
    "<figure style=\"text-align: center\">\n",
    "<img src=\"imgs/pg_ac.png\" width=\"400px\">\n",
    "<figcaption style=\"text-align: center\"> Figure 2: Training plot of the policy gradient with a critic.\n",
    "</figcaption>\n",
    "</figure>\n",
    "     \n",
    "**Complete the all the unfinished implementation in `PG` class (marked with ```TODOs```)**. \n",
    "    \n",
    "1. **Policy Network**: Finish the `__init__(self, state_dim, action_dim)` function and `forward(self, state)` function within the `Policy` class\n",
    "2. **Agent Update Function**: Finish the `update(self, )` function within the `PG` class\n",
    "3. **Get Action Method**: Finish the `get_action(self, observation, evaluation=False)` function within the `PG` class.\n",
    "    \n",
    "🔝\t<a href='#TOC'><b>Table of Contents</b></a>\n",
    "</div>\n"
   ]
  },
  {
   "cell_type": "code",
   "execution_count": 24,
   "id": "9dc0d42e",
   "metadata": {
    "tags": []
   },
   "outputs": [],
   "source": [
    "skip_training = True  # Set this flag to True before validation and submission"
   ]
  },
  {
   "cell_type": "code",
   "execution_count": null,
   "id": "489df71f",
   "metadata": {
    "deletable": false,
    "editable": false,
    "nbgrader": {
     "cell_type": "code",
     "checksum": "e4a46183e22c508d922baebfefbe6a0a",
     "grade": true,
     "grade_id": "cell-f54b5f40d174d5b2",
     "locked": true,
     "points": 0,
     "schema_version": 3,
     "solution": false,
     "task": false
    }
   },
   "outputs": [],
   "source": []
  },
  {
   "cell_type": "code",
   "execution_count": 2,
   "id": "fad4384f",
   "metadata": {
    "tags": []
   },
   "outputs": [],
   "source": [
    "import sys, os\n",
    "sys.path.insert(0, os.path.abspath(\"..\"))\n",
    "\n",
    "import numpy as np\n",
    "from pathlib import Path\n",
    "from IPython.display import Video\n",
    "\n",
    "import torch, yaml\n",
    "from torch import nn\n",
    "import torch.nn.functional as F\n",
    "from torch.distributions import Normal\n",
    "\n",
    "import train as t\n",
    "import utils as u\n",
    "\n",
    "device = 'cpu'"
   ]
  },
  {
   "cell_type": "code",
   "execution_count": 3,
   "id": "a6634d41",
   "metadata": {
    "tags": []
   },
   "outputs": [],
   "source": [
    "# Actor-critic agent\n",
    "def layer_init(layer, std=np.sqrt(2), bias_const=0.0):\n",
    "    torch.nn.init.orthogonal_(layer.weight, std)\n",
    "    torch.nn.init.constant_(layer.bias, bias_const)\n",
    "    return layer\n",
    "\n",
    "\n",
    "class Policy(nn.Module):\n",
    "    def __init__(self, state_dim, action_dim):\n",
    "        super().__init__()\n",
    "        # Create a neural network and use it for the mean of the policy.\n",
    "        # The size of the neural network here has been chosen such that \n",
    "        # it is not too big but should perform well in the tasks we want to look at.\n",
    "        self.actor_mean = nn.Sequential(\n",
    "            layer_init(nn.Linear(state_dim, 64)), nn.Tanh(),\n",
    "            layer_init(nn.Linear(64, 64)), nn.Tanh(),\n",
    "            layer_init(nn.Linear(64, action_dim), std=0.01),\n",
    "        )\n",
    "        \n",
    "        \"\"\"\n",
    "        # TODO: Implement actor_logstd as a learnable parameter\n",
    "        # Use log of std to make sure std (standard deviation) of the policy\n",
    "        # doesn't become negative during training\n",
    "        \"\"\"\n",
    "        self.actor_logstd = torch.nn.Parameter(torch.zeros(action_dim, device=device))\n",
    "        \n",
    "    def forward(self, state):\n",
    "        # Get mean of a Normal distribution (the output of the neural network)\n",
    "        action_mean = self.actor_mean(state)\n",
    "\n",
    "        # Make sure action_logstd matches dimensions of action_mean\n",
    "        action_logstd = self.actor_logstd.expand_as(action_mean)\n",
    "\n",
    "        # Exponentiate the log std to get actual std\n",
    "        action_std = torch.exp(action_logstd)\n",
    "        \n",
    "        \"\"\"\n",
    "        # TODO: Create a Normal distribution with mean of 'action_mean' & standard deviation of 'action_logstd' \n",
    "        # and return the distribution. You should be using the torch.distributions.Normal class to create the distribution.\n",
    "        \"\"\"\n",
    "        probs = Normal(action_mean, action_std)\n",
    "\n",
    "        return probs\n",
    "\n",
    "    \n",
    "class Value(nn.Module):\n",
    "    def __init__(self, state_dim):\n",
    "        super().__init__()\n",
    "        self.value = nn.Sequential(\n",
    "            layer_init(nn.Linear(state_dim, 64)), nn.Tanh(),\n",
    "            layer_init(nn.Linear(64, 64)), nn.Tanh(),\n",
    "            layer_init(nn.Linear(64, 1)))\n",
    "    \n",
    "    def forward(self, x):\n",
    "        return self.value(x).squeeze(1) # output shape [batch,]\n",
    "\n",
    "\n",
    "class PG(object):\n",
    "    def __init__(self, state_dim, action_dim, lr, gamma):\n",
    "        self.name = 'pg'\n",
    "        self.policy = Policy(state_dim, action_dim).to(device)\n",
    "        self.value = Value(state_dim).to(device)\n",
    "        self.optimizer = torch.optim.Adam(list(self.policy.parameters()) + list(self.value.parameters()), \n",
    "                                         lr=float(lr),)\n",
    "\n",
    "        self.gamma = gamma\n",
    "\n",
    "        # a simple buffer\n",
    "        self.states = []\n",
    "        self.action_probs = []\n",
    "        self.rewards = []\n",
    "        self.dones = []\n",
    "        self.next_states = []\n",
    "\n",
    "    '''\n",
    "    TODO: Task 1\n",
    "    # Complete the following 4 functions\n",
    "    # Hints: 1. calculate the target values as well as the MSE loss between the predicted value and the target values\n",
    "    #        2. calculate the policy loss (similar to ex5) with advantage calculated from the value function. Normalise\n",
    "    #           the advantage to zero mean and unit variance.\n",
    "    #        3. Use mean to calculate the actor (policy) loss ;)\n",
    "    #           - https://discuss.pytorch.org/t/loss-reduction-sum-vs-mean-when-to-use-each/115641/2\n",
    "    '''\n",
    "    \n",
    "    # 1. Calculate the target values, you should not modify the gradient of the variables\n",
    "    def calculate_target_values(self, rewards, next_states, dones):\n",
    "        ########## Your code starts here. ##########\n",
    "        with torch.no_grad():\n",
    "            next_values = self.value(next_states)\n",
    "            target_values = rewards + self.gamma * (1 - dones) * next_values\n",
    "        ########## Your code ends here. ##########\n",
    "        return target_values\n",
    "\n",
    "    # 2. Calculate the critic loss\n",
    "    def calculate_critic_loss(self, values, target_values):\n",
    "        ########## Your code starts here. ##########\n",
    "        critic_loss = F.mse_loss(values, target_values)\n",
    "        ########## Your code ends here. ##########\n",
    "        return critic_loss\n",
    "    \n",
    "    # 3. Advantage estimation, you should not modify the gradient of the variables\n",
    "    def calculate_advantage(self, values, target_values):\n",
    "        ########## Your code starts here. ##########\n",
    "        with torch.no_grad():\n",
    "            advantage = target_values - values\n",
    "            advantage = (advantage - advantage.mean()) / advantage.std()\n",
    "        ########## Your code ends here. ##########\n",
    "        return advantage\n",
    "    \n",
    "    # 4. Calculate the actor (policy) loss \n",
    "    def calculate_actor_loss(self, action_probs, advantage):\n",
    "        ########## Your code starts here. ##########\n",
    "        weighted_probs = action_probs * advantage\n",
    "        actor_loss = -weighted_probs.mean()\n",
    "        ########## Your code ends here. ##########\n",
    "        return actor_loss\n",
    "\n",
    "    def update(self,):\n",
    "        action_probs = torch.stack(self.action_probs, dim=0) \\\n",
    "                .to(device).squeeze(-1)\n",
    "        rewards = torch.stack(self.rewards, dim=0).to(device).squeeze(-1)\n",
    "        states = torch.stack(self.states, dim=0).to(device).squeeze(-1)\n",
    "        next_states = torch.stack(self.next_states, dim=0).to(device).squeeze(-1)\n",
    "        dones = torch.stack(self.dones, dim=0).to(device).squeeze(-1)\n",
    "        # clear buffer\n",
    "        self.states, self.action_probs, self.rewards, self.dones, self.next_states = [], [], [], [], []\n",
    "\n",
    "        \"\"\"\n",
    "        # TODO: Compute the current state value estimates using the value function network\n",
    "        \"\"\"\n",
    "        values = self.value(states)\n",
    "        \n",
    "        target_values = self.calculate_target_values(rewards, next_states, dones)        \n",
    "        critic_loss = self.calculate_critic_loss(values, target_values)        \n",
    "        advantage = self.calculate_advantage(values, target_values)\n",
    "        actor_loss = self.calculate_actor_loss(action_probs, advantage)\n",
    "\n",
    "        \"\"\"\n",
    "        # TODO: Compute the gradients of the joint loss w.r.t network parameters\n",
    "        \"\"\"\n",
    "        loss = critic_loss + actor_loss\n",
    "        loss.backward()\n",
    "\n",
    "        # Update network parameters using self.optimizer and zero gradients \n",
    "        self.optimizer.step()  \n",
    "        nn.utils.clip_grad_norm_(list(self.policy.parameters())+ list(self.value.parameters()), 1.0)\n",
    "        self.optimizer.zero_grad() \n",
    "\n",
    "        return {}\n",
    "\n",
    "    def get_action(self, observation, evaluation=False):\n",
    "        \"\"\"Return action (np.ndarray) and logprob (torch.Tensor) of this action.\"\"\"\n",
    "        if observation.ndim == 1: observation = observation[None] # add the batch dimension\n",
    "        x = torch.from_numpy(observation).float().to(device)\n",
    "        \n",
    "        '''\n",
    "        # TODO: Task 1\n",
    "        # Hints: 1. the self.policy returns a normal distribution, check the PyTorch documentation to see \n",
    "        #           how to calculate the log_prob of an action and how to sample.\n",
    "        #        2. if evaluating the policy, return policy mean, otherwise, return a sample\n",
    "        #        3. the returned action and the act_logprob should be torch.Tensors.\n",
    "        #           Please always make sure the shape of variables is as you expected.\n",
    "        '''\n",
    "        ########## Your code starts here. ##########\n",
    "        dist = self.policy(x)\n",
    "        if evaluation:\n",
    "            action = dist.mean.squeeze()\n",
    "        else:\n",
    "            action = dist.sample().squeeze()\n",
    "        \n",
    "        # compute the log probability of the action\n",
    "        act_logprob = dist.log_prob(action).sum(dim=-1).squeeze()\n",
    "        ########## Your code ends here. ###########\n",
    "\n",
    "        return action, act_logprob\n",
    "\n",
    "    def record(self, observation, action_prob, next_observation, reward, done):\n",
    "        self.states.append(torch.tensor(observation, dtype=torch.float32))\n",
    "        self.action_probs.append(action_prob)\n",
    "        self.rewards.append(torch.tensor([reward], dtype=torch.float32))\n",
    "        self.dones.append(torch.tensor([done], dtype=torch.float32))\n",
    "        self.next_states.append(torch.tensor(next_observation, dtype=torch.float32))\n",
    "\n",
    "    def load(self, filepath):\n",
    "        d = torch.load(filepath)\n",
    "        self.policy.load_state_dict(d['policy'])\n",
    "        self.value.load_state_dict(d['value'])\n",
    "    \n",
    "    def save(self, filepath):\n",
    "        torch.save({\n",
    "            'policy': self.policy.state_dict(),\n",
    "            'value': self.value.state_dict(),\n",
    "        }, filepath)"
   ]
  },
  {
   "cell_type": "code",
   "execution_count": 4,
   "id": "c970385d",
   "metadata": {
    "deletable": false,
    "editable": false,
    "nbgrader": {
     "cell_type": "code",
     "checksum": "5af7194a025f5c6a09d1e4bd68084daa",
     "grade": true,
     "grade_id": "cell-9122872aaa786a57",
     "locked": true,
     "points": 2,
     "schema_version": 3,
     "solution": false,
     "task": false
    },
    "tags": []
   },
   "outputs": [],
   "source": [
    "# Test Policy\n",
    "def test_policy_class():\n",
    "    policy = Policy(4, 1)\n",
    "    x = torch.Tensor((1.,2.,3.,4.)).reshape((1,4))\n",
    "    assert isinstance( policy.forward(x),Normal)\n",
    "    assert policy.actor_logstd.requires_grad\n",
    "\n",
    "test_policy_class()"
   ]
  },
  {
   "cell_type": "code",
   "execution_count": 5,
   "id": "1267fbc6",
   "metadata": {
    "deletable": false,
    "editable": false,
    "nbgrader": {
     "cell_type": "code",
     "checksum": "5febcc7f2101dfdefd5cc2c30d37ae57",
     "grade": true,
     "grade_id": "cell-43cbda8b39fe293e",
     "locked": true,
     "points": 2,
     "schema_version": 3,
     "solution": false,
     "task": false
    },
    "tags": []
   },
   "outputs": [
    {
     "name": "stdout",
     "output_type": "stream",
     "text": [
      "Numpy/Torch/Random Seed:  43\n"
     ]
    }
   ],
   "source": [
    "#Test get_action method\n",
    "def test_get_action_1():\n",
    "    cfg_path=Path().cwd()/'cfg'/'pg_ac.yaml'\n",
    "    cfg_args=dict(save_video=False,testing=False,seed=43)\n",
    "    env, cfg = t.setup(cfg_path, cfg_args=cfg_args)\n",
    "    agent = PG(cfg.state_shape[0], cfg.action_dim, cfg.lr, cfg.gamma)\n",
    "    obs = np.array([ 0.00978977, -0.00972236, -0.00706408,  0.00517535])\n",
    "    action = -2.0871510059805587e-05\n",
    "    assert np.allclose(agent.get_action(obs,True)[0].item(),action,atol=1e-03)\n",
    "\n",
    "    agent2 = PG(cfg.state_shape[0], cfg.action_dim, cfg.lr, cfg.gamma)\n",
    "    assert tuple(agent2.get_action(obs,True)[1].shape) == ()\n",
    "\n",
    "test_get_action_1()"
   ]
  },
  {
   "cell_type": "code",
   "execution_count": 6,
   "id": "f1baa5e6",
   "metadata": {
    "deletable": false,
    "editable": false,
    "nbgrader": {
     "cell_type": "code",
     "checksum": "70ac43e68631b7ae6e31f11b62e2eece",
     "grade": true,
     "grade_id": "cell-5bfa2cf43da8fc00",
     "locked": true,
     "points": 2,
     "schema_version": 3,
     "solution": false,
     "task": false
    },
    "tags": []
   },
   "outputs": [
    {
     "name": "stdout",
     "output_type": "stream",
     "text": [
      "Numpy/Torch/Random Seed:  43\n"
     ]
    }
   ],
   "source": [
    "def test_update_function_1():\n",
    "    cfg_path=Path().cwd()/'cfg'/'pg_ac.yaml'\n",
    "    cfg_args=dict(save_video=False,testing=False,seed=43)\n",
    "    env, cfg = t.setup(cfg_path, cfg_args=cfg_args)\n",
    "    agent = PG(4, cfg.action_dim, cfg.lr, cfg.gamma)\n",
    "\n",
    "    rewards = torch.tensor([1., 1., 1., 1.])\n",
    "    action_probs = torch.tensor([-0.9286, -1.1687, -1.2360, -1.7127])\n",
    "    next_states = torch.tensor([[-0.0079,  0.0071, -0.1703,  0.4061],\n",
    "                                [-0.0274,  0.0524, -0.8029,  1.8464],\n",
    "                                [-0.0633,  0.1342, -0.9942,  2.2525],\n",
    "                                [-0.0931,  0.2017, -0.4978,  1.1568]])\n",
    "    dones = torch.tensor([0., 0., 0., 1.])\n",
    "    states = torch.tensor([[-4.6008e-03, -1.0801e-03,  7.1437e-03, -1.4543e-03],\n",
    "                           [-7.8743e-03,  7.0946e-03, -1.7034e-01,  4.0608e-01],\n",
    "                           [-2.7371e-02,  5.2385e-02, -8.0292e-01,  1.8464e+00],\n",
    "                           [-6.3307e-02,  1.3419e-01, -9.9422e-01,  2.2525e+00]])\n",
    "    values = torch.tensor([-0.0013, -0.0137, -0.0187, -0.0289])\n",
    "\n",
    "    target_values = agent.calculate_target_values(rewards, next_states, dones)        \n",
    "    critic_loss = agent.calculate_critic_loss(values, target_values)        \n",
    "    adv = agent.calculate_advantage(values, target_values)\n",
    "    actor_loss = agent.calculate_actor_loss(action_probs, adv)\n",
    "\n",
    "    assert torch.allclose(target_values, torch.tensor([0.9864, 0.9815, 0.9714, 1.0000]), atol = 0.001)\n",
    "    assert torch.allclose(critic_loss, torch.tensor(1.0012), atol = 0.001)\n",
    "    assert torch.allclose(adv, torch.tensor([-0.6645, -0.2767, -0.5391,  1.4803]), atol = 0.001)\n",
    "    assert torch.allclose(actor_loss, torch.tensor(0.2321), atol = 0.001)\n",
    "\n",
    "test_update_function_1()"
   ]
  },
  {
   "cell_type": "code",
   "execution_count": 7,
   "id": "04b263dd",
   "metadata": {
    "deletable": false,
    "editable": false,
    "nbgrader": {
     "cell_type": "code",
     "checksum": "47065bb40c58f45827cb38b377996854",
     "grade": true,
     "grade_id": "cell-dcf55b2136722f26",
     "locked": true,
     "points": 5,
     "schema_version": 3,
     "solution": false,
     "task": false
    }
   },
   "outputs": [],
   "source": [
    "%%capture --no-stdout\n",
    "\"TEST\""
   ]
  },
  {
   "cell_type": "code",
   "execution_count": 8,
   "id": "d39c60f7",
   "metadata": {
    "deletable": false,
    "editable": false,
    "nbgrader": {
     "cell_type": "code",
     "checksum": "c35464679797db9e10ee0bb6646ff6e0",
     "grade": true,
     "grade_id": "cell-289c24f5539ad5d3",
     "locked": true,
     "points": 7,
     "schema_version": 3,
     "solution": false,
     "task": false
    }
   },
   "outputs": [],
   "source": [
    "%%capture --no-stdout\n",
    "\"TEST\""
   ]
  },
  {
   "cell_type": "code",
   "execution_count": 9,
   "id": "8c6b02f2-891d-40c1-b01a-9bd370009a3a",
   "metadata": {
    "tags": []
   },
   "outputs": [],
   "source": [
    "# init agent\n",
    "with open(Path().cwd()/'cfg'/'pg_ac.yaml', 'r') as f:\n",
    "    cfg = u.Struct(**yaml.safe_load(f))\n",
    "    \n",
    "agent = PG(cfg.state_shape[0], cfg.action_dim, cfg.lr, cfg.gamma)"
   ]
  },
  {
   "cell_type": "code",
   "execution_count": 10,
   "id": "5fad7389",
   "metadata": {
    "tags": []
   },
   "outputs": [
    {
     "name": "stdout",
     "output_type": "stream",
     "text": [
      "Numpy/Torch/Random Seed:  837\n",
      "{'episode': 0, 'timesteps': 5, 'ep_reward': 5.0}\n",
      "{'episode': 50, 'timesteps': 4, 'ep_reward': 4.0}\n",
      "{'episode': 100, 'timesteps': 10, 'ep_reward': 10.0}\n",
      "{'episode': 150, 'timesteps': 5, 'ep_reward': 5.0}\n",
      "{'episode': 200, 'timesteps': 10, 'ep_reward': 10.0}\n",
      "{'episode': 250, 'timesteps': 29, 'ep_reward': 29.0}\n",
      "{'episode': 300, 'timesteps': 27, 'ep_reward': 27.0}\n",
      "{'episode': 350, 'timesteps': 63, 'ep_reward': 63.0}\n",
      "{'episode': 400, 'timesteps': 26, 'ep_reward': 26.0}\n",
      "{'episode': 450, 'timesteps': 75, 'ep_reward': 75.0}\n",
      "{'episode': 500, 'timesteps': 180, 'ep_reward': 180.0}\n",
      "{'episode': 550, 'timesteps': 65, 'ep_reward': 65.0}\n",
      "{'episode': 600, 'timesteps': 184, 'ep_reward': 184.0}\n",
      "{'episode': 650, 'timesteps': 95, 'ep_reward': 95.0}\n",
      "{'episode': 700, 'timesteps': 111, 'ep_reward': 111.0}\n",
      "{'episode': 750, 'timesteps': 149, 'ep_reward': 149.0}\n",
      "{'episode': 800, 'timesteps': 302, 'ep_reward': 302.0}\n",
      "{'episode': 850, 'timesteps': 119, 'ep_reward': 119.0}\n",
      "{'episode': 900, 'timesteps': 187, 'ep_reward': 187.0}\n",
      "{'episode': 950, 'timesteps': 46, 'ep_reward': 46.0}\n",
      "{'episode': 1000, 'timesteps': 290, 'ep_reward': 290.0}\n",
      "{'episode': 1050, 'timesteps': 30, 'ep_reward': 30.0}\n",
      "{'episode': 1100, 'timesteps': 20, 'ep_reward': 20.0}\n",
      "{'episode': 1150, 'timesteps': 11, 'ep_reward': 11.0}\n",
      "{'episode': 1200, 'timesteps': 12, 'ep_reward': 12.0}\n",
      "{'episode': 1250, 'timesteps': 9, 'ep_reward': 9.0}\n",
      "{'episode': 1300, 'timesteps': 15, 'ep_reward': 15.0}\n",
      "{'episode': 1350, 'timesteps': 13, 'ep_reward': 13.0}\n",
      "{'episode': 1400, 'timesteps': 18, 'ep_reward': 18.0}\n",
      "{'episode': 1450, 'timesteps': 38, 'ep_reward': 38.0}\n",
      "{'episode': 1500, 'timesteps': 19, 'ep_reward': 19.0}\n",
      "{'episode': 1550, 'timesteps': 13, 'ep_reward': 13.0}\n",
      "{'episode': 1600, 'timesteps': 62, 'ep_reward': 62.0}\n",
      "{'episode': 1650, 'timesteps': 34, 'ep_reward': 34.0}\n",
      "{'episode': 1700, 'timesteps': 127, 'ep_reward': 127.0}\n",
      "{'episode': 1750, 'timesteps': 116, 'ep_reward': 116.0}\n",
      "{'episode': 1800, 'timesteps': 97, 'ep_reward': 97.0}\n",
      "{'episode': 1850, 'timesteps': 254, 'ep_reward': 254.0}\n",
      "{'episode': 1900, 'timesteps': 106, 'ep_reward': 106.0}\n",
      "{'episode': 1950, 'timesteps': 1000, 'ep_reward': 1000.0}\n",
      "{'episode': 2000, 'timesteps': 1000, 'ep_reward': 1000.0}\n",
      "Saving model to /notebooks/rl2024/ex6/results/InvertedPendulum-v4/model/InvertedPendulum-v4_params.pt\n",
      "------ Training Finished ------\n",
      "Total traning time is 9.056466749310493mins\n"
     ]
    }
   ],
   "source": [
    "if not skip_training:\n",
    "    t.train(agent, cfg_path=Path().cwd()/'cfg'/'pg_ac.yaml', cfg_args={})"
   ]
  },
  {
   "cell_type": "code",
   "execution_count": 11,
   "id": "f8041f0c-73f8-4f23-bbd2-4a976a8b842a",
   "metadata": {
    "tags": []
   },
   "outputs": [
    {
     "name": "stdout",
     "output_type": "stream",
     "text": [
      "Numpy/Torch/Random Seed:  625\n"
     ]
    },
    {
     "data": {
      "image/png": "[encoded data removed]",
      "text/plain": [
       "<Figure size 640x480 with 1 Axes>"
      ]
     },
     "metadata": {},
     "output_type": "display_data"
    }
   ],
   "source": [
    "if not skip_training:\n",
    "    t.plot(cfg_path=Path().cwd()/'cfg'/'pg_ac.yaml',)"
   ]
  },
  {
   "cell_type": "code",
   "execution_count": 12,
   "id": "91d4922b",
   "metadata": {
    "tags": []
   },
   "outputs": [
    {
     "name": "stdout",
     "output_type": "stream",
     "text": [
      "Numpy/Torch/Random Seed:  820\n",
      "Loading model from /notebooks/rl2024/ex6/results/InvertedPendulum-v4/model/InvertedPendulum-v4_params.pt ...\n",
      "Testing ...\n",
      "Moviepy - Building video /notebooks/rl2024/ex6/results/InvertedPendulum-v4/video/test/ex6-episode-0.mp4.\n",
      "Moviepy - Writing video /notebooks/rl2024/ex6/results/InvertedPendulum-v4/video/test/ex6-episode-0.mp4\n",
      "\n"
     ]
    },
    {
     "name": "stderr",
     "output_type": "stream",
     "text": [
      "                                                                \r"
     ]
    },
    {
     "name": "stdout",
     "output_type": "stream",
     "text": [
      "Moviepy - Done !\n",
      "Moviepy - video ready /notebooks/rl2024/ex6/results/InvertedPendulum-v4/video/test/ex6-episode-0.mp4\n",
      "Ep0: Test ep_reward is 1000.0\n",
      "Ep1: Test ep_reward is 1000.0\n",
      "Ep2: Test ep_reward is 1000.0\n",
      "Ep3: Test ep_reward is 1000.0\n",
      "Ep4: Test ep_reward is 1000.0\n",
      "Ep5: Test ep_reward is 1000.0\n",
      "Ep6: Test ep_reward is 1000.0\n",
      "Ep7: Test ep_reward is 1000.0\n",
      "Ep8: Test ep_reward is 1000.0\n",
      "Moviepy - Building video /notebooks/rl2024/ex6/results/InvertedPendulum-v4/video/test/ex6-episode-9.mp4.\n",
      "Moviepy - Writing video /notebooks/rl2024/ex6/results/InvertedPendulum-v4/video/test/ex6-episode-9.mp4\n",
      "\n"
     ]
    },
    {
     "name": "stderr",
     "output_type": "stream",
     "text": [
      "                                                                \r"
     ]
    },
    {
     "name": "stdout",
     "output_type": "stream",
     "text": [
      "Moviepy - Done !\n",
      "Moviepy - video ready /notebooks/rl2024/ex6/results/InvertedPendulum-v4/video/test/ex6-episode-9.mp4\n",
      "Ep9: Test ep_reward is 1000.0\n",
      "Average test reward: 1000.0\n"
     ]
    }
   ],
   "source": [
    "if not skip_training:\n",
    "    t.test(agent, cfg_path=Path().cwd()/'cfg'/'pg_ac.yaml', cfg_args=dict(save_video=True,testing=True))"
   ]
  },
  {
   "cell_type": "code",
   "execution_count": 13,
   "id": "2edb556b-187c-4662-a1df-60dc87917930",
   "metadata": {
    "tags": []
   },
   "outputs": [
    {
     "data": {
      "text/html": [
       "<video loop autoplay  >\n",
       " <source src=\"data:video/mp4;base64,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\" type=\"video/mp4\">\n",
       " Your browser does not support the video tag.\n",
       " </video>"
      ],
      "text/plain": [
       "<IPython.core.display.Video object>"
      ]
     },
     "metadata": {},
     "output_type": "display_data"
    }
   ],
   "source": [
    "if not skip_training:\n",
    "    video = Video(Path().cwd()/'results'/'InvertedPendulum-v4'/'video'/'test'/'ex6-episode-0.mp4',\n",
    "    embed=True, html_attributes=\"loop autoplay\") # Set html_attributes=\"controls\" for video control\n",
    "    display(video)"
   ]
  },
  {
   "cell_type": "code",
   "execution_count": 14,
   "id": "54640b32",
   "metadata": {
    "deletable": false,
    "editable": false,
    "nbgrader": {
     "cell_type": "code",
     "checksum": "f83948189f99f90b4085c2d303b547ad",
     "grade": true,
     "grade_id": "cell-09564874b32375cf",
     "locked": true,
     "points": 2,
     "schema_version": 3,
     "solution": false,
     "task": false
    }
   },
   "outputs": [],
   "source": [
    "%%capture --no-stdout\n",
    "\"TEST\""
   ]
  },
  {
   "cell_type": "markdown",
   "id": "7d432792",
   "metadata": {
    "deletable": false,
    "editable": false,
    "nbgrader": {
     "cell_type": "markdown",
     "checksum": "13b4216c279dd80ba4512330ce718bdd",
     "grade": false,
     "grade_id": "cell-5db97bc9fe1b8e96",
     "locked": true,
     "schema_version": 3,
     "solution": false,
     "task": false
    }
   },
   "source": [
    "<a id='Q1'></a>\n",
    "<div class=\" alert alert-warning\">\n",
    "    <h3><b>Student Question 1.1</b> Relationship between actor-critic and REINFORCE with baseline (10 points) </h3> \n",
    "\n",
    "What is the relationship between actor-critic and REINFORCE with baseline?\n",
    "            \n",
    "🔝\t<a href='#TOC'><b>Table of Contents</b></a>\n",
    "</div>"
   ]
  },
  {
   "cell_type": "markdown",
   "id": "a7662c12-4b22-48ca-85cc-d389b77dde79",
   "metadata": {
    "deletable": false,
    "editable": false,
    "nbgrader": {
     "cell_type": "markdown",
     "checksum": "9e350ecacc72df859b8ea1279bba8b20",
     "grade": false,
     "grade_id": "cell-af3dccf8c7e41349",
     "locked": true,
     "schema_version": 3,
     "solution": false,
     "task": false
    },
    "tags": []
   },
   "source": [
    "<h5><b>Options</b></h5>\n",
    "\n",
    "1. Both actor-critic and REINFORCE use boostrapping to update their parameters. \n",
    "2. Both methods use Monte-Carlo estimates for updating their parameters.\n",
    "3. The baseline in REINFORCE is the state value function for actor-critic.\n",
    "4. Both methods require full-trajectories before they can update their parameters.\n",
    "5. Both methods can update their parameters during each timestep.\n",
    "6. Actor-critic uses bootstrapping to update its parameters while REINFORCE does not.\n",
    "\n",
    "Select the **two** most appropriate answers. Selecting more than 2 answers results in zero points from this task."
   ]
  },
  {
   "cell_type": "code",
   "execution_count": 18,
   "id": "4875db20-b21d-4c28-b2ca-c7f2e46fffe2",
   "metadata": {
    "tags": []
   },
   "outputs": [],
   "source": [
    "sq1_1 = [3, 6] # Select the most approapriate answers"
   ]
  },
  {
   "cell_type": "markdown",
   "id": "6f4810fe-a2b7-44cd-93b1-a1b2d082c2ad",
   "metadata": {
    "deletable": false,
    "editable": false,
    "nbgrader": {
     "cell_type": "markdown",
     "checksum": "3beea4b65c1e4d7a95ab8a1ae1600bb9",
     "grade": false,
     "grade_id": "cell-d838cdbf4808c6ff",
     "locked": true,
     "schema_version": 3,
     "solution": false,
     "task": false
    },
    "tags": []
   },
   "source": [
    "The cells below are used for autograding."
   ]
  },
  {
   "cell_type": "code",
   "execution_count": 19,
   "id": "1a6b3310-7e16-4408-9d74-6555c1fc7ed3",
   "metadata": {
    "deletable": false,
    "editable": false,
    "nbgrader": {
     "cell_type": "code",
     "checksum": "1de4c11b92c17597e4ac9050802b3eaa",
     "grade": true,
     "grade_id": "cell-0e00f76e0960536d",
     "locked": true,
     "points": 0,
     "schema_version": 3,
     "solution": false,
     "task": false
    },
    "tags": []
   },
   "outputs": [],
   "source": [
    "assert 1 <= len(sq1_1) <= 2\n",
    "assert set(sq1_1) < set(range(1, 7))"
   ]
  },
  {
   "cell_type": "code",
   "execution_count": null,
   "id": "950514e5-56e9-488d-a9b6-b231e7d5262e",
   "metadata": {
    "deletable": false,
    "editable": false,
    "nbgrader": {
     "cell_type": "code",
     "checksum": "1702e61d7c49da20be80181b5c9d064e",
     "grade": true,
     "grade_id": "cell-26b1c613a6f06ff9",
     "locked": true,
     "points": 5,
     "schema_version": 3,
     "solution": false,
     "task": false
    },
    "tags": []
   },
   "outputs": [],
   "source": []
  },
  {
   "cell_type": "code",
   "execution_count": null,
   "id": "3a5dfa77-0d04-4384-84df-88f14550d8b4",
   "metadata": {
    "deletable": false,
    "editable": false,
    "nbgrader": {
     "cell_type": "code",
     "checksum": "e76afee0618f7073f2ebef8e947b465b",
     "grade": true,
     "grade_id": "cell-9aa5fe70a03ab88f",
     "locked": true,
     "points": 5,
     "schema_version": 3,
     "solution": false,
     "task": false
    },
    "tags": []
   },
   "outputs": [],
   "source": []
  },
  {
   "cell_type": "markdown",
   "id": "8b88b08e",
   "metadata": {
    "deletable": false,
    "editable": false,
    "nbgrader": {
     "cell_type": "markdown",
     "checksum": "a57b56668c6aed15c3d1dcaa0c5e0be7",
     "grade": false,
     "grade_id": "cell-05a96ed4b54d0a0c",
     "locked": true,
     "schema_version": 3,
     "solution": false,
     "task": false
    },
    "tags": []
   },
   "source": [
    "<a id='Q2'></a>\n",
    "<div class=\" alert alert-warning\">\n",
    "    <h3><b>Student Question 1.2</b> Advantage (5 points) </h3> \n",
    "\n",
    "How can the value of advantage be intuitively interpreted? (Your answer should not be longer than 10 sentences).\n",
    "    \n",
    "🔝\t<a href='#TOC'><b>Table of Contents</b></a>\n",
    "</div>"
   ]
  },
  {
   "cell_type": "markdown",
   "id": "aa3bac64",
   "metadata": {
    "deletable": false,
    "nbgrader": {
     "cell_type": "markdown",
     "checksum": "c97f49161088ab47f866a42e9dd909a4",
     "grade": true,
     "grade_id": "cell-7ea462e5360ad185",
     "locked": false,
     "points": 5,
     "schema_version": 3,
     "solution": true,
     "task": false
    }
   },
   "source": [
    "The advantage function tells us how much better or worse an action is compared to the average action at this state. If the advantage is positive, that action was better than expected, and vice versa."
   ]
  },
  {
   "cell_type": "markdown",
   "id": "a4db6c52",
   "metadata": {
    "deletable": false,
    "editable": false,
    "nbgrader": {
     "cell_type": "markdown",
     "checksum": "c98268593ad7780ce49ad86a1e8f987c",
     "grade": false,
     "grade_id": "cell-9a3f2bca9650b8b5",
     "locked": true,
     "schema_version": 3,
     "solution": false,
     "task": false
    }
   },
   "source": [
    "<a id='Q3'></a>\n",
    "<div class=\" alert alert-warning\">\n",
    "    <h3><b>Student Question 1.3</b> Bias and Variance Analysis (10 points) </h3> \n",
    "\n",
    "How does the implemented actor-critic method compare to REINFORCE in terms of bias and variance of the policy gradient estimation? Explain your answer. (Your answer should not be longer than 10 sentences).\n",
    "    \n",
    "🔝\t<a href='#TOC'><b>Table of Contents</b></a>\n",
    "</div>"
   ]
  },
  {
   "cell_type": "markdown",
   "id": "106d5916",
   "metadata": {
    "deletable": false,
    "nbgrader": {
     "cell_type": "markdown",
     "checksum": "22175d03d3f4b28b443696bddd162af1",
     "grade": true,
     "grade_id": "cell-74f7530fd7c8fef3",
     "locked": false,
     "points": 10,
     "schema_version": 3,
     "solution": true,
     "task": false
    }
   },
   "source": [
    "The actor-critic method reduces the variance of policy gradient estimation compared to REINFORCE by using a learned value  \n",
    "function to estimate the expected return, rather than relying solely on sampled returns. This stabilizes the updates by  \n",
    "providing a more accurate estimate of future rewards. However, this comes at the cost of introducing bias because the value  \n",
    "function approximation might be imperfect. In contrast, REINFORCE is unbiased since it directly uses actual returns, but it  \n",
    "suffers from high variance, leading to slow and unstable learning."
   ]
  },
  {
   "cell_type": "markdown",
   "id": "c0ddf4e7",
   "metadata": {
    "deletable": false,
    "editable": false,
    "nbgrader": {
     "cell_type": "markdown",
     "checksum": "600033db53328bf2d16d465b3aff68b2",
     "grade": false,
     "grade_id": "cell-57372114b7deef34",
     "locked": true,
     "schema_version": 3,
     "solution": false,
     "task": false
    }
   },
   "source": [
    "<a id='Q4'></a>\n",
    "<div class=\" alert alert-warning\">\n",
    "    <h3><b>Student Question 1.4</b> Controlling bias-variance tradeoff (10 points) </h3> \n",
    "\n",
    "How could the bias-variance tradeoff in actor-critic be controlled? (Your answer should not be longer than 10 sentences).\n",
    "    \n",
    "🔝\t<a href='#TOC'><b>Table of Contents</b></a>\n",
    "</div>"
   ]
  },
  {
   "cell_type": "markdown",
   "id": "03501249",
   "metadata": {
    "deletable": false,
    "nbgrader": {
     "cell_type": "markdown",
     "checksum": "719a83ac1efc28a51317240ab20e3168",
     "grade": true,
     "grade_id": "cell-bd37bcc37ef9fff6",
     "locked": false,
     "points": 10,
     "schema_version": 3,
     "solution": true,
     "task": false
    }
   },
   "source": [
    "The bias-variance tradeoff could be controlled by adjusting the accuracy of the critic’s value function. A better  \n",
    "critic can reduce bias, but risks higher variance in the updates. On the other hand, a simpler value function  \n",
    "decreases variance, but increases bias. Alternatively, something like different learning rates for actor and critic  \n",
    "could help control the tradeoff."
   ]
  },
  {
   "cell_type": "markdown",
   "id": "edc1e91e-5715-45b9-a2c2-4e8f0fd2fff2",
   "metadata": {
    "deletable": false,
    "editable": false,
    "nbgrader": {
     "cell_type": "markdown",
     "checksum": "2b1c367010d08ca7088a8580a920eb7d",
     "grade": false,
     "grade_id": "cell-5f74898cf5b2c817",
     "locked": true,
     "schema_version": 3,
     "solution": false,
     "task": false
    },
    "tags": []
   },
   "source": [
    "\n",
    "# 3. Submitting <a id='3.'></a>\n",
    "Ensure all tasks and questions (in ```ex6_DDPG.ipynb``` and ```ex6_PG_AC.ipynb```) are answered and the necessary plots are saved in the appropriate locations. The relevant plots and files needed to be submitted for this assignment are:\n",
    "\n",
    "\n",
    "- Training performance plots:\n",
    "  - `pg_ac.png`: Training performance plots in terms of episode and episodic reward\n",
    "<br>\n",
    "\n",
    "  \n",
    "- Model files:\n",
    "  - `InvertedPendulum-v4_params.pt`: Trained model\n",
    "\n",
    "\n",
    "Ensure the model files and plots are saved in correct paths:\n",
    "- ```results/InvertedPendulum-v4/pg_ac.png``` Training result\n",
    "- ```results/InvertedPendulum-v4/model/InvertedPendulum-v4_params.pt``` Training Model\n",
    "\n",
    "\n",
    "<span style=\"color:red\"> **# IMPORTANT: DO NOT FORGET ANOTHER TASK IN ```ex6_DDPG.ipynb```** </span>"
   ]
  },
  {
   "cell_type": "code",
   "execution_count": 25,
   "id": "e9269a2b",
   "metadata": {},
   "outputs": [],
   "source": [
    "# Make sure that skip training is set to True before submission\n",
    "assert skip_training == True"
   ]
  },
  {
   "cell_type": "markdown",
   "id": "88b0c6d7-563a-4037-9d4c-ef1422d7b657",
   "metadata": {
    "deletable": false,
    "editable": false,
    "nbgrader": {
     "cell_type": "markdown",
     "checksum": "89e8fd20b8a0b3230d25dc0d69962803",
     "grade": false,
     "grade_id": "cell-99c320f0e224a0c8",
     "locked": true,
     "schema_version": 3,
     "solution": false,
     "task": false
    },
    "tags": []
   },
   "source": [
    "## 3.1 Feedback <a id='3.1'></a>\n",
    "\n",
    "In order to help the staff of the course as well as the forthcoming students, it would be great if you could answer to the following questions in your submission:"
   ]
  },
  {
   "cell_type": "markdown",
   "id": "de2e7c42-211b-419b-a3c9-daeab45597f1",
   "metadata": {
    "deletable": false,
    "editable": false,
    "nbgrader": {
     "cell_type": "markdown",
     "checksum": "016e22b96662eff6447f48f25857a230",
     "grade": false,
     "grade_id": "cell-09e6cdb34c71b984",
     "locked": true,
     "schema_version": 3,
     "solution": false,
     "task": false
    },
    "tags": []
   },
   "source": [
    "1) How much time did you spend solving this exercise? (change the ```hrs``` variable below to a floating point number representing the number of hours taken e.g. 5.43)"
   ]
  },
  {
   "cell_type": "code",
   "execution_count": 23,
   "id": "3cfa3e0a-f247-43f4-92cc-5b6e99c79049",
   "metadata": {
    "tags": []
   },
   "outputs": [],
   "source": [
    "hrs = 5"
   ]
  },
  {
   "cell_type": "markdown",
   "id": "83e49e4f-0803-4d11-9ac4-9f77bedfa52f",
   "metadata": {
    "deletable": false,
    "editable": false,
    "nbgrader": {
     "cell_type": "markdown",
     "checksum": "7c96fba064ac1fc2b00810fc1dc378a0",
     "grade": false,
     "grade_id": "cell-fa64dd33a8c904ef",
     "locked": true,
     "schema_version": 3,
     "solution": false,
     "task": false
    },
    "tags": []
   },
   "source": [
    "2) Difficulty of each task/question from 1-5 (int or float)"
   ]
  },
  {
   "cell_type": "code",
   "execution_count": 22,
   "id": "f8fc5ed4-1957-4c5c-97fb-de2dc7c4362e",
   "metadata": {
    "tags": []
   },
   "outputs": [],
   "source": [
    "T1 = 4   # Implementing DDPG (20 points)\n",
    "Q1 = 4   # Question 1.1 Relationship between actor-critic and REINFORCE with baseline (10 points)\n",
    "Q2 = 4   # Question 1.2 Advantage (5 points)\n",
    "Q3 = 4   # Question 1.3 Bias and Variance Analysis (10 points)\n",
    "Q4 = 4   # Question 1.4 Controlling bias-variance tradeoff (10 points)"
   ]
  },
  {
   "cell_type": "markdown",
   "id": "a8f6cdd1-ea58-4a06-a81b-1d7cc36f14a2",
   "metadata": {
    "deletable": false,
    "editable": false,
    "nbgrader": {
     "cell_type": "markdown",
     "checksum": "4dab816afcbe55502451543d8a576129",
     "grade": false,
     "grade_id": "cell-69fa22cf9bfa78b8",
     "locked": true,
     "schema_version": 3,
     "solution": false,
     "task": false
    },
    "tags": []
   },
   "source": [
    "3) How well did you understand the content of the task/question from 1-5? (int or float)"
   ]
  },
  {
   "cell_type": "code",
   "execution_count": 21,
   "id": "27706e2f-2a35-4a6e-ad07-9af944b96dfe",
   "metadata": {
    "tags": []
   },
   "outputs": [],
   "source": [
    "T1 = 4   # Implementing DDPG (20 points)\n",
    "Q1 = 3   # Question 1.1 Relationship between actor-critic and REINFORCE with baseline (10 points)\n",
    "Q2 = 3   # Question 1.2 Advantage (5 points)\n",
    "Q3 = 3   # Question 1.3 Bias and Variance Analysis (10 points)\n",
    "Q4 = 3   # Question 1.4 Controlling bias-variance tradeoff (10 points)"
   ]
  },
  {
   "cell_type": "markdown",
   "id": "bc810cc9-ba38-480d-a95e-178f875bc744",
   "metadata": {
    "deletable": false,
    "editable": false,
    "nbgrader": {
     "cell_type": "markdown",
     "checksum": "e0204b1b962a537ae2e40333c7dfdbcb",
     "grade": false,
     "grade_id": "cell-2e02694ca4fcfa78",
     "locked": true,
     "schema_version": 3,
     "solution": false,
     "task": false
    },
    "tags": []
   },
   "source": [
    "4) General feedback. Consider questions like:\n",
    "\n",
    "    - Did the content of the lecture relate well with the assignment?\n",
    "    - To what extent did you find the material to be potentially useful for your research and studies?\n",
    "    \n",
    "Please share any additional feedback, suggestions, or comments you have about the lecture, assignment, or course content. Your input is valuable in helping us improve the learning experience."
   ]
  },
  {
   "cell_type": "markdown",
   "id": "ce6d30ad-8d44-4fe5-a642-121200f920d1",
   "metadata": {
    "tags": []
   },
   "source": [
    "DOUBLE CLICK HERE TO EDIT, CLEAR THIS TEXT AND ANSWER HERE"
   ]
  },
  {
   "cell_type": "markdown",
   "id": "785254f3-48b6-44a6-ace6-0eae136d6396",
   "metadata": {
    "deletable": false,
    "editable": false,
    "nbgrader": {
     "cell_type": "markdown",
     "checksum": "c456a1da33caaefda4a4a4c165be11d6",
     "grade": false,
     "grade_id": "cell-5086c1c7c783ad08",
     "locked": true,
     "schema_version": 3,
     "solution": false,
     "task": false
    },
    "tags": []
   },
   "source": [
    "# References <a id='4.'></a>\n",
    "Please use the following section to record references."
   ]
  },
  {
   "cell_type": "code",
   "execution_count": null,
   "id": "1be24169-8a32-4c87-9e15-3f6eee2364a9",
   "metadata": {},
   "outputs": [],
   "source": []
  }
 ],
 "metadata": {
  "kernelspec": {
   "display_name": "Python 3",
   "language": "python",
   "name": "python3"
  },
  "language_info": {
   "codemirror_mode": {
    "name": "ipython",
    "version": 3
   },
   "file_extension": ".py",
   "mimetype": "text/x-python",
   "name": "python",
   "nbconvert_exporter": "python",
   "pygments_lexer": "ipython3",
   "version": "3.10.12"
  }
 },
 "nbformat": 4,
 "nbformat_minor": 5
}
